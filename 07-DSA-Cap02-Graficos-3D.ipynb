{
 "cells": [
  {
   "cell_type": "markdown",
   "metadata": {
    "papermill": {
     "duration": 0.038414,
     "end_time": "2020-08-12T12:39:03.534364",
     "exception": false,
     "start_time": "2020-08-12T12:39:03.495950",
     "status": "completed"
    },
    "tags": []
   },
   "source": [
    "# <font color='blue'>Data Science Academy</font>\n",
    "# <font color='blue'>Visualização de Dados e Design de Dashboards</font>\n",
    "## <font color='blue'>Capítulo 2 - Métodos de Visualização</font>"
   ]
  },
  {
   "cell_type": "markdown",
   "metadata": {},
   "source": [
    "## Gráficos 3D com Plotly"
   ]
  },
  {
   "cell_type": "markdown",
   "metadata": {},
   "source": [
    "![title](imagens/cap02.png)"
   ]
  },
  {
   "cell_type": "markdown",
   "metadata": {},
   "source": [
    "## Pacotes Python Para Manipulação de Dados e Visualização"
   ]
  },
  {
   "cell_type": "code",
   "execution_count": 1,
   "metadata": {},
   "outputs": [],
   "source": [
    "# Para atualizar um pacote, execute o comando abaixo no terminal ou prompt de comando:\n",
    "# pip install -U nome_pacote\n",
    "\n",
    "# Para instalar a versão exata de um pacote, execute o comando abaixo no terminal ou prompt de comando:\n",
    "# !pip install nome_pacote==versão_desejada\n",
    "\n",
    "# Depois de instalar ou atualizar o pacote, reinicie o jupyter notebook.\n",
    "\n",
    "# Instala o pacote watermark. \n",
    "# Esse pacote é usado para gravar as versões de outros pacotes usados neste jupyter notebook.\n",
    "!pip install -q -U watermark"
   ]
  },
  {
   "cell_type": "code",
   "execution_count": 2,
   "metadata": {
    "_cell_guid": "b1076dfc-b9ad-4769-8c92-a6c4dae69d19",
    "_kg_hide-input": true,
    "_uuid": "8f2839f25d086af736a60e9eeb907d3b93b6e0e5",
    "execution": {
     "iopub.execute_input": "2020-08-12T12:39:03.618578Z",
     "iopub.status.busy": "2020-08-12T12:39:03.617758Z",
     "iopub.status.idle": "2020-08-12T12:39:10.086345Z",
     "shell.execute_reply": "2020-08-12T12:39:10.085626Z"
    },
    "papermill": {
     "duration": 6.514564,
     "end_time": "2020-08-12T12:39:10.086503",
     "exception": false,
     "start_time": "2020-08-12T12:39:03.571939",
     "status": "completed"
    },
    "tags": []
   },
   "outputs": [],
   "source": [
    "# Manipulação de Dados\n",
    "import numpy as np\n",
    "import pandas as pd\n",
    "import datetime\n",
    "from datetime import date, timedelta\n",
    "\n",
    "# Plotly\n",
    "import plotly.express as px\n",
    "import plotly.graph_objects as go\n",
    "import plotly.figure_factory as ff\n",
    "from plotly.colors import n_colors\n",
    "from plotly.subplots import make_subplots"
   ]
  },
  {
   "cell_type": "markdown",
   "metadata": {
    "papermill": {
     "duration": 0.037237,
     "end_time": "2020-08-12T12:39:10.161753",
     "exception": false,
     "start_time": "2020-08-12T12:39:10.124516",
     "status": "completed"
    },
    "tags": []
   },
   "source": [
    "## Carregando os Dados"
   ]
  },
  {
   "cell_type": "code",
   "execution_count": 3,
   "metadata": {
    "_kg_hide-input": true,
    "_kg_hide-output": true,
    "execution": {
     "iopub.execute_input": "2020-08-12T12:39:10.252763Z",
     "iopub.status.busy": "2020-08-12T12:39:10.251955Z",
     "iopub.status.idle": "2020-08-12T12:39:43.869018Z",
     "shell.execute_reply": "2020-08-12T12:39:43.868171Z"
    },
    "papermill": {
     "duration": 33.669854,
     "end_time": "2020-08-12T12:39:43.869155",
     "exception": false,
     "start_time": "2020-08-12T12:39:10.199301",
     "status": "completed"
    },
    "tags": []
   },
   "outputs": [
    {
     "data": {
      "text/html": [
       "<div>\n",
       "<style scoped>\n",
       "    .dataframe tbody tr th:only-of-type {\n",
       "        vertical-align: middle;\n",
       "    }\n",
       "\n",
       "    .dataframe tbody tr th {\n",
       "        vertical-align: top;\n",
       "    }\n",
       "\n",
       "    .dataframe thead th {\n",
       "        text-align: right;\n",
       "    }\n",
       "</style>\n",
       "<table border=\"1\" class=\"dataframe\">\n",
       "  <thead>\n",
       "    <tr style=\"text-align: right;\">\n",
       "      <th></th>\n",
       "      <th>world_rank</th>\n",
       "      <th>institution</th>\n",
       "      <th>country</th>\n",
       "      <th>national_rank</th>\n",
       "      <th>quality_of_education</th>\n",
       "      <th>alumni_employment</th>\n",
       "      <th>quality_of_faculty</th>\n",
       "      <th>publications</th>\n",
       "      <th>influence</th>\n",
       "      <th>citations</th>\n",
       "      <th>broad_impact</th>\n",
       "      <th>patents</th>\n",
       "      <th>score</th>\n",
       "      <th>year</th>\n",
       "    </tr>\n",
       "  </thead>\n",
       "  <tbody>\n",
       "    <tr>\n",
       "      <th>0</th>\n",
       "      <td>1</td>\n",
       "      <td>Harvard University</td>\n",
       "      <td>USA</td>\n",
       "      <td>1</td>\n",
       "      <td>7</td>\n",
       "      <td>9</td>\n",
       "      <td>1</td>\n",
       "      <td>1</td>\n",
       "      <td>1</td>\n",
       "      <td>1</td>\n",
       "      <td>NaN</td>\n",
       "      <td>5</td>\n",
       "      <td>100.00</td>\n",
       "      <td>2012</td>\n",
       "    </tr>\n",
       "    <tr>\n",
       "      <th>1</th>\n",
       "      <td>2</td>\n",
       "      <td>Massachusetts Institute of Technology</td>\n",
       "      <td>USA</td>\n",
       "      <td>2</td>\n",
       "      <td>9</td>\n",
       "      <td>17</td>\n",
       "      <td>3</td>\n",
       "      <td>12</td>\n",
       "      <td>4</td>\n",
       "      <td>4</td>\n",
       "      <td>NaN</td>\n",
       "      <td>1</td>\n",
       "      <td>91.67</td>\n",
       "      <td>2012</td>\n",
       "    </tr>\n",
       "    <tr>\n",
       "      <th>2</th>\n",
       "      <td>3</td>\n",
       "      <td>Stanford University</td>\n",
       "      <td>USA</td>\n",
       "      <td>3</td>\n",
       "      <td>17</td>\n",
       "      <td>11</td>\n",
       "      <td>5</td>\n",
       "      <td>4</td>\n",
       "      <td>2</td>\n",
       "      <td>2</td>\n",
       "      <td>NaN</td>\n",
       "      <td>15</td>\n",
       "      <td>89.50</td>\n",
       "      <td>2012</td>\n",
       "    </tr>\n",
       "    <tr>\n",
       "      <th>3</th>\n",
       "      <td>4</td>\n",
       "      <td>University of Cambridge</td>\n",
       "      <td>United Kingdom</td>\n",
       "      <td>1</td>\n",
       "      <td>10</td>\n",
       "      <td>24</td>\n",
       "      <td>4</td>\n",
       "      <td>16</td>\n",
       "      <td>16</td>\n",
       "      <td>11</td>\n",
       "      <td>NaN</td>\n",
       "      <td>50</td>\n",
       "      <td>86.17</td>\n",
       "      <td>2012</td>\n",
       "    </tr>\n",
       "    <tr>\n",
       "      <th>4</th>\n",
       "      <td>5</td>\n",
       "      <td>California Institute of Technology</td>\n",
       "      <td>USA</td>\n",
       "      <td>4</td>\n",
       "      <td>2</td>\n",
       "      <td>29</td>\n",
       "      <td>7</td>\n",
       "      <td>37</td>\n",
       "      <td>22</td>\n",
       "      <td>22</td>\n",
       "      <td>NaN</td>\n",
       "      <td>18</td>\n",
       "      <td>85.21</td>\n",
       "      <td>2012</td>\n",
       "    </tr>\n",
       "  </tbody>\n",
       "</table>\n",
       "</div>"
      ],
      "text/plain": [
       "   world_rank                            institution         country  \\\n",
       "0           1                     Harvard University             USA   \n",
       "1           2  Massachusetts Institute of Technology             USA   \n",
       "2           3                    Stanford University             USA   \n",
       "3           4                University of Cambridge  United Kingdom   \n",
       "4           5     California Institute of Technology             USA   \n",
       "\n",
       "   national_rank  quality_of_education  alumni_employment  quality_of_faculty  \\\n",
       "0              1                     7                  9                   1   \n",
       "1              2                     9                 17                   3   \n",
       "2              3                    17                 11                   5   \n",
       "3              1                    10                 24                   4   \n",
       "4              4                     2                 29                   7   \n",
       "\n",
       "   publications  influence  citations  broad_impact  patents   score  year  \n",
       "0             1          1          1           NaN        5  100.00  2012  \n",
       "1            12          4          4           NaN        1   91.67  2012  \n",
       "2             4          2          2           NaN       15   89.50  2012  \n",
       "3            16         16         11           NaN       50   86.17  2012  \n",
       "4            37         22         22           NaN       18   85.21  2012  "
      ]
     },
     "execution_count": 3,
     "metadata": {},
     "output_type": "execute_result"
    }
   ],
   "source": [
    "# Carrega os dados\n",
    "world = pd.read_csv('dados/world-university-rankings-cwurData.csv')\n",
    "world.head()"
   ]
  },
  {
   "cell_type": "code",
   "execution_count": 4,
   "metadata": {},
   "outputs": [
    {
     "data": {
      "text/html": [
       "<div>\n",
       "<style scoped>\n",
       "    .dataframe tbody tr th:only-of-type {\n",
       "        vertical-align: middle;\n",
       "    }\n",
       "\n",
       "    .dataframe tbody tr th {\n",
       "        vertical-align: top;\n",
       "    }\n",
       "\n",
       "    .dataframe thead th {\n",
       "        text-align: right;\n",
       "    }\n",
       "</style>\n",
       "<table border=\"1\" class=\"dataframe\">\n",
       "  <thead>\n",
       "    <tr style=\"text-align: right;\">\n",
       "      <th></th>\n",
       "      <th>sl_no</th>\n",
       "      <th>gender</th>\n",
       "      <th>ssc_p</th>\n",
       "      <th>ssc_b</th>\n",
       "      <th>hsc_p</th>\n",
       "      <th>hsc_b</th>\n",
       "      <th>hsc_s</th>\n",
       "      <th>degree_p</th>\n",
       "      <th>degree_t</th>\n",
       "      <th>workex</th>\n",
       "      <th>etest_p</th>\n",
       "      <th>specialisation</th>\n",
       "      <th>mba_p</th>\n",
       "      <th>status</th>\n",
       "      <th>salary</th>\n",
       "    </tr>\n",
       "  </thead>\n",
       "  <tbody>\n",
       "    <tr>\n",
       "      <th>0</th>\n",
       "      <td>1</td>\n",
       "      <td>M</td>\n",
       "      <td>67.00</td>\n",
       "      <td>Others</td>\n",
       "      <td>91.00</td>\n",
       "      <td>Others</td>\n",
       "      <td>Commerce</td>\n",
       "      <td>58.00</td>\n",
       "      <td>Sci&amp;Tech</td>\n",
       "      <td>No</td>\n",
       "      <td>55.0</td>\n",
       "      <td>Mkt&amp;HR</td>\n",
       "      <td>58.80</td>\n",
       "      <td>Placed</td>\n",
       "      <td>270000.0</td>\n",
       "    </tr>\n",
       "    <tr>\n",
       "      <th>1</th>\n",
       "      <td>2</td>\n",
       "      <td>M</td>\n",
       "      <td>79.33</td>\n",
       "      <td>Central</td>\n",
       "      <td>78.33</td>\n",
       "      <td>Others</td>\n",
       "      <td>Science</td>\n",
       "      <td>77.48</td>\n",
       "      <td>Sci&amp;Tech</td>\n",
       "      <td>Yes</td>\n",
       "      <td>86.5</td>\n",
       "      <td>Mkt&amp;Fin</td>\n",
       "      <td>66.28</td>\n",
       "      <td>Placed</td>\n",
       "      <td>200000.0</td>\n",
       "    </tr>\n",
       "    <tr>\n",
       "      <th>2</th>\n",
       "      <td>3</td>\n",
       "      <td>M</td>\n",
       "      <td>65.00</td>\n",
       "      <td>Central</td>\n",
       "      <td>68.00</td>\n",
       "      <td>Central</td>\n",
       "      <td>Arts</td>\n",
       "      <td>64.00</td>\n",
       "      <td>Comm&amp;Mgmt</td>\n",
       "      <td>No</td>\n",
       "      <td>75.0</td>\n",
       "      <td>Mkt&amp;Fin</td>\n",
       "      <td>57.80</td>\n",
       "      <td>Placed</td>\n",
       "      <td>250000.0</td>\n",
       "    </tr>\n",
       "    <tr>\n",
       "      <th>3</th>\n",
       "      <td>4</td>\n",
       "      <td>M</td>\n",
       "      <td>56.00</td>\n",
       "      <td>Central</td>\n",
       "      <td>52.00</td>\n",
       "      <td>Central</td>\n",
       "      <td>Science</td>\n",
       "      <td>52.00</td>\n",
       "      <td>Sci&amp;Tech</td>\n",
       "      <td>No</td>\n",
       "      <td>66.0</td>\n",
       "      <td>Mkt&amp;HR</td>\n",
       "      <td>59.43</td>\n",
       "      <td>Not Placed</td>\n",
       "      <td>NaN</td>\n",
       "    </tr>\n",
       "    <tr>\n",
       "      <th>4</th>\n",
       "      <td>5</td>\n",
       "      <td>M</td>\n",
       "      <td>85.80</td>\n",
       "      <td>Central</td>\n",
       "      <td>73.60</td>\n",
       "      <td>Central</td>\n",
       "      <td>Commerce</td>\n",
       "      <td>73.30</td>\n",
       "      <td>Comm&amp;Mgmt</td>\n",
       "      <td>No</td>\n",
       "      <td>96.8</td>\n",
       "      <td>Mkt&amp;Fin</td>\n",
       "      <td>55.50</td>\n",
       "      <td>Placed</td>\n",
       "      <td>425000.0</td>\n",
       "    </tr>\n",
       "  </tbody>\n",
       "</table>\n",
       "</div>"
      ],
      "text/plain": [
       "   sl_no gender  ssc_p    ssc_b  hsc_p    hsc_b     hsc_s  degree_p  \\\n",
       "0      1      M  67.00   Others  91.00   Others  Commerce     58.00   \n",
       "1      2      M  79.33  Central  78.33   Others   Science     77.48   \n",
       "2      3      M  65.00  Central  68.00  Central      Arts     64.00   \n",
       "3      4      M  56.00  Central  52.00  Central   Science     52.00   \n",
       "4      5      M  85.80  Central  73.60  Central  Commerce     73.30   \n",
       "\n",
       "    degree_t workex  etest_p specialisation  mba_p      status    salary  \n",
       "0   Sci&Tech     No     55.0         Mkt&HR  58.80      Placed  270000.0  \n",
       "1   Sci&Tech    Yes     86.5        Mkt&Fin  66.28      Placed  200000.0  \n",
       "2  Comm&Mgmt     No     75.0        Mkt&Fin  57.80      Placed  250000.0  \n",
       "3   Sci&Tech     No     66.0         Mkt&HR  59.43  Not Placed       NaN  \n",
       "4  Comm&Mgmt     No     96.8        Mkt&Fin  55.50      Placed  425000.0  "
      ]
     },
     "execution_count": 4,
     "metadata": {},
     "output_type": "execute_result"
    }
   ],
   "source": [
    "# Carrega os dados\n",
    "campus = pd.read_csv('dados/factors-affecting-campus-placement-Placement_Data_Full_Class.csv')\n",
    "campus.head()"
   ]
  },
  {
   "cell_type": "markdown",
   "metadata": {
    "papermill": {
     "duration": 0.568373,
     "end_time": "2020-08-12T12:40:10.060884",
     "exception": false,
     "start_time": "2020-08-12T12:40:09.492511",
     "status": "completed"
    },
    "tags": []
   },
   "source": [
    "### 3D Scatter"
   ]
  },
  {
   "cell_type": "markdown",
   "metadata": {
    "papermill": {
     "duration": 0.083224,
     "end_time": "2020-08-12T12:40:10.227535",
     "exception": false,
     "start_time": "2020-08-12T12:40:10.144311",
     "status": "completed"
    },
    "tags": []
   },
   "source": [
    "**Objetivo**: Exibir relação entre 3 variáveis\n",
    "\n",
    "Como ssc%, hsc% e degree% estão relacionados entre si para alunos empregados e não empregados?"
   ]
  },
  {
   "cell_type": "code",
   "execution_count": 17,
   "metadata": {
    "execution": {
     "iopub.execute_input": "2020-08-12T12:40:10.413982Z",
     "iopub.status.busy": "2020-08-12T12:40:10.413156Z",
     "iopub.status.idle": "2020-08-12T12:40:10.530752Z",
     "shell.execute_reply": "2020-08-12T12:40:10.530007Z"
    },
    "papermill": {
     "duration": 0.220046,
     "end_time": "2020-08-12T12:40:10.530885",
     "exception": false,
     "start_time": "2020-08-12T12:40:10.310839",
     "status": "completed"
    },
    "tags": []
   },
   "outputs": [
    {
     "data": {
      "application/vnd.plotly.v1+json": {
       "config": {
        "plotlyServerURL": "https://plot.ly"
       },
       "data": [
        {
         "hovertemplate": "status=Placed<br>ssc_p=%{x}<br>hsc_p=%{y}<br>degree_p=%{z}<extra></extra>",
         "legendgroup": "Placed",
         "marker": {
          "color": "#636efa",
          "symbol": "circle"
         },
         "mode": "markers",
         "name": "Placed",
         "scene": "scene",
         "showlegend": true,
         "type": "scatter3d",
         "x": [
          67,
          79.33,
          65,
          85.8,
          82,
          73,
          58,
          69.6,
          77,
          65,
          63,
          60,
          62,
          79,
          69.8,
          77.4,
          76.5,
          71,
          63,
          76.76,
          64,
          61,
          87,
          69,
          79,
          73,
          81,
          78,
          87,
          77,
          63,
          63,
          75.2,
          80,
          74,
          60.4,
          63,
          68,
          74,
          52.6,
          74,
          84.2,
          86.5,
          80,
          83,
          80.92,
          73,
          82,
          75,
          84.86,
          64.6,
          56.6,
          66.5,
          64,
          84,
          69,
          81.7,
          84,
          70,
          83.84,
          62,
          66,
          84,
          85,
          60.23,
          58,
          73,
          76,
          69,
          63,
          77,
          73,
          69,
          82,
          61,
          69.5,
          58,
          73.96,
          65,
          73,
          68.2,
          77,
          76,
          60.8,
          64,
          66.5,
          74,
          67,
          84,
          79,
          72,
          80.4,
          76.7,
          74.9,
          67,
          73,
          77.44,
          72,
          67,
          82,
          77,
          65,
          85,
          77.67,
          89.4,
          62,
          70,
          77,
          71,
          65,
          75.4,
          49,
          53,
          84.2,
          66.5,
          87,
          74.2,
          63,
          67.16,
          62,
          80,
          73,
          73.24,
          59,
          73,
          68,
          65,
          65,
          88,
          78.5,
          67,
          65.2,
          60,
          66,
          72,
          83.96,
          69,
          69,
          70,
          55.68,
          74,
          61,
          83.33,
          62,
          80.6,
          58,
          67,
          74
         ],
         "y": [
          91,
          78.33,
          68,
          73.6,
          64,
          79,
          61,
          68.4,
          87,
          75,
          66.2,
          67,
          65,
          76,
          60.8,
          60,
          97.7,
          79,
          67,
          76.5,
          73.5,
          81,
          65,
          78,
          76,
          58,
          68,
          77,
          87,
          73,
          60,
          62,
          73.2,
          70,
          60,
          66.6,
          71.4,
          76,
          62,
          65.58,
          70,
          73.4,
          64.2,
          73,
          74,
          78.5,
          73,
          61,
          70.29,
          67,
          83.83,
          64.8,
          70.4,
          80,
          90.9,
          62,
          63,
          79,
          63,
          89.83,
          63,
          62,
          75,
          90,
          69,
          62,
          78,
          70,
          73,
          72,
          61,
          78,
          63,
          90,
          82,
          70,
          61,
          79,
          68,
          63,
          72.8,
          75,
          80,
          68.4,
          67,
          66.8,
          59,
          71,
          73,
          61,
          60,
          73.4,
          89.7,
          57,
          68,
          64,
          92,
          56,
          63,
          64,
          70,
          64.8,
          60,
          64.89,
          65.66,
          63,
          74,
          86,
          58.66,
          65,
          60.5,
          59,
          63,
          69.4,
          62.5,
          74,
          87.6,
          67,
          72.5,
          62,
          80,
          58,
          50.83,
          60,
          97,
          56,
          71.5,
          77,
          72,
          65.5,
          61,
          61.4,
          63,
          76,
          63,
          53,
          65,
          60,
          63,
          61.33,
          73,
          62,
          78,
          72,
          82,
          60,
          67,
          66
         ],
         "z": [
          58,
          77.48,
          64,
          73.3,
          66,
          72,
          60,
          78.3,
          59,
          69,
          65.6,
          70,
          66,
          85,
          72.23,
          64.74,
          78.86,
          66,
          66,
          67.5,
          73,
          66.4,
          81,
          72,
          65.6,
          66,
          64,
          80,
          68,
          81,
          57,
          68,
          68.4,
          72,
          69,
          65,
          61.4,
          74,
          68,
          72.11,
          72,
          66.89,
          67.4,
          75,
          66,
          67,
          66,
          62,
          71,
          78,
          71.72,
          70.2,
          71.93,
          65,
          64.5,
          69,
          67,
          68,
          70,
          77.2,
          64,
          73,
          69,
          82,
          66,
          64,
          65,
          76,
          65,
          68,
          68,
          73,
          65,
          83,
          69,
          72,
          61,
          67,
          69,
          66,
          66.6,
          73,
          78,
          64.6,
          69.6,
          69.3,
          73,
          64.33,
          73,
          75.5,
          69,
          77.72,
          66,
          62,
          64,
          77,
          72,
          69,
          72,
          73,
          59,
          69.5,
          73.43,
          70.67,
          71.25,
          66,
          65,
          56,
          58,
          75,
          84,
          65,
          60,
          65,
          60.9,
          65,
          77.25,
          64,
          63.35,
          60,
          72,
          56,
          64.27,
          56,
          79,
          68,
          62.8,
          69,
          78,
          67,
          72,
          64.8,
          56,
          72,
          77.5,
          91,
          57,
          65,
          66,
          56.87,
          73,
          65,
          61,
          65,
          77.6,
          72,
          73,
          58
         ]
        },
        {
         "hovertemplate": "status=Not Placed<br>ssc_p=%{x}<br>hsc_p=%{y}<br>degree_p=%{z}<extra></extra>",
         "legendgroup": "Not Placed",
         "marker": {
          "color": "#EF553B",
          "symbol": "circle"
         },
         "mode": "markers",
         "name": "Not Placed",
         "scene": "scene",
         "showlegend": true,
         "type": "scatter3d",
         "x": [
          56,
          55,
          46,
          58,
          47,
          62,
          55,
          63,
          52.58,
          62,
          67,
          62,
          51,
          74,
          49,
          76,
          70.89,
          50,
          54.4,
          40.89,
          61,
          54,
          69.7,
          59,
          69,
          63,
          59.6,
          52,
          52,
          70.5,
          54,
          45,
          59,
          61.08,
          52,
          51,
          58,
          62,
          47,
          66,
          52,
          44,
          51.57,
          67,
          52,
          55.6,
          63.3,
          67.9,
          48,
          59.96,
          63.4,
          52,
          63,
          77.8,
          62,
          52,
          56.28,
          52,
          61.8,
          54,
          64,
          52,
          67,
          54.2,
          41,
          43,
          62
         ],
         "y": [
          52,
          49.8,
          49.2,
          70,
          55,
          47,
          67,
          66,
          54.6,
          67,
          53,
          51,
          44,
          63.16,
          39,
          64,
          71.98,
          37,
          61.12,
          45.83,
          70,
          47,
          47,
          62,
          62,
          67,
          51,
          57,
          62,
          62.5,
          82,
          57,
          64,
          50,
          63,
          54,
          40,
          65,
          59,
          64,
          50,
          58,
          74.66,
          63,
          49,
          51,
          78.33,
          62,
          51,
          42.16,
          67.2,
          52,
          62,
          64,
          60.33,
          65,
          62.83,
          64,
          47,
          77.6,
          70.2,
          55,
          70,
          63,
          42,
          60,
          58
         ],
         "z": [
          52,
          67.25,
          79,
          61,
          65,
          50,
          64,
          64,
          50.2,
          58,
          65,
          52,
          57,
          65,
          65,
          72,
          65.6,
          52,
          56.2,
          53,
          64,
          57,
          72.7,
          77.5,
          66,
          74,
          60,
          50.8,
          54,
          61,
          63,
          58,
          58,
          54,
          65,
          61,
          59,
          60,
          64,
          60,
          61,
          55,
          59.9,
          64,
          58,
          57.5,
          74,
          67,
          58,
          61.26,
          60,
          55,
          65,
          64.2,
          64.21,
          57,
          59.79,
          61,
          54.38,
          69.2,
          61,
          56.3,
          65,
          58,
          60,
          65,
          53
         ]
        }
       ],
       "layout": {
        "legend": {
         "title": {
          "text": "status"
         },
         "tracegroupgap": 0
        },
        "margin": {
         "t": 60
        },
        "scene": {
         "domain": {
          "x": [
           0,
           1
          ],
          "y": [
           0,
           1
          ]
         },
         "xaxis": {
          "title": {
           "text": "SSC %"
          }
         },
         "yaxis": {
          "title": {
           "text": "HSC %"
          }
         },
         "zaxis": {
          "title": {
           "text": "Degree %"
          }
         }
        },
        "template": {
         "data": {
          "bar": [
           {
            "error_x": {
             "color": "#2a3f5f"
            },
            "error_y": {
             "color": "#2a3f5f"
            },
            "marker": {
             "line": {
              "color": "#E5ECF6",
              "width": 0.5
             }
            },
            "type": "bar"
           }
          ],
          "barpolar": [
           {
            "marker": {
             "line": {
              "color": "#E5ECF6",
              "width": 0.5
             }
            },
            "type": "barpolar"
           }
          ],
          "carpet": [
           {
            "aaxis": {
             "endlinecolor": "#2a3f5f",
             "gridcolor": "white",
             "linecolor": "white",
             "minorgridcolor": "white",
             "startlinecolor": "#2a3f5f"
            },
            "baxis": {
             "endlinecolor": "#2a3f5f",
             "gridcolor": "white",
             "linecolor": "white",
             "minorgridcolor": "white",
             "startlinecolor": "#2a3f5f"
            },
            "type": "carpet"
           }
          ],
          "choropleth": [
           {
            "colorbar": {
             "outlinewidth": 0,
             "ticks": ""
            },
            "type": "choropleth"
           }
          ],
          "contour": [
           {
            "colorbar": {
             "outlinewidth": 0,
             "ticks": ""
            },
            "colorscale": [
             [
              0,
              "#0d0887"
             ],
             [
              0.1111111111111111,
              "#46039f"
             ],
             [
              0.2222222222222222,
              "#7201a8"
             ],
             [
              0.3333333333333333,
              "#9c179e"
             ],
             [
              0.4444444444444444,
              "#bd3786"
             ],
             [
              0.5555555555555556,
              "#d8576b"
             ],
             [
              0.6666666666666666,
              "#ed7953"
             ],
             [
              0.7777777777777778,
              "#fb9f3a"
             ],
             [
              0.8888888888888888,
              "#fdca26"
             ],
             [
              1,
              "#f0f921"
             ]
            ],
            "type": "contour"
           }
          ],
          "contourcarpet": [
           {
            "colorbar": {
             "outlinewidth": 0,
             "ticks": ""
            },
            "type": "contourcarpet"
           }
          ],
          "heatmap": [
           {
            "colorbar": {
             "outlinewidth": 0,
             "ticks": ""
            },
            "colorscale": [
             [
              0,
              "#0d0887"
             ],
             [
              0.1111111111111111,
              "#46039f"
             ],
             [
              0.2222222222222222,
              "#7201a8"
             ],
             [
              0.3333333333333333,
              "#9c179e"
             ],
             [
              0.4444444444444444,
              "#bd3786"
             ],
             [
              0.5555555555555556,
              "#d8576b"
             ],
             [
              0.6666666666666666,
              "#ed7953"
             ],
             [
              0.7777777777777778,
              "#fb9f3a"
             ],
             [
              0.8888888888888888,
              "#fdca26"
             ],
             [
              1,
              "#f0f921"
             ]
            ],
            "type": "heatmap"
           }
          ],
          "heatmapgl": [
           {
            "colorbar": {
             "outlinewidth": 0,
             "ticks": ""
            },
            "colorscale": [
             [
              0,
              "#0d0887"
             ],
             [
              0.1111111111111111,
              "#46039f"
             ],
             [
              0.2222222222222222,
              "#7201a8"
             ],
             [
              0.3333333333333333,
              "#9c179e"
             ],
             [
              0.4444444444444444,
              "#bd3786"
             ],
             [
              0.5555555555555556,
              "#d8576b"
             ],
             [
              0.6666666666666666,
              "#ed7953"
             ],
             [
              0.7777777777777778,
              "#fb9f3a"
             ],
             [
              0.8888888888888888,
              "#fdca26"
             ],
             [
              1,
              "#f0f921"
             ]
            ],
            "type": "heatmapgl"
           }
          ],
          "histogram": [
           {
            "marker": {
             "colorbar": {
              "outlinewidth": 0,
              "ticks": ""
             }
            },
            "type": "histogram"
           }
          ],
          "histogram2d": [
           {
            "colorbar": {
             "outlinewidth": 0,
             "ticks": ""
            },
            "colorscale": [
             [
              0,
              "#0d0887"
             ],
             [
              0.1111111111111111,
              "#46039f"
             ],
             [
              0.2222222222222222,
              "#7201a8"
             ],
             [
              0.3333333333333333,
              "#9c179e"
             ],
             [
              0.4444444444444444,
              "#bd3786"
             ],
             [
              0.5555555555555556,
              "#d8576b"
             ],
             [
              0.6666666666666666,
              "#ed7953"
             ],
             [
              0.7777777777777778,
              "#fb9f3a"
             ],
             [
              0.8888888888888888,
              "#fdca26"
             ],
             [
              1,
              "#f0f921"
             ]
            ],
            "type": "histogram2d"
           }
          ],
          "histogram2dcontour": [
           {
            "colorbar": {
             "outlinewidth": 0,
             "ticks": ""
            },
            "colorscale": [
             [
              0,
              "#0d0887"
             ],
             [
              0.1111111111111111,
              "#46039f"
             ],
             [
              0.2222222222222222,
              "#7201a8"
             ],
             [
              0.3333333333333333,
              "#9c179e"
             ],
             [
              0.4444444444444444,
              "#bd3786"
             ],
             [
              0.5555555555555556,
              "#d8576b"
             ],
             [
              0.6666666666666666,
              "#ed7953"
             ],
             [
              0.7777777777777778,
              "#fb9f3a"
             ],
             [
              0.8888888888888888,
              "#fdca26"
             ],
             [
              1,
              "#f0f921"
             ]
            ],
            "type": "histogram2dcontour"
           }
          ],
          "mesh3d": [
           {
            "colorbar": {
             "outlinewidth": 0,
             "ticks": ""
            },
            "type": "mesh3d"
           }
          ],
          "parcoords": [
           {
            "line": {
             "colorbar": {
              "outlinewidth": 0,
              "ticks": ""
             }
            },
            "type": "parcoords"
           }
          ],
          "pie": [
           {
            "automargin": true,
            "type": "pie"
           }
          ],
          "scatter": [
           {
            "marker": {
             "colorbar": {
              "outlinewidth": 0,
              "ticks": ""
             }
            },
            "type": "scatter"
           }
          ],
          "scatter3d": [
           {
            "line": {
             "colorbar": {
              "outlinewidth": 0,
              "ticks": ""
             }
            },
            "marker": {
             "colorbar": {
              "outlinewidth": 0,
              "ticks": ""
             }
            },
            "type": "scatter3d"
           }
          ],
          "scattercarpet": [
           {
            "marker": {
             "colorbar": {
              "outlinewidth": 0,
              "ticks": ""
             }
            },
            "type": "scattercarpet"
           }
          ],
          "scattergeo": [
           {
            "marker": {
             "colorbar": {
              "outlinewidth": 0,
              "ticks": ""
             }
            },
            "type": "scattergeo"
           }
          ],
          "scattergl": [
           {
            "marker": {
             "colorbar": {
              "outlinewidth": 0,
              "ticks": ""
             }
            },
            "type": "scattergl"
           }
          ],
          "scattermapbox": [
           {
            "marker": {
             "colorbar": {
              "outlinewidth": 0,
              "ticks": ""
             }
            },
            "type": "scattermapbox"
           }
          ],
          "scatterpolar": [
           {
            "marker": {
             "colorbar": {
              "outlinewidth": 0,
              "ticks": ""
             }
            },
            "type": "scatterpolar"
           }
          ],
          "scatterpolargl": [
           {
            "marker": {
             "colorbar": {
              "outlinewidth": 0,
              "ticks": ""
             }
            },
            "type": "scatterpolargl"
           }
          ],
          "scatterternary": [
           {
            "marker": {
             "colorbar": {
              "outlinewidth": 0,
              "ticks": ""
             }
            },
            "type": "scatterternary"
           }
          ],
          "surface": [
           {
            "colorbar": {
             "outlinewidth": 0,
             "ticks": ""
            },
            "colorscale": [
             [
              0,
              "#0d0887"
             ],
             [
              0.1111111111111111,
              "#46039f"
             ],
             [
              0.2222222222222222,
              "#7201a8"
             ],
             [
              0.3333333333333333,
              "#9c179e"
             ],
             [
              0.4444444444444444,
              "#bd3786"
             ],
             [
              0.5555555555555556,
              "#d8576b"
             ],
             [
              0.6666666666666666,
              "#ed7953"
             ],
             [
              0.7777777777777778,
              "#fb9f3a"
             ],
             [
              0.8888888888888888,
              "#fdca26"
             ],
             [
              1,
              "#f0f921"
             ]
            ],
            "type": "surface"
           }
          ],
          "table": [
           {
            "cells": {
             "fill": {
              "color": "#EBF0F8"
             },
             "line": {
              "color": "white"
             }
            },
            "header": {
             "fill": {
              "color": "#C8D4E3"
             },
             "line": {
              "color": "white"
             }
            },
            "type": "table"
           }
          ]
         },
         "layout": {
          "annotationdefaults": {
           "arrowcolor": "#2a3f5f",
           "arrowhead": 0,
           "arrowwidth": 1
          },
          "autotypenumbers": "strict",
          "coloraxis": {
           "colorbar": {
            "outlinewidth": 0,
            "ticks": ""
           }
          },
          "colorscale": {
           "diverging": [
            [
             0,
             "#8e0152"
            ],
            [
             0.1,
             "#c51b7d"
            ],
            [
             0.2,
             "#de77ae"
            ],
            [
             0.3,
             "#f1b6da"
            ],
            [
             0.4,
             "#fde0ef"
            ],
            [
             0.5,
             "#f7f7f7"
            ],
            [
             0.6,
             "#e6f5d0"
            ],
            [
             0.7,
             "#b8e186"
            ],
            [
             0.8,
             "#7fbc41"
            ],
            [
             0.9,
             "#4d9221"
            ],
            [
             1,
             "#276419"
            ]
           ],
           "sequential": [
            [
             0,
             "#0d0887"
            ],
            [
             0.1111111111111111,
             "#46039f"
            ],
            [
             0.2222222222222222,
             "#7201a8"
            ],
            [
             0.3333333333333333,
             "#9c179e"
            ],
            [
             0.4444444444444444,
             "#bd3786"
            ],
            [
             0.5555555555555556,
             "#d8576b"
            ],
            [
             0.6666666666666666,
             "#ed7953"
            ],
            [
             0.7777777777777778,
             "#fb9f3a"
            ],
            [
             0.8888888888888888,
             "#fdca26"
            ],
            [
             1,
             "#f0f921"
            ]
           ],
           "sequentialminus": [
            [
             0,
             "#0d0887"
            ],
            [
             0.1111111111111111,
             "#46039f"
            ],
            [
             0.2222222222222222,
             "#7201a8"
            ],
            [
             0.3333333333333333,
             "#9c179e"
            ],
            [
             0.4444444444444444,
             "#bd3786"
            ],
            [
             0.5555555555555556,
             "#d8576b"
            ],
            [
             0.6666666666666666,
             "#ed7953"
            ],
            [
             0.7777777777777778,
             "#fb9f3a"
            ],
            [
             0.8888888888888888,
             "#fdca26"
            ],
            [
             1,
             "#f0f921"
            ]
           ]
          },
          "colorway": [
           "#636efa",
           "#EF553B",
           "#00cc96",
           "#ab63fa",
           "#FFA15A",
           "#19d3f3",
           "#FF6692",
           "#B6E880",
           "#FF97FF",
           "#FECB52"
          ],
          "font": {
           "color": "#2a3f5f"
          },
          "geo": {
           "bgcolor": "white",
           "lakecolor": "white",
           "landcolor": "#E5ECF6",
           "showlakes": true,
           "showland": true,
           "subunitcolor": "white"
          },
          "hoverlabel": {
           "align": "left"
          },
          "hovermode": "closest",
          "mapbox": {
           "style": "light"
          },
          "paper_bgcolor": "white",
          "plot_bgcolor": "#E5ECF6",
          "polar": {
           "angularaxis": {
            "gridcolor": "white",
            "linecolor": "white",
            "ticks": ""
           },
           "bgcolor": "#E5ECF6",
           "radialaxis": {
            "gridcolor": "white",
            "linecolor": "white",
            "ticks": ""
           }
          },
          "scene": {
           "xaxis": {
            "backgroundcolor": "#E5ECF6",
            "gridcolor": "white",
            "gridwidth": 2,
            "linecolor": "white",
            "showbackground": true,
            "ticks": "",
            "zerolinecolor": "white"
           },
           "yaxis": {
            "backgroundcolor": "#E5ECF6",
            "gridcolor": "white",
            "gridwidth": 2,
            "linecolor": "white",
            "showbackground": true,
            "ticks": "",
            "zerolinecolor": "white"
           },
           "zaxis": {
            "backgroundcolor": "#E5ECF6",
            "gridcolor": "white",
            "gridwidth": 2,
            "linecolor": "white",
            "showbackground": true,
            "ticks": "",
            "zerolinecolor": "white"
           }
          },
          "shapedefaults": {
           "line": {
            "color": "#2a3f5f"
           }
          },
          "ternary": {
           "aaxis": {
            "gridcolor": "white",
            "linecolor": "white",
            "ticks": ""
           },
           "baxis": {
            "gridcolor": "white",
            "linecolor": "white",
            "ticks": ""
           },
           "bgcolor": "#E5ECF6",
           "caxis": {
            "gridcolor": "white",
            "linecolor": "white",
            "ticks": ""
           }
          },
          "title": {
           "x": 0.05
          },
          "xaxis": {
           "automargin": true,
           "gridcolor": "white",
           "linecolor": "white",
           "ticks": "",
           "title": {
            "standoff": 15
           },
           "zerolinecolor": "white",
           "zerolinewidth": 2
          },
          "yaxis": {
           "automargin": true,
           "gridcolor": "white",
           "linecolor": "white",
           "ticks": "",
           "title": {
            "standoff": 15
           },
           "zerolinecolor": "white",
           "zerolinewidth": 2
          }
         }
        },
        "title": {
         "text": "Percentual de Candidatos Empregados e Não Empregados"
        }
       }
      },
      "text/html": [
       "<div>                            <div id=\"d46b45c0-dc72-495f-80ba-4884d56a6b83\" class=\"plotly-graph-div\" style=\"height:525px; width:100%;\"></div>            <script type=\"text/javascript\">                require([\"plotly\"], function(Plotly) {                    window.PLOTLYENV=window.PLOTLYENV || {};                                    if (document.getElementById(\"d46b45c0-dc72-495f-80ba-4884d56a6b83\")) {                    Plotly.newPlot(                        \"d46b45c0-dc72-495f-80ba-4884d56a6b83\",                        [{\"hovertemplate\": \"status=Placed<br>ssc_p=%{x}<br>hsc_p=%{y}<br>degree_p=%{z}<extra></extra>\", \"legendgroup\": \"Placed\", \"marker\": {\"color\": \"#636efa\", \"symbol\": \"circle\"}, \"mode\": \"markers\", \"name\": \"Placed\", \"scene\": \"scene\", \"showlegend\": true, \"type\": \"scatter3d\", \"x\": [67.0, 79.33, 65.0, 85.8, 82.0, 73.0, 58.0, 69.6, 77.0, 65.0, 63.0, 60.0, 62.0, 79.0, 69.8, 77.4, 76.5, 71.0, 63.0, 76.76, 64.0, 61.0, 87.0, 69.0, 79.0, 73.0, 81.0, 78.0, 87.0, 77.0, 63.0, 63.0, 75.2, 80.0, 74.0, 60.4, 63.0, 68.0, 74.0, 52.6, 74.0, 84.2, 86.5, 80.0, 83.0, 80.92, 73.0, 82.0, 75.0, 84.86, 64.6, 56.6, 66.5, 64.0, 84.0, 69.0, 81.7, 84.0, 70.0, 83.84, 62.0, 66.0, 84.0, 85.0, 60.23, 58.0, 73.0, 76.0, 69.0, 63.0, 77.0, 73.0, 69.0, 82.0, 61.0, 69.5, 58.0, 73.96, 65.0, 73.0, 68.2, 77.0, 76.0, 60.8, 64.0, 66.5, 74.0, 67.0, 84.0, 79.0, 72.0, 80.4, 76.7, 74.9, 67.0, 73.0, 77.44, 72.0, 67.0, 82.0, 77.0, 65.0, 85.0, 77.67, 89.4, 62.0, 70.0, 77.0, 71.0, 65.0, 75.4, 49.0, 53.0, 84.2, 66.5, 87.0, 74.2, 63.0, 67.16, 62.0, 80.0, 73.0, 73.24, 59.0, 73.0, 68.0, 65.0, 65.0, 88.0, 78.5, 67.0, 65.2, 60.0, 66.0, 72.0, 83.96, 69.0, 69.0, 70.0, 55.68, 74.0, 61.0, 83.33, 62.0, 80.6, 58.0, 67.0, 74.0], \"y\": [91.0, 78.33, 68.0, 73.6, 64.0, 79.0, 61.0, 68.4, 87.0, 75.0, 66.2, 67.0, 65.0, 76.0, 60.8, 60.0, 97.7, 79.0, 67.0, 76.5, 73.5, 81.0, 65.0, 78.0, 76.0, 58.0, 68.0, 77.0, 87.0, 73.0, 60.0, 62.0, 73.2, 70.0, 60.0, 66.6, 71.4, 76.0, 62.0, 65.58, 70.0, 73.4, 64.2, 73.0, 74.0, 78.5, 73.0, 61.0, 70.29, 67.0, 83.83, 64.8, 70.4, 80.0, 90.9, 62.0, 63.0, 79.0, 63.0, 89.83, 63.0, 62.0, 75.0, 90.0, 69.0, 62.0, 78.0, 70.0, 73.0, 72.0, 61.0, 78.0, 63.0, 90.0, 82.0, 70.0, 61.0, 79.0, 68.0, 63.0, 72.8, 75.0, 80.0, 68.4, 67.0, 66.8, 59.0, 71.0, 73.0, 61.0, 60.0, 73.4, 89.7, 57.0, 68.0, 64.0, 92.0, 56.0, 63.0, 64.0, 70.0, 64.8, 60.0, 64.89, 65.66, 63.0, 74.0, 86.0, 58.66, 65.0, 60.5, 59.0, 63.0, 69.4, 62.5, 74.0, 87.6, 67.0, 72.5, 62.0, 80.0, 58.0, 50.83, 60.0, 97.0, 56.0, 71.5, 77.0, 72.0, 65.5, 61.0, 61.4, 63.0, 76.0, 63.0, 53.0, 65.0, 60.0, 63.0, 61.33, 73.0, 62.0, 78.0, 72.0, 82.0, 60.0, 67.0, 66.0], \"z\": [58.0, 77.48, 64.0, 73.3, 66.0, 72.0, 60.0, 78.3, 59.0, 69.0, 65.6, 70.0, 66.0, 85.0, 72.23, 64.74, 78.86, 66.0, 66.0, 67.5, 73.0, 66.4, 81.0, 72.0, 65.6, 66.0, 64.0, 80.0, 68.0, 81.0, 57.0, 68.0, 68.4, 72.0, 69.0, 65.0, 61.4, 74.0, 68.0, 72.11, 72.0, 66.89, 67.4, 75.0, 66.0, 67.0, 66.0, 62.0, 71.0, 78.0, 71.72, 70.2, 71.93, 65.0, 64.5, 69.0, 67.0, 68.0, 70.0, 77.2, 64.0, 73.0, 69.0, 82.0, 66.0, 64.0, 65.0, 76.0, 65.0, 68.0, 68.0, 73.0, 65.0, 83.0, 69.0, 72.0, 61.0, 67.0, 69.0, 66.0, 66.6, 73.0, 78.0, 64.6, 69.6, 69.3, 73.0, 64.33, 73.0, 75.5, 69.0, 77.72, 66.0, 62.0, 64.0, 77.0, 72.0, 69.0, 72.0, 73.0, 59.0, 69.5, 73.43, 70.67, 71.25, 66.0, 65.0, 56.0, 58.0, 75.0, 84.0, 65.0, 60.0, 65.0, 60.9, 65.0, 77.25, 64.0, 63.35, 60.0, 72.0, 56.0, 64.27, 56.0, 79.0, 68.0, 62.8, 69.0, 78.0, 67.0, 72.0, 64.8, 56.0, 72.0, 77.5, 91.0, 57.0, 65.0, 66.0, 56.87, 73.0, 65.0, 61.0, 65.0, 77.6, 72.0, 73.0, 58.0]}, {\"hovertemplate\": \"status=Not Placed<br>ssc_p=%{x}<br>hsc_p=%{y}<br>degree_p=%{z}<extra></extra>\", \"legendgroup\": \"Not Placed\", \"marker\": {\"color\": \"#EF553B\", \"symbol\": \"circle\"}, \"mode\": \"markers\", \"name\": \"Not Placed\", \"scene\": \"scene\", \"showlegend\": true, \"type\": \"scatter3d\", \"x\": [56.0, 55.0, 46.0, 58.0, 47.0, 62.0, 55.0, 63.0, 52.58, 62.0, 67.0, 62.0, 51.0, 74.0, 49.0, 76.0, 70.89, 50.0, 54.4, 40.89, 61.0, 54.0, 69.7, 59.0, 69.0, 63.0, 59.6, 52.0, 52.0, 70.5, 54.0, 45.0, 59.0, 61.08, 52.0, 51.0, 58.0, 62.0, 47.0, 66.0, 52.0, 44.0, 51.57, 67.0, 52.0, 55.6, 63.3, 67.9, 48.0, 59.96, 63.4, 52.0, 63.0, 77.8, 62.0, 52.0, 56.28, 52.0, 61.8, 54.0, 64.0, 52.0, 67.0, 54.2, 41.0, 43.0, 62.0], \"y\": [52.0, 49.8, 49.2, 70.0, 55.0, 47.0, 67.0, 66.0, 54.6, 67.0, 53.0, 51.0, 44.0, 63.16, 39.0, 64.0, 71.98, 37.0, 61.12, 45.83, 70.0, 47.0, 47.0, 62.0, 62.0, 67.0, 51.0, 57.0, 62.0, 62.5, 82.0, 57.0, 64.0, 50.0, 63.0, 54.0, 40.0, 65.0, 59.0, 64.0, 50.0, 58.0, 74.66, 63.0, 49.0, 51.0, 78.33, 62.0, 51.0, 42.16, 67.2, 52.0, 62.0, 64.0, 60.33, 65.0, 62.83, 64.0, 47.0, 77.6, 70.2, 55.0, 70.0, 63.0, 42.0, 60.0, 58.0], \"z\": [52.0, 67.25, 79.0, 61.0, 65.0, 50.0, 64.0, 64.0, 50.2, 58.0, 65.0, 52.0, 57.0, 65.0, 65.0, 72.0, 65.6, 52.0, 56.2, 53.0, 64.0, 57.0, 72.7, 77.5, 66.0, 74.0, 60.0, 50.8, 54.0, 61.0, 63.0, 58.0, 58.0, 54.0, 65.0, 61.0, 59.0, 60.0, 64.0, 60.0, 61.0, 55.0, 59.9, 64.0, 58.0, 57.5, 74.0, 67.0, 58.0, 61.26, 60.0, 55.0, 65.0, 64.2, 64.21, 57.0, 59.79, 61.0, 54.38, 69.2, 61.0, 56.3, 65.0, 58.0, 60.0, 65.0, 53.0]}],                        {\"legend\": {\"title\": {\"text\": \"status\"}, \"tracegroupgap\": 0}, \"margin\": {\"t\": 60}, \"scene\": {\"domain\": {\"x\": [0.0, 1.0], \"y\": [0.0, 1.0]}, \"xaxis\": {\"title\": {\"text\": \"SSC %\"}}, \"yaxis\": {\"title\": {\"text\": \"HSC %\"}}, \"zaxis\": {\"title\": {\"text\": \"Degree %\"}}}, \"template\": {\"data\": {\"bar\": [{\"error_x\": {\"color\": \"#2a3f5f\"}, \"error_y\": {\"color\": \"#2a3f5f\"}, \"marker\": {\"line\": {\"color\": \"#E5ECF6\", \"width\": 0.5}}, \"type\": \"bar\"}], \"barpolar\": [{\"marker\": {\"line\": {\"color\": \"#E5ECF6\", \"width\": 0.5}}, \"type\": \"barpolar\"}], \"carpet\": [{\"aaxis\": {\"endlinecolor\": \"#2a3f5f\", \"gridcolor\": \"white\", \"linecolor\": \"white\", \"minorgridcolor\": \"white\", \"startlinecolor\": \"#2a3f5f\"}, \"baxis\": {\"endlinecolor\": \"#2a3f5f\", \"gridcolor\": \"white\", \"linecolor\": \"white\", \"minorgridcolor\": \"white\", \"startlinecolor\": \"#2a3f5f\"}, \"type\": \"carpet\"}], \"choropleth\": [{\"colorbar\": {\"outlinewidth\": 0, \"ticks\": \"\"}, \"type\": \"choropleth\"}], \"contour\": [{\"colorbar\": {\"outlinewidth\": 0, \"ticks\": \"\"}, \"colorscale\": [[0.0, \"#0d0887\"], [0.1111111111111111, \"#46039f\"], [0.2222222222222222, \"#7201a8\"], [0.3333333333333333, \"#9c179e\"], [0.4444444444444444, \"#bd3786\"], [0.5555555555555556, \"#d8576b\"], [0.6666666666666666, \"#ed7953\"], [0.7777777777777778, \"#fb9f3a\"], [0.8888888888888888, \"#fdca26\"], [1.0, \"#f0f921\"]], \"type\": \"contour\"}], \"contourcarpet\": [{\"colorbar\": {\"outlinewidth\": 0, \"ticks\": \"\"}, \"type\": \"contourcarpet\"}], \"heatmap\": [{\"colorbar\": {\"outlinewidth\": 0, \"ticks\": \"\"}, \"colorscale\": [[0.0, \"#0d0887\"], [0.1111111111111111, \"#46039f\"], [0.2222222222222222, \"#7201a8\"], [0.3333333333333333, \"#9c179e\"], [0.4444444444444444, \"#bd3786\"], [0.5555555555555556, \"#d8576b\"], [0.6666666666666666, \"#ed7953\"], [0.7777777777777778, \"#fb9f3a\"], [0.8888888888888888, \"#fdca26\"], [1.0, \"#f0f921\"]], \"type\": \"heatmap\"}], \"heatmapgl\": [{\"colorbar\": {\"outlinewidth\": 0, \"ticks\": \"\"}, \"colorscale\": [[0.0, \"#0d0887\"], [0.1111111111111111, \"#46039f\"], [0.2222222222222222, \"#7201a8\"], [0.3333333333333333, \"#9c179e\"], [0.4444444444444444, \"#bd3786\"], [0.5555555555555556, \"#d8576b\"], [0.6666666666666666, \"#ed7953\"], [0.7777777777777778, \"#fb9f3a\"], [0.8888888888888888, \"#fdca26\"], [1.0, \"#f0f921\"]], \"type\": \"heatmapgl\"}], \"histogram\": [{\"marker\": {\"colorbar\": {\"outlinewidth\": 0, \"ticks\": \"\"}}, \"type\": \"histogram\"}], \"histogram2d\": [{\"colorbar\": {\"outlinewidth\": 0, \"ticks\": \"\"}, \"colorscale\": [[0.0, \"#0d0887\"], [0.1111111111111111, \"#46039f\"], [0.2222222222222222, \"#7201a8\"], [0.3333333333333333, \"#9c179e\"], [0.4444444444444444, \"#bd3786\"], [0.5555555555555556, \"#d8576b\"], [0.6666666666666666, \"#ed7953\"], [0.7777777777777778, \"#fb9f3a\"], [0.8888888888888888, \"#fdca26\"], [1.0, \"#f0f921\"]], \"type\": \"histogram2d\"}], \"histogram2dcontour\": [{\"colorbar\": {\"outlinewidth\": 0, \"ticks\": \"\"}, \"colorscale\": [[0.0, \"#0d0887\"], [0.1111111111111111, \"#46039f\"], [0.2222222222222222, \"#7201a8\"], [0.3333333333333333, \"#9c179e\"], [0.4444444444444444, \"#bd3786\"], [0.5555555555555556, \"#d8576b\"], [0.6666666666666666, \"#ed7953\"], [0.7777777777777778, \"#fb9f3a\"], [0.8888888888888888, \"#fdca26\"], [1.0, \"#f0f921\"]], \"type\": \"histogram2dcontour\"}], \"mesh3d\": [{\"colorbar\": {\"outlinewidth\": 0, \"ticks\": \"\"}, \"type\": \"mesh3d\"}], \"parcoords\": [{\"line\": {\"colorbar\": {\"outlinewidth\": 0, \"ticks\": \"\"}}, \"type\": \"parcoords\"}], \"pie\": [{\"automargin\": true, \"type\": \"pie\"}], \"scatter\": [{\"marker\": {\"colorbar\": {\"outlinewidth\": 0, \"ticks\": \"\"}}, \"type\": \"scatter\"}], \"scatter3d\": [{\"line\": {\"colorbar\": {\"outlinewidth\": 0, \"ticks\": \"\"}}, \"marker\": {\"colorbar\": {\"outlinewidth\": 0, \"ticks\": \"\"}}, \"type\": \"scatter3d\"}], \"scattercarpet\": [{\"marker\": {\"colorbar\": {\"outlinewidth\": 0, \"ticks\": \"\"}}, \"type\": \"scattercarpet\"}], \"scattergeo\": [{\"marker\": {\"colorbar\": {\"outlinewidth\": 0, \"ticks\": \"\"}}, \"type\": \"scattergeo\"}], \"scattergl\": [{\"marker\": {\"colorbar\": {\"outlinewidth\": 0, \"ticks\": \"\"}}, \"type\": \"scattergl\"}], \"scattermapbox\": [{\"marker\": {\"colorbar\": {\"outlinewidth\": 0, \"ticks\": \"\"}}, \"type\": \"scattermapbox\"}], \"scatterpolar\": [{\"marker\": {\"colorbar\": {\"outlinewidth\": 0, \"ticks\": \"\"}}, \"type\": \"scatterpolar\"}], \"scatterpolargl\": [{\"marker\": {\"colorbar\": {\"outlinewidth\": 0, \"ticks\": \"\"}}, \"type\": \"scatterpolargl\"}], \"scatterternary\": [{\"marker\": {\"colorbar\": {\"outlinewidth\": 0, \"ticks\": \"\"}}, \"type\": \"scatterternary\"}], \"surface\": [{\"colorbar\": {\"outlinewidth\": 0, \"ticks\": \"\"}, \"colorscale\": [[0.0, \"#0d0887\"], [0.1111111111111111, \"#46039f\"], [0.2222222222222222, \"#7201a8\"], [0.3333333333333333, \"#9c179e\"], [0.4444444444444444, \"#bd3786\"], [0.5555555555555556, \"#d8576b\"], [0.6666666666666666, \"#ed7953\"], [0.7777777777777778, \"#fb9f3a\"], [0.8888888888888888, \"#fdca26\"], [1.0, \"#f0f921\"]], \"type\": \"surface\"}], \"table\": [{\"cells\": {\"fill\": {\"color\": \"#EBF0F8\"}, \"line\": {\"color\": \"white\"}}, \"header\": {\"fill\": {\"color\": \"#C8D4E3\"}, \"line\": {\"color\": \"white\"}}, \"type\": \"table\"}]}, \"layout\": {\"annotationdefaults\": {\"arrowcolor\": \"#2a3f5f\", \"arrowhead\": 0, \"arrowwidth\": 1}, \"autotypenumbers\": \"strict\", \"coloraxis\": {\"colorbar\": {\"outlinewidth\": 0, \"ticks\": \"\"}}, \"colorscale\": {\"diverging\": [[0, \"#8e0152\"], [0.1, \"#c51b7d\"], [0.2, \"#de77ae\"], [0.3, \"#f1b6da\"], [0.4, \"#fde0ef\"], [0.5, \"#f7f7f7\"], [0.6, \"#e6f5d0\"], [0.7, \"#b8e186\"], [0.8, \"#7fbc41\"], [0.9, \"#4d9221\"], [1, \"#276419\"]], \"sequential\": [[0.0, \"#0d0887\"], [0.1111111111111111, \"#46039f\"], [0.2222222222222222, \"#7201a8\"], [0.3333333333333333, \"#9c179e\"], [0.4444444444444444, \"#bd3786\"], [0.5555555555555556, \"#d8576b\"], [0.6666666666666666, \"#ed7953\"], [0.7777777777777778, \"#fb9f3a\"], [0.8888888888888888, \"#fdca26\"], [1.0, \"#f0f921\"]], \"sequentialminus\": [[0.0, \"#0d0887\"], [0.1111111111111111, \"#46039f\"], [0.2222222222222222, \"#7201a8\"], [0.3333333333333333, \"#9c179e\"], [0.4444444444444444, \"#bd3786\"], [0.5555555555555556, \"#d8576b\"], [0.6666666666666666, \"#ed7953\"], [0.7777777777777778, \"#fb9f3a\"], [0.8888888888888888, \"#fdca26\"], [1.0, \"#f0f921\"]]}, \"colorway\": [\"#636efa\", \"#EF553B\", \"#00cc96\", \"#ab63fa\", \"#FFA15A\", \"#19d3f3\", \"#FF6692\", \"#B6E880\", \"#FF97FF\", \"#FECB52\"], \"font\": {\"color\": \"#2a3f5f\"}, \"geo\": {\"bgcolor\": \"white\", \"lakecolor\": \"white\", \"landcolor\": \"#E5ECF6\", \"showlakes\": true, \"showland\": true, \"subunitcolor\": \"white\"}, \"hoverlabel\": {\"align\": \"left\"}, \"hovermode\": \"closest\", \"mapbox\": {\"style\": \"light\"}, \"paper_bgcolor\": \"white\", \"plot_bgcolor\": \"#E5ECF6\", \"polar\": {\"angularaxis\": {\"gridcolor\": \"white\", \"linecolor\": \"white\", \"ticks\": \"\"}, \"bgcolor\": \"#E5ECF6\", \"radialaxis\": {\"gridcolor\": \"white\", \"linecolor\": \"white\", \"ticks\": \"\"}}, \"scene\": {\"xaxis\": {\"backgroundcolor\": \"#E5ECF6\", \"gridcolor\": \"white\", \"gridwidth\": 2, \"linecolor\": \"white\", \"showbackground\": true, \"ticks\": \"\", \"zerolinecolor\": \"white\"}, \"yaxis\": {\"backgroundcolor\": \"#E5ECF6\", \"gridcolor\": \"white\", \"gridwidth\": 2, \"linecolor\": \"white\", \"showbackground\": true, \"ticks\": \"\", \"zerolinecolor\": \"white\"}, \"zaxis\": {\"backgroundcolor\": \"#E5ECF6\", \"gridcolor\": \"white\", \"gridwidth\": 2, \"linecolor\": \"white\", \"showbackground\": true, \"ticks\": \"\", \"zerolinecolor\": \"white\"}}, \"shapedefaults\": {\"line\": {\"color\": \"#2a3f5f\"}}, \"ternary\": {\"aaxis\": {\"gridcolor\": \"white\", \"linecolor\": \"white\", \"ticks\": \"\"}, \"baxis\": {\"gridcolor\": \"white\", \"linecolor\": \"white\", \"ticks\": \"\"}, \"bgcolor\": \"#E5ECF6\", \"caxis\": {\"gridcolor\": \"white\", \"linecolor\": \"white\", \"ticks\": \"\"}}, \"title\": {\"x\": 0.05}, \"xaxis\": {\"automargin\": true, \"gridcolor\": \"white\", \"linecolor\": \"white\", \"ticks\": \"\", \"title\": {\"standoff\": 15}, \"zerolinecolor\": \"white\", \"zerolinewidth\": 2}, \"yaxis\": {\"automargin\": true, \"gridcolor\": \"white\", \"linecolor\": \"white\", \"ticks\": \"\", \"title\": {\"standoff\": 15}, \"zerolinecolor\": \"white\", \"zerolinewidth\": 2}}}, \"title\": {\"text\": \"Percentual de Candidatos Empregados e N\\u00e3o Empregados\"}},                        {\"responsive\": true}                    ).then(function(){\n",
       "                            \n",
       "var gd = document.getElementById('d46b45c0-dc72-495f-80ba-4884d56a6b83');\n",
       "var x = new MutationObserver(function (mutations, observer) {{\n",
       "        var display = window.getComputedStyle(gd).display;\n",
       "        if (!display || display === 'none') {{\n",
       "            console.log([gd, 'removed!']);\n",
       "            Plotly.purge(gd);\n",
       "            observer.disconnect();\n",
       "        }}\n",
       "}});\n",
       "\n",
       "// Listen for the removal of the full notebook cells\n",
       "var notebookContainer = gd.closest('#notebook-container');\n",
       "if (notebookContainer) {{\n",
       "    x.observe(notebookContainer, {childList: true});\n",
       "}}\n",
       "\n",
       "// Listen for the clearing of the current output cell\n",
       "var outputEl = gd.closest('.output');\n",
       "if (outputEl) {{\n",
       "    x.observe(outputEl, {childList: true});\n",
       "}}\n",
       "\n",
       "                        })                };                });            </script>        </div>"
      ]
     },
     "metadata": {},
     "output_type": "display_data"
    }
   ],
   "source": [
    "# Figura\n",
    "fig = px.scatter_3d(campus, x = 'ssc_p', y = 'hsc_p', z = 'degree_p', color = 'status')\n",
    "\n",
    "# Layout\n",
    "fig.update_layout(scene = dict(xaxis_title = 'SSC %',\n",
    "                               yaxis_title = 'HSC %',\n",
    "                               zaxis_title = 'Degree %'),\n",
    "                  title = \"Percentual de Candidatos Empregados e Não Empregados\")\n",
    "\n",
    "# Gráfico\n",
    "fig.show()"
   ]
  },
  {
   "cell_type": "markdown",
   "metadata": {
    "papermill": {
     "duration": 0.080422,
     "end_time": "2020-08-12T12:40:10.695033",
     "exception": false,
     "start_time": "2020-08-12T12:40:10.614611",
     "status": "completed"
    },
    "tags": []
   },
   "source": [
    "### 3D Scatter Colorido"
   ]
  },
  {
   "cell_type": "markdown",
   "metadata": {
    "papermill": {
     "duration": 0.082796,
     "end_time": "2020-08-12T12:40:10.860931",
     "exception": false,
     "start_time": "2020-08-12T12:40:10.778135",
     "status": "completed"
    },
    "tags": []
   },
   "source": [
    "**Objetivo**: Exibir relação entre 3 variáveis com forma e cor diferentes.\n",
    "\n",
    "Mesmo gráfico anterior com shapes e cores diferentes para as variáveis."
   ]
  },
  {
   "cell_type": "code",
   "execution_count": 20,
   "metadata": {
    "execution": {
     "iopub.execute_input": "2020-08-12T12:40:11.050630Z",
     "iopub.status.busy": "2020-08-12T12:40:11.043627Z",
     "iopub.status.idle": "2020-08-12T12:40:11.129535Z",
     "shell.execute_reply": "2020-08-12T12:40:11.130149Z"
    },
    "papermill": {
     "duration": 0.184412,
     "end_time": "2020-08-12T12:40:11.130346",
     "exception": false,
     "start_time": "2020-08-12T12:40:10.945934",
     "status": "completed"
    },
    "tags": []
   },
   "outputs": [
    {
     "data": {
      "application/vnd.plotly.v1+json": {
       "config": {
        "plotlyServerURL": "https://plot.ly"
       },
       "data": [
        {
         "hovertemplate": "status=Placed<br>ssc_p=%{x}<br>hsc_p=%{y}<br>degree_p=%{z}<br>etest_p=%{marker.color}<extra></extra>",
         "legendgroup": "Placed",
         "marker": {
          "color": [
           55,
           86.5,
           75,
           96.8,
           67,
           91.34,
           62,
           60,
           68,
           72,
           60,
           50.48,
           50,
           95,
           55.53,
           92,
           97.4,
           94,
           68,
           73.35,
           52,
           50.89,
           88,
           71,
           58,
           53.7,
           93,
           60,
           95,
           89,
           78,
           64,
           65,
           87,
           78,
           71,
           68,
           80,
           74,
           57.6,
           60,
           61.6,
           59,
           61,
           68.92,
           68.71,
           70,
           89,
           95,
           95.5,
           86,
           84.27,
           61,
           69,
           86.04,
           67,
           86,
           84,
           55,
           78.74,
           67,
           58,
           62,
           92,
           72,
           53.88,
           95.46,
           66,
           70,
           78,
           57.5,
           85,
           55,
           80,
           84,
           57.2,
           58,
           72.15,
           53.7,
           89,
           96,
           80,
           97,
           82.66,
           55.67,
           80.4,
           60,
           64,
           75,
           70,
           55.5,
           81.2,
           90,
           80,
           74.4,
           65,
           94,
           55.6,
           56,
           96,
           58,
           56,
           60,
           89,
           72,
           85,
           83,
           57,
           56,
           83,
           98,
           86,
           70,
           80,
           93.4,
           75,
           75.2,
           75,
           53.04,
           63,
           63.79,
           84,
           64,
           55,
           89,
           73,
           57,
           60,
           82,
           95,
           72,
           93.4,
           80,
           84,
           78,
           59.32,
           73,
           87.55,
           61.28,
           66,
           80,
           62,
           88.56,
           67,
           91,
           74,
           59,
           70
          ],
          "coloraxis": "coloraxis",
          "opacity": 0.7,
          "size": [
           55,
           86.5,
           75,
           96.8,
           67,
           91.34,
           62,
           60,
           68,
           72,
           60,
           50.48,
           50,
           95,
           55.53,
           92,
           97.4,
           94,
           68,
           73.35,
           52,
           50.89,
           88,
           71,
           58,
           53.7,
           93,
           60,
           95,
           89,
           78,
           64,
           65,
           87,
           78,
           71,
           68,
           80,
           74,
           57.6,
           60,
           61.6,
           59,
           61,
           68.92,
           68.71,
           70,
           89,
           95,
           95.5,
           86,
           84.27,
           61,
           69,
           86.04,
           67,
           86,
           84,
           55,
           78.74,
           67,
           58,
           62,
           92,
           72,
           53.88,
           95.46,
           66,
           70,
           78,
           57.5,
           85,
           55,
           80,
           84,
           57.2,
           58,
           72.15,
           53.7,
           89,
           96,
           80,
           97,
           82.66,
           55.67,
           80.4,
           60,
           64,
           75,
           70,
           55.5,
           81.2,
           90,
           80,
           74.4,
           65,
           94,
           55.6,
           56,
           96,
           58,
           56,
           60,
           89,
           72,
           85,
           83,
           57,
           56,
           83,
           98,
           86,
           70,
           80,
           93.4,
           75,
           75.2,
           75,
           53.04,
           63,
           63.79,
           84,
           64,
           55,
           89,
           73,
           57,
           60,
           82,
           95,
           72,
           93.4,
           80,
           84,
           78,
           59.32,
           73,
           87.55,
           61.28,
           66,
           80,
           62,
           88.56,
           67,
           91,
           74,
           59,
           70
          ],
          "sizemode": "area",
          "sizeref": 0.30246913580246915,
          "symbol": "circle"
         },
         "mode": "markers",
         "name": "Placed",
         "scene": "scene",
         "showlegend": true,
         "type": "scatter3d",
         "x": [
          67,
          79.33,
          65,
          85.8,
          82,
          73,
          58,
          69.6,
          77,
          65,
          63,
          60,
          62,
          79,
          69.8,
          77.4,
          76.5,
          71,
          63,
          76.76,
          64,
          61,
          87,
          69,
          79,
          73,
          81,
          78,
          87,
          77,
          63,
          63,
          75.2,
          80,
          74,
          60.4,
          63,
          68,
          74,
          52.6,
          74,
          84.2,
          86.5,
          80,
          83,
          80.92,
          73,
          82,
          75,
          84.86,
          64.6,
          56.6,
          66.5,
          64,
          84,
          69,
          81.7,
          84,
          70,
          83.84,
          62,
          66,
          84,
          85,
          60.23,
          58,
          73,
          76,
          69,
          63,
          77,
          73,
          69,
          82,
          61,
          69.5,
          58,
          73.96,
          65,
          73,
          68.2,
          77,
          76,
          60.8,
          64,
          66.5,
          74,
          67,
          84,
          79,
          72,
          80.4,
          76.7,
          74.9,
          67,
          73,
          77.44,
          72,
          67,
          82,
          77,
          65,
          85,
          77.67,
          89.4,
          62,
          70,
          77,
          71,
          65,
          75.4,
          49,
          53,
          84.2,
          66.5,
          87,
          74.2,
          63,
          67.16,
          62,
          80,
          73,
          73.24,
          59,
          73,
          68,
          65,
          65,
          88,
          78.5,
          67,
          65.2,
          60,
          66,
          72,
          83.96,
          69,
          69,
          70,
          55.68,
          74,
          61,
          83.33,
          62,
          80.6,
          58,
          67,
          74
         ],
         "y": [
          91,
          78.33,
          68,
          73.6,
          64,
          79,
          61,
          68.4,
          87,
          75,
          66.2,
          67,
          65,
          76,
          60.8,
          60,
          97.7,
          79,
          67,
          76.5,
          73.5,
          81,
          65,
          78,
          76,
          58,
          68,
          77,
          87,
          73,
          60,
          62,
          73.2,
          70,
          60,
          66.6,
          71.4,
          76,
          62,
          65.58,
          70,
          73.4,
          64.2,
          73,
          74,
          78.5,
          73,
          61,
          70.29,
          67,
          83.83,
          64.8,
          70.4,
          80,
          90.9,
          62,
          63,
          79,
          63,
          89.83,
          63,
          62,
          75,
          90,
          69,
          62,
          78,
          70,
          73,
          72,
          61,
          78,
          63,
          90,
          82,
          70,
          61,
          79,
          68,
          63,
          72.8,
          75,
          80,
          68.4,
          67,
          66.8,
          59,
          71,
          73,
          61,
          60,
          73.4,
          89.7,
          57,
          68,
          64,
          92,
          56,
          63,
          64,
          70,
          64.8,
          60,
          64.89,
          65.66,
          63,
          74,
          86,
          58.66,
          65,
          60.5,
          59,
          63,
          69.4,
          62.5,
          74,
          87.6,
          67,
          72.5,
          62,
          80,
          58,
          50.83,
          60,
          97,
          56,
          71.5,
          77,
          72,
          65.5,
          61,
          61.4,
          63,
          76,
          63,
          53,
          65,
          60,
          63,
          61.33,
          73,
          62,
          78,
          72,
          82,
          60,
          67,
          66
         ],
         "z": [
          58,
          77.48,
          64,
          73.3,
          66,
          72,
          60,
          78.3,
          59,
          69,
          65.6,
          70,
          66,
          85,
          72.23,
          64.74,
          78.86,
          66,
          66,
          67.5,
          73,
          66.4,
          81,
          72,
          65.6,
          66,
          64,
          80,
          68,
          81,
          57,
          68,
          68.4,
          72,
          69,
          65,
          61.4,
          74,
          68,
          72.11,
          72,
          66.89,
          67.4,
          75,
          66,
          67,
          66,
          62,
          71,
          78,
          71.72,
          70.2,
          71.93,
          65,
          64.5,
          69,
          67,
          68,
          70,
          77.2,
          64,
          73,
          69,
          82,
          66,
          64,
          65,
          76,
          65,
          68,
          68,
          73,
          65,
          83,
          69,
          72,
          61,
          67,
          69,
          66,
          66.6,
          73,
          78,
          64.6,
          69.6,
          69.3,
          73,
          64.33,
          73,
          75.5,
          69,
          77.72,
          66,
          62,
          64,
          77,
          72,
          69,
          72,
          73,
          59,
          69.5,
          73.43,
          70.67,
          71.25,
          66,
          65,
          56,
          58,
          75,
          84,
          65,
          60,
          65,
          60.9,
          65,
          77.25,
          64,
          63.35,
          60,
          72,
          56,
          64.27,
          56,
          79,
          68,
          62.8,
          69,
          78,
          67,
          72,
          64.8,
          56,
          72,
          77.5,
          91,
          57,
          65,
          66,
          56.87,
          73,
          65,
          61,
          65,
          77.6,
          72,
          73,
          58
         ]
        },
        {
         "hovertemplate": "status=Not Placed<br>ssc_p=%{x}<br>hsc_p=%{y}<br>degree_p=%{z}<br>etest_p=%{marker.color}<extra></extra>",
         "legendgroup": "Not Placed",
         "marker": {
          "color": [
           66,
           55,
           74.28,
           54,
           62,
           76,
           60,
           68,
           76,
           77,
           64,
           68.44,
           64,
           65,
           63,
           58,
           68,
           65,
           67,
           71.2,
           68.5,
           89.69,
           79,
           74,
           75,
           82,
           75,
           67,
           72,
           93.91,
           50,
           56.39,
           85,
           71,
           86,
           60,
           73,
           84,
           78,
           60,
           60,
           64.25,
           56.15,
           60,
           62,
           57.63,
           80,
           58.1,
           60,
           54.48,
           58.06,
           67,
           87.5,
           75.5,
           63,
           75,
           60,
           55,
           57,
           95.65,
           50,
           59,
           88,
           79,
           97,
           92.66,
           89
          ],
          "coloraxis": "coloraxis",
          "opacity": 0.7,
          "size": [
           66,
           55,
           74.28,
           54,
           62,
           76,
           60,
           68,
           76,
           77,
           64,
           68.44,
           64,
           65,
           63,
           58,
           68,
           65,
           67,
           71.2,
           68.5,
           89.69,
           79,
           74,
           75,
           82,
           75,
           67,
           72,
           93.91,
           50,
           56.39,
           85,
           71,
           86,
           60,
           73,
           84,
           78,
           60,
           60,
           64.25,
           56.15,
           60,
           62,
           57.63,
           80,
           58.1,
           60,
           54.48,
           58.06,
           67,
           87.5,
           75.5,
           63,
           75,
           60,
           55,
           57,
           95.65,
           50,
           59,
           88,
           79,
           97,
           92.66,
           89
          ],
          "sizemode": "area",
          "sizeref": 0.30246913580246915,
          "symbol": "diamond"
         },
         "mode": "markers",
         "name": "Not Placed",
         "scene": "scene",
         "showlegend": true,
         "type": "scatter3d",
         "x": [
          56,
          55,
          46,
          58,
          47,
          62,
          55,
          63,
          52.58,
          62,
          67,
          62,
          51,
          74,
          49,
          76,
          70.89,
          50,
          54.4,
          40.89,
          61,
          54,
          69.7,
          59,
          69,
          63,
          59.6,
          52,
          52,
          70.5,
          54,
          45,
          59,
          61.08,
          52,
          51,
          58,
          62,
          47,
          66,
          52,
          44,
          51.57,
          67,
          52,
          55.6,
          63.3,
          67.9,
          48,
          59.96,
          63.4,
          52,
          63,
          77.8,
          62,
          52,
          56.28,
          52,
          61.8,
          54,
          64,
          52,
          67,
          54.2,
          41,
          43,
          62
         ],
         "y": [
          52,
          49.8,
          49.2,
          70,
          55,
          47,
          67,
          66,
          54.6,
          67,
          53,
          51,
          44,
          63.16,
          39,
          64,
          71.98,
          37,
          61.12,
          45.83,
          70,
          47,
          47,
          62,
          62,
          67,
          51,
          57,
          62,
          62.5,
          82,
          57,
          64,
          50,
          63,
          54,
          40,
          65,
          59,
          64,
          50,
          58,
          74.66,
          63,
          49,
          51,
          78.33,
          62,
          51,
          42.16,
          67.2,
          52,
          62,
          64,
          60.33,
          65,
          62.83,
          64,
          47,
          77.6,
          70.2,
          55,
          70,
          63,
          42,
          60,
          58
         ],
         "z": [
          52,
          67.25,
          79,
          61,
          65,
          50,
          64,
          64,
          50.2,
          58,
          65,
          52,
          57,
          65,
          65,
          72,
          65.6,
          52,
          56.2,
          53,
          64,
          57,
          72.7,
          77.5,
          66,
          74,
          60,
          50.8,
          54,
          61,
          63,
          58,
          58,
          54,
          65,
          61,
          59,
          60,
          64,
          60,
          61,
          55,
          59.9,
          64,
          58,
          57.5,
          74,
          67,
          58,
          61.26,
          60,
          55,
          65,
          64.2,
          64.21,
          57,
          59.79,
          61,
          54.38,
          69.2,
          61,
          56.3,
          65,
          58,
          60,
          65,
          53
         ]
        }
       ],
       "layout": {
        "coloraxis": {
         "colorbar": {
          "title": {
           "text": "etest_p"
          }
         },
         "colorscale": [
          [
           0,
           "#0d0887"
          ],
          [
           0.1111111111111111,
           "#46039f"
          ],
          [
           0.2222222222222222,
           "#7201a8"
          ],
          [
           0.3333333333333333,
           "#9c179e"
          ],
          [
           0.4444444444444444,
           "#bd3786"
          ],
          [
           0.5555555555555556,
           "#d8576b"
          ],
          [
           0.6666666666666666,
           "#ed7953"
          ],
          [
           0.7777777777777778,
           "#fb9f3a"
          ],
          [
           0.8888888888888888,
           "#fdca26"
          ],
          [
           1,
           "#f0f921"
          ]
         ]
        },
        "legend": {
         "itemsizing": "constant",
         "title": {
          "text": "status"
         },
         "tracegroupgap": 0
        },
        "margin": {
         "b": 0,
         "l": 0,
         "r": 0,
         "t": 0
        },
        "scene": {
         "domain": {
          "x": [
           0,
           1
          ],
          "y": [
           0,
           1
          ]
         },
         "xaxis": {
          "title": {
           "text": "ssc_p"
          }
         },
         "yaxis": {
          "title": {
           "text": "hsc_p"
          }
         },
         "zaxis": {
          "title": {
           "text": "degree_p"
          }
         }
        },
        "template": {
         "data": {
          "bar": [
           {
            "error_x": {
             "color": "#2a3f5f"
            },
            "error_y": {
             "color": "#2a3f5f"
            },
            "marker": {
             "line": {
              "color": "#E5ECF6",
              "width": 0.5
             }
            },
            "type": "bar"
           }
          ],
          "barpolar": [
           {
            "marker": {
             "line": {
              "color": "#E5ECF6",
              "width": 0.5
             }
            },
            "type": "barpolar"
           }
          ],
          "carpet": [
           {
            "aaxis": {
             "endlinecolor": "#2a3f5f",
             "gridcolor": "white",
             "linecolor": "white",
             "minorgridcolor": "white",
             "startlinecolor": "#2a3f5f"
            },
            "baxis": {
             "endlinecolor": "#2a3f5f",
             "gridcolor": "white",
             "linecolor": "white",
             "minorgridcolor": "white",
             "startlinecolor": "#2a3f5f"
            },
            "type": "carpet"
           }
          ],
          "choropleth": [
           {
            "colorbar": {
             "outlinewidth": 0,
             "ticks": ""
            },
            "type": "choropleth"
           }
          ],
          "contour": [
           {
            "colorbar": {
             "outlinewidth": 0,
             "ticks": ""
            },
            "colorscale": [
             [
              0,
              "#0d0887"
             ],
             [
              0.1111111111111111,
              "#46039f"
             ],
             [
              0.2222222222222222,
              "#7201a8"
             ],
             [
              0.3333333333333333,
              "#9c179e"
             ],
             [
              0.4444444444444444,
              "#bd3786"
             ],
             [
              0.5555555555555556,
              "#d8576b"
             ],
             [
              0.6666666666666666,
              "#ed7953"
             ],
             [
              0.7777777777777778,
              "#fb9f3a"
             ],
             [
              0.8888888888888888,
              "#fdca26"
             ],
             [
              1,
              "#f0f921"
             ]
            ],
            "type": "contour"
           }
          ],
          "contourcarpet": [
           {
            "colorbar": {
             "outlinewidth": 0,
             "ticks": ""
            },
            "type": "contourcarpet"
           }
          ],
          "heatmap": [
           {
            "colorbar": {
             "outlinewidth": 0,
             "ticks": ""
            },
            "colorscale": [
             [
              0,
              "#0d0887"
             ],
             [
              0.1111111111111111,
              "#46039f"
             ],
             [
              0.2222222222222222,
              "#7201a8"
             ],
             [
              0.3333333333333333,
              "#9c179e"
             ],
             [
              0.4444444444444444,
              "#bd3786"
             ],
             [
              0.5555555555555556,
              "#d8576b"
             ],
             [
              0.6666666666666666,
              "#ed7953"
             ],
             [
              0.7777777777777778,
              "#fb9f3a"
             ],
             [
              0.8888888888888888,
              "#fdca26"
             ],
             [
              1,
              "#f0f921"
             ]
            ],
            "type": "heatmap"
           }
          ],
          "heatmapgl": [
           {
            "colorbar": {
             "outlinewidth": 0,
             "ticks": ""
            },
            "colorscale": [
             [
              0,
              "#0d0887"
             ],
             [
              0.1111111111111111,
              "#46039f"
             ],
             [
              0.2222222222222222,
              "#7201a8"
             ],
             [
              0.3333333333333333,
              "#9c179e"
             ],
             [
              0.4444444444444444,
              "#bd3786"
             ],
             [
              0.5555555555555556,
              "#d8576b"
             ],
             [
              0.6666666666666666,
              "#ed7953"
             ],
             [
              0.7777777777777778,
              "#fb9f3a"
             ],
             [
              0.8888888888888888,
              "#fdca26"
             ],
             [
              1,
              "#f0f921"
             ]
            ],
            "type": "heatmapgl"
           }
          ],
          "histogram": [
           {
            "marker": {
             "colorbar": {
              "outlinewidth": 0,
              "ticks": ""
             }
            },
            "type": "histogram"
           }
          ],
          "histogram2d": [
           {
            "colorbar": {
             "outlinewidth": 0,
             "ticks": ""
            },
            "colorscale": [
             [
              0,
              "#0d0887"
             ],
             [
              0.1111111111111111,
              "#46039f"
             ],
             [
              0.2222222222222222,
              "#7201a8"
             ],
             [
              0.3333333333333333,
              "#9c179e"
             ],
             [
              0.4444444444444444,
              "#bd3786"
             ],
             [
              0.5555555555555556,
              "#d8576b"
             ],
             [
              0.6666666666666666,
              "#ed7953"
             ],
             [
              0.7777777777777778,
              "#fb9f3a"
             ],
             [
              0.8888888888888888,
              "#fdca26"
             ],
             [
              1,
              "#f0f921"
             ]
            ],
            "type": "histogram2d"
           }
          ],
          "histogram2dcontour": [
           {
            "colorbar": {
             "outlinewidth": 0,
             "ticks": ""
            },
            "colorscale": [
             [
              0,
              "#0d0887"
             ],
             [
              0.1111111111111111,
              "#46039f"
             ],
             [
              0.2222222222222222,
              "#7201a8"
             ],
             [
              0.3333333333333333,
              "#9c179e"
             ],
             [
              0.4444444444444444,
              "#bd3786"
             ],
             [
              0.5555555555555556,
              "#d8576b"
             ],
             [
              0.6666666666666666,
              "#ed7953"
             ],
             [
              0.7777777777777778,
              "#fb9f3a"
             ],
             [
              0.8888888888888888,
              "#fdca26"
             ],
             [
              1,
              "#f0f921"
             ]
            ],
            "type": "histogram2dcontour"
           }
          ],
          "mesh3d": [
           {
            "colorbar": {
             "outlinewidth": 0,
             "ticks": ""
            },
            "type": "mesh3d"
           }
          ],
          "parcoords": [
           {
            "line": {
             "colorbar": {
              "outlinewidth": 0,
              "ticks": ""
             }
            },
            "type": "parcoords"
           }
          ],
          "pie": [
           {
            "automargin": true,
            "type": "pie"
           }
          ],
          "scatter": [
           {
            "marker": {
             "colorbar": {
              "outlinewidth": 0,
              "ticks": ""
             }
            },
            "type": "scatter"
           }
          ],
          "scatter3d": [
           {
            "line": {
             "colorbar": {
              "outlinewidth": 0,
              "ticks": ""
             }
            },
            "marker": {
             "colorbar": {
              "outlinewidth": 0,
              "ticks": ""
             }
            },
            "type": "scatter3d"
           }
          ],
          "scattercarpet": [
           {
            "marker": {
             "colorbar": {
              "outlinewidth": 0,
              "ticks": ""
             }
            },
            "type": "scattercarpet"
           }
          ],
          "scattergeo": [
           {
            "marker": {
             "colorbar": {
              "outlinewidth": 0,
              "ticks": ""
             }
            },
            "type": "scattergeo"
           }
          ],
          "scattergl": [
           {
            "marker": {
             "colorbar": {
              "outlinewidth": 0,
              "ticks": ""
             }
            },
            "type": "scattergl"
           }
          ],
          "scattermapbox": [
           {
            "marker": {
             "colorbar": {
              "outlinewidth": 0,
              "ticks": ""
             }
            },
            "type": "scattermapbox"
           }
          ],
          "scatterpolar": [
           {
            "marker": {
             "colorbar": {
              "outlinewidth": 0,
              "ticks": ""
             }
            },
            "type": "scatterpolar"
           }
          ],
          "scatterpolargl": [
           {
            "marker": {
             "colorbar": {
              "outlinewidth": 0,
              "ticks": ""
             }
            },
            "type": "scatterpolargl"
           }
          ],
          "scatterternary": [
           {
            "marker": {
             "colorbar": {
              "outlinewidth": 0,
              "ticks": ""
             }
            },
            "type": "scatterternary"
           }
          ],
          "surface": [
           {
            "colorbar": {
             "outlinewidth": 0,
             "ticks": ""
            },
            "colorscale": [
             [
              0,
              "#0d0887"
             ],
             [
              0.1111111111111111,
              "#46039f"
             ],
             [
              0.2222222222222222,
              "#7201a8"
             ],
             [
              0.3333333333333333,
              "#9c179e"
             ],
             [
              0.4444444444444444,
              "#bd3786"
             ],
             [
              0.5555555555555556,
              "#d8576b"
             ],
             [
              0.6666666666666666,
              "#ed7953"
             ],
             [
              0.7777777777777778,
              "#fb9f3a"
             ],
             [
              0.8888888888888888,
              "#fdca26"
             ],
             [
              1,
              "#f0f921"
             ]
            ],
            "type": "surface"
           }
          ],
          "table": [
           {
            "cells": {
             "fill": {
              "color": "#EBF0F8"
             },
             "line": {
              "color": "white"
             }
            },
            "header": {
             "fill": {
              "color": "#C8D4E3"
             },
             "line": {
              "color": "white"
             }
            },
            "type": "table"
           }
          ]
         },
         "layout": {
          "annotationdefaults": {
           "arrowcolor": "#2a3f5f",
           "arrowhead": 0,
           "arrowwidth": 1
          },
          "autotypenumbers": "strict",
          "coloraxis": {
           "colorbar": {
            "outlinewidth": 0,
            "ticks": ""
           }
          },
          "colorscale": {
           "diverging": [
            [
             0,
             "#8e0152"
            ],
            [
             0.1,
             "#c51b7d"
            ],
            [
             0.2,
             "#de77ae"
            ],
            [
             0.3,
             "#f1b6da"
            ],
            [
             0.4,
             "#fde0ef"
            ],
            [
             0.5,
             "#f7f7f7"
            ],
            [
             0.6,
             "#e6f5d0"
            ],
            [
             0.7,
             "#b8e186"
            ],
            [
             0.8,
             "#7fbc41"
            ],
            [
             0.9,
             "#4d9221"
            ],
            [
             1,
             "#276419"
            ]
           ],
           "sequential": [
            [
             0,
             "#0d0887"
            ],
            [
             0.1111111111111111,
             "#46039f"
            ],
            [
             0.2222222222222222,
             "#7201a8"
            ],
            [
             0.3333333333333333,
             "#9c179e"
            ],
            [
             0.4444444444444444,
             "#bd3786"
            ],
            [
             0.5555555555555556,
             "#d8576b"
            ],
            [
             0.6666666666666666,
             "#ed7953"
            ],
            [
             0.7777777777777778,
             "#fb9f3a"
            ],
            [
             0.8888888888888888,
             "#fdca26"
            ],
            [
             1,
             "#f0f921"
            ]
           ],
           "sequentialminus": [
            [
             0,
             "#0d0887"
            ],
            [
             0.1111111111111111,
             "#46039f"
            ],
            [
             0.2222222222222222,
             "#7201a8"
            ],
            [
             0.3333333333333333,
             "#9c179e"
            ],
            [
             0.4444444444444444,
             "#bd3786"
            ],
            [
             0.5555555555555556,
             "#d8576b"
            ],
            [
             0.6666666666666666,
             "#ed7953"
            ],
            [
             0.7777777777777778,
             "#fb9f3a"
            ],
            [
             0.8888888888888888,
             "#fdca26"
            ],
            [
             1,
             "#f0f921"
            ]
           ]
          },
          "colorway": [
           "#636efa",
           "#EF553B",
           "#00cc96",
           "#ab63fa",
           "#FFA15A",
           "#19d3f3",
           "#FF6692",
           "#B6E880",
           "#FF97FF",
           "#FECB52"
          ],
          "font": {
           "color": "#2a3f5f"
          },
          "geo": {
           "bgcolor": "white",
           "lakecolor": "white",
           "landcolor": "#E5ECF6",
           "showlakes": true,
           "showland": true,
           "subunitcolor": "white"
          },
          "hoverlabel": {
           "align": "left"
          },
          "hovermode": "closest",
          "mapbox": {
           "style": "light"
          },
          "paper_bgcolor": "white",
          "plot_bgcolor": "#E5ECF6",
          "polar": {
           "angularaxis": {
            "gridcolor": "white",
            "linecolor": "white",
            "ticks": ""
           },
           "bgcolor": "#E5ECF6",
           "radialaxis": {
            "gridcolor": "white",
            "linecolor": "white",
            "ticks": ""
           }
          },
          "scene": {
           "xaxis": {
            "backgroundcolor": "#E5ECF6",
            "gridcolor": "white",
            "gridwidth": 2,
            "linecolor": "white",
            "showbackground": true,
            "ticks": "",
            "zerolinecolor": "white"
           },
           "yaxis": {
            "backgroundcolor": "#E5ECF6",
            "gridcolor": "white",
            "gridwidth": 2,
            "linecolor": "white",
            "showbackground": true,
            "ticks": "",
            "zerolinecolor": "white"
           },
           "zaxis": {
            "backgroundcolor": "#E5ECF6",
            "gridcolor": "white",
            "gridwidth": 2,
            "linecolor": "white",
            "showbackground": true,
            "ticks": "",
            "zerolinecolor": "white"
           }
          },
          "shapedefaults": {
           "line": {
            "color": "#2a3f5f"
           }
          },
          "ternary": {
           "aaxis": {
            "gridcolor": "white",
            "linecolor": "white",
            "ticks": ""
           },
           "baxis": {
            "gridcolor": "white",
            "linecolor": "white",
            "ticks": ""
           },
           "bgcolor": "#E5ECF6",
           "caxis": {
            "gridcolor": "white",
            "linecolor": "white",
            "ticks": ""
           }
          },
          "title": {
           "x": 0.05
          },
          "xaxis": {
           "automargin": true,
           "gridcolor": "white",
           "linecolor": "white",
           "ticks": "",
           "title": {
            "standoff": 15
           },
           "zerolinecolor": "white",
           "zerolinewidth": 2
          },
          "yaxis": {
           "automargin": true,
           "gridcolor": "white",
           "linecolor": "white",
           "ticks": "",
           "title": {
            "standoff": 15
           },
           "zerolinecolor": "white",
           "zerolinewidth": 2
          }
         }
        }
       }
      },
      "text/html": [
       "<div>                            <div id=\"7f710102-5589-468d-a7e1-69942bbd1e0c\" class=\"plotly-graph-div\" style=\"height:525px; width:100%;\"></div>            <script type=\"text/javascript\">                require([\"plotly\"], function(Plotly) {                    window.PLOTLYENV=window.PLOTLYENV || {};                                    if (document.getElementById(\"7f710102-5589-468d-a7e1-69942bbd1e0c\")) {                    Plotly.newPlot(                        \"7f710102-5589-468d-a7e1-69942bbd1e0c\",                        [{\"hovertemplate\": \"status=Placed<br>ssc_p=%{x}<br>hsc_p=%{y}<br>degree_p=%{z}<br>etest_p=%{marker.color}<extra></extra>\", \"legendgroup\": \"Placed\", \"marker\": {\"color\": [55.0, 86.5, 75.0, 96.8, 67.0, 91.34, 62.0, 60.0, 68.0, 72.0, 60.0, 50.48, 50.0, 95.0, 55.53, 92.0, 97.4, 94.0, 68.0, 73.35, 52.0, 50.89, 88.0, 71.0, 58.0, 53.7, 93.0, 60.0, 95.0, 89.0, 78.0, 64.0, 65.0, 87.0, 78.0, 71.0, 68.0, 80.0, 74.0, 57.6, 60.0, 61.6, 59.0, 61.0, 68.92, 68.71, 70.0, 89.0, 95.0, 95.5, 86.0, 84.27, 61.0, 69.0, 86.04, 67.0, 86.0, 84.0, 55.0, 78.74, 67.0, 58.0, 62.0, 92.0, 72.0, 53.88, 95.46, 66.0, 70.0, 78.0, 57.5, 85.0, 55.0, 80.0, 84.0, 57.2, 58.0, 72.15, 53.7, 89.0, 96.0, 80.0, 97.0, 82.66, 55.67, 80.4, 60.0, 64.0, 75.0, 70.0, 55.5, 81.2, 90.0, 80.0, 74.4, 65.0, 94.0, 55.6, 56.0, 96.0, 58.0, 56.0, 60.0, 89.0, 72.0, 85.0, 83.0, 57.0, 56.0, 83.0, 98.0, 86.0, 70.0, 80.0, 93.4, 75.0, 75.2, 75.0, 53.04, 63.0, 63.79, 84.0, 64.0, 55.0, 89.0, 73.0, 57.0, 60.0, 82.0, 95.0, 72.0, 93.4, 80.0, 84.0, 78.0, 59.32, 73.0, 87.55, 61.28, 66.0, 80.0, 62.0, 88.56, 67.0, 91.0, 74.0, 59.0, 70.0], \"coloraxis\": \"coloraxis\", \"opacity\": 0.7, \"size\": [55.0, 86.5, 75.0, 96.8, 67.0, 91.34, 62.0, 60.0, 68.0, 72.0, 60.0, 50.48, 50.0, 95.0, 55.53, 92.0, 97.4, 94.0, 68.0, 73.35, 52.0, 50.89, 88.0, 71.0, 58.0, 53.7, 93.0, 60.0, 95.0, 89.0, 78.0, 64.0, 65.0, 87.0, 78.0, 71.0, 68.0, 80.0, 74.0, 57.6, 60.0, 61.6, 59.0, 61.0, 68.92, 68.71, 70.0, 89.0, 95.0, 95.5, 86.0, 84.27, 61.0, 69.0, 86.04, 67.0, 86.0, 84.0, 55.0, 78.74, 67.0, 58.0, 62.0, 92.0, 72.0, 53.88, 95.46, 66.0, 70.0, 78.0, 57.5, 85.0, 55.0, 80.0, 84.0, 57.2, 58.0, 72.15, 53.7, 89.0, 96.0, 80.0, 97.0, 82.66, 55.67, 80.4, 60.0, 64.0, 75.0, 70.0, 55.5, 81.2, 90.0, 80.0, 74.4, 65.0, 94.0, 55.6, 56.0, 96.0, 58.0, 56.0, 60.0, 89.0, 72.0, 85.0, 83.0, 57.0, 56.0, 83.0, 98.0, 86.0, 70.0, 80.0, 93.4, 75.0, 75.2, 75.0, 53.04, 63.0, 63.79, 84.0, 64.0, 55.0, 89.0, 73.0, 57.0, 60.0, 82.0, 95.0, 72.0, 93.4, 80.0, 84.0, 78.0, 59.32, 73.0, 87.55, 61.28, 66.0, 80.0, 62.0, 88.56, 67.0, 91.0, 74.0, 59.0, 70.0], \"sizemode\": \"area\", \"sizeref\": 0.30246913580246915, \"symbol\": \"circle\"}, \"mode\": \"markers\", \"name\": \"Placed\", \"scene\": \"scene\", \"showlegend\": true, \"type\": \"scatter3d\", \"x\": [67.0, 79.33, 65.0, 85.8, 82.0, 73.0, 58.0, 69.6, 77.0, 65.0, 63.0, 60.0, 62.0, 79.0, 69.8, 77.4, 76.5, 71.0, 63.0, 76.76, 64.0, 61.0, 87.0, 69.0, 79.0, 73.0, 81.0, 78.0, 87.0, 77.0, 63.0, 63.0, 75.2, 80.0, 74.0, 60.4, 63.0, 68.0, 74.0, 52.6, 74.0, 84.2, 86.5, 80.0, 83.0, 80.92, 73.0, 82.0, 75.0, 84.86, 64.6, 56.6, 66.5, 64.0, 84.0, 69.0, 81.7, 84.0, 70.0, 83.84, 62.0, 66.0, 84.0, 85.0, 60.23, 58.0, 73.0, 76.0, 69.0, 63.0, 77.0, 73.0, 69.0, 82.0, 61.0, 69.5, 58.0, 73.96, 65.0, 73.0, 68.2, 77.0, 76.0, 60.8, 64.0, 66.5, 74.0, 67.0, 84.0, 79.0, 72.0, 80.4, 76.7, 74.9, 67.0, 73.0, 77.44, 72.0, 67.0, 82.0, 77.0, 65.0, 85.0, 77.67, 89.4, 62.0, 70.0, 77.0, 71.0, 65.0, 75.4, 49.0, 53.0, 84.2, 66.5, 87.0, 74.2, 63.0, 67.16, 62.0, 80.0, 73.0, 73.24, 59.0, 73.0, 68.0, 65.0, 65.0, 88.0, 78.5, 67.0, 65.2, 60.0, 66.0, 72.0, 83.96, 69.0, 69.0, 70.0, 55.68, 74.0, 61.0, 83.33, 62.0, 80.6, 58.0, 67.0, 74.0], \"y\": [91.0, 78.33, 68.0, 73.6, 64.0, 79.0, 61.0, 68.4, 87.0, 75.0, 66.2, 67.0, 65.0, 76.0, 60.8, 60.0, 97.7, 79.0, 67.0, 76.5, 73.5, 81.0, 65.0, 78.0, 76.0, 58.0, 68.0, 77.0, 87.0, 73.0, 60.0, 62.0, 73.2, 70.0, 60.0, 66.6, 71.4, 76.0, 62.0, 65.58, 70.0, 73.4, 64.2, 73.0, 74.0, 78.5, 73.0, 61.0, 70.29, 67.0, 83.83, 64.8, 70.4, 80.0, 90.9, 62.0, 63.0, 79.0, 63.0, 89.83, 63.0, 62.0, 75.0, 90.0, 69.0, 62.0, 78.0, 70.0, 73.0, 72.0, 61.0, 78.0, 63.0, 90.0, 82.0, 70.0, 61.0, 79.0, 68.0, 63.0, 72.8, 75.0, 80.0, 68.4, 67.0, 66.8, 59.0, 71.0, 73.0, 61.0, 60.0, 73.4, 89.7, 57.0, 68.0, 64.0, 92.0, 56.0, 63.0, 64.0, 70.0, 64.8, 60.0, 64.89, 65.66, 63.0, 74.0, 86.0, 58.66, 65.0, 60.5, 59.0, 63.0, 69.4, 62.5, 74.0, 87.6, 67.0, 72.5, 62.0, 80.0, 58.0, 50.83, 60.0, 97.0, 56.0, 71.5, 77.0, 72.0, 65.5, 61.0, 61.4, 63.0, 76.0, 63.0, 53.0, 65.0, 60.0, 63.0, 61.33, 73.0, 62.0, 78.0, 72.0, 82.0, 60.0, 67.0, 66.0], \"z\": [58.0, 77.48, 64.0, 73.3, 66.0, 72.0, 60.0, 78.3, 59.0, 69.0, 65.6, 70.0, 66.0, 85.0, 72.23, 64.74, 78.86, 66.0, 66.0, 67.5, 73.0, 66.4, 81.0, 72.0, 65.6, 66.0, 64.0, 80.0, 68.0, 81.0, 57.0, 68.0, 68.4, 72.0, 69.0, 65.0, 61.4, 74.0, 68.0, 72.11, 72.0, 66.89, 67.4, 75.0, 66.0, 67.0, 66.0, 62.0, 71.0, 78.0, 71.72, 70.2, 71.93, 65.0, 64.5, 69.0, 67.0, 68.0, 70.0, 77.2, 64.0, 73.0, 69.0, 82.0, 66.0, 64.0, 65.0, 76.0, 65.0, 68.0, 68.0, 73.0, 65.0, 83.0, 69.0, 72.0, 61.0, 67.0, 69.0, 66.0, 66.6, 73.0, 78.0, 64.6, 69.6, 69.3, 73.0, 64.33, 73.0, 75.5, 69.0, 77.72, 66.0, 62.0, 64.0, 77.0, 72.0, 69.0, 72.0, 73.0, 59.0, 69.5, 73.43, 70.67, 71.25, 66.0, 65.0, 56.0, 58.0, 75.0, 84.0, 65.0, 60.0, 65.0, 60.9, 65.0, 77.25, 64.0, 63.35, 60.0, 72.0, 56.0, 64.27, 56.0, 79.0, 68.0, 62.8, 69.0, 78.0, 67.0, 72.0, 64.8, 56.0, 72.0, 77.5, 91.0, 57.0, 65.0, 66.0, 56.87, 73.0, 65.0, 61.0, 65.0, 77.6, 72.0, 73.0, 58.0]}, {\"hovertemplate\": \"status=Not Placed<br>ssc_p=%{x}<br>hsc_p=%{y}<br>degree_p=%{z}<br>etest_p=%{marker.color}<extra></extra>\", \"legendgroup\": \"Not Placed\", \"marker\": {\"color\": [66.0, 55.0, 74.28, 54.0, 62.0, 76.0, 60.0, 68.0, 76.0, 77.0, 64.0, 68.44, 64.0, 65.0, 63.0, 58.0, 68.0, 65.0, 67.0, 71.2, 68.5, 89.69, 79.0, 74.0, 75.0, 82.0, 75.0, 67.0, 72.0, 93.91, 50.0, 56.39, 85.0, 71.0, 86.0, 60.0, 73.0, 84.0, 78.0, 60.0, 60.0, 64.25, 56.15, 60.0, 62.0, 57.63, 80.0, 58.1, 60.0, 54.48, 58.06, 67.0, 87.5, 75.5, 63.0, 75.0, 60.0, 55.0, 57.0, 95.65, 50.0, 59.0, 88.0, 79.0, 97.0, 92.66, 89.0], \"coloraxis\": \"coloraxis\", \"opacity\": 0.7, \"size\": [66.0, 55.0, 74.28, 54.0, 62.0, 76.0, 60.0, 68.0, 76.0, 77.0, 64.0, 68.44, 64.0, 65.0, 63.0, 58.0, 68.0, 65.0, 67.0, 71.2, 68.5, 89.69, 79.0, 74.0, 75.0, 82.0, 75.0, 67.0, 72.0, 93.91, 50.0, 56.39, 85.0, 71.0, 86.0, 60.0, 73.0, 84.0, 78.0, 60.0, 60.0, 64.25, 56.15, 60.0, 62.0, 57.63, 80.0, 58.1, 60.0, 54.48, 58.06, 67.0, 87.5, 75.5, 63.0, 75.0, 60.0, 55.0, 57.0, 95.65, 50.0, 59.0, 88.0, 79.0, 97.0, 92.66, 89.0], \"sizemode\": \"area\", \"sizeref\": 0.30246913580246915, \"symbol\": \"diamond\"}, \"mode\": \"markers\", \"name\": \"Not Placed\", \"scene\": \"scene\", \"showlegend\": true, \"type\": \"scatter3d\", \"x\": [56.0, 55.0, 46.0, 58.0, 47.0, 62.0, 55.0, 63.0, 52.58, 62.0, 67.0, 62.0, 51.0, 74.0, 49.0, 76.0, 70.89, 50.0, 54.4, 40.89, 61.0, 54.0, 69.7, 59.0, 69.0, 63.0, 59.6, 52.0, 52.0, 70.5, 54.0, 45.0, 59.0, 61.08, 52.0, 51.0, 58.0, 62.0, 47.0, 66.0, 52.0, 44.0, 51.57, 67.0, 52.0, 55.6, 63.3, 67.9, 48.0, 59.96, 63.4, 52.0, 63.0, 77.8, 62.0, 52.0, 56.28, 52.0, 61.8, 54.0, 64.0, 52.0, 67.0, 54.2, 41.0, 43.0, 62.0], \"y\": [52.0, 49.8, 49.2, 70.0, 55.0, 47.0, 67.0, 66.0, 54.6, 67.0, 53.0, 51.0, 44.0, 63.16, 39.0, 64.0, 71.98, 37.0, 61.12, 45.83, 70.0, 47.0, 47.0, 62.0, 62.0, 67.0, 51.0, 57.0, 62.0, 62.5, 82.0, 57.0, 64.0, 50.0, 63.0, 54.0, 40.0, 65.0, 59.0, 64.0, 50.0, 58.0, 74.66, 63.0, 49.0, 51.0, 78.33, 62.0, 51.0, 42.16, 67.2, 52.0, 62.0, 64.0, 60.33, 65.0, 62.83, 64.0, 47.0, 77.6, 70.2, 55.0, 70.0, 63.0, 42.0, 60.0, 58.0], \"z\": [52.0, 67.25, 79.0, 61.0, 65.0, 50.0, 64.0, 64.0, 50.2, 58.0, 65.0, 52.0, 57.0, 65.0, 65.0, 72.0, 65.6, 52.0, 56.2, 53.0, 64.0, 57.0, 72.7, 77.5, 66.0, 74.0, 60.0, 50.8, 54.0, 61.0, 63.0, 58.0, 58.0, 54.0, 65.0, 61.0, 59.0, 60.0, 64.0, 60.0, 61.0, 55.0, 59.9, 64.0, 58.0, 57.5, 74.0, 67.0, 58.0, 61.26, 60.0, 55.0, 65.0, 64.2, 64.21, 57.0, 59.79, 61.0, 54.38, 69.2, 61.0, 56.3, 65.0, 58.0, 60.0, 65.0, 53.0]}],                        {\"coloraxis\": {\"colorbar\": {\"title\": {\"text\": \"etest_p\"}}, \"colorscale\": [[0.0, \"#0d0887\"], [0.1111111111111111, \"#46039f\"], [0.2222222222222222, \"#7201a8\"], [0.3333333333333333, \"#9c179e\"], [0.4444444444444444, \"#bd3786\"], [0.5555555555555556, \"#d8576b\"], [0.6666666666666666, \"#ed7953\"], [0.7777777777777778, \"#fb9f3a\"], [0.8888888888888888, \"#fdca26\"], [1.0, \"#f0f921\"]]}, \"legend\": {\"itemsizing\": \"constant\", \"title\": {\"text\": \"status\"}, \"tracegroupgap\": 0}, \"margin\": {\"b\": 0, \"l\": 0, \"r\": 0, \"t\": 0}, \"scene\": {\"domain\": {\"x\": [0.0, 1.0], \"y\": [0.0, 1.0]}, \"xaxis\": {\"title\": {\"text\": \"ssc_p\"}}, \"yaxis\": {\"title\": {\"text\": \"hsc_p\"}}, \"zaxis\": {\"title\": {\"text\": \"degree_p\"}}}, \"template\": {\"data\": {\"bar\": [{\"error_x\": {\"color\": \"#2a3f5f\"}, \"error_y\": {\"color\": \"#2a3f5f\"}, \"marker\": {\"line\": {\"color\": \"#E5ECF6\", \"width\": 0.5}}, \"type\": \"bar\"}], \"barpolar\": [{\"marker\": {\"line\": {\"color\": \"#E5ECF6\", \"width\": 0.5}}, \"type\": \"barpolar\"}], \"carpet\": [{\"aaxis\": {\"endlinecolor\": \"#2a3f5f\", \"gridcolor\": \"white\", \"linecolor\": \"white\", \"minorgridcolor\": \"white\", \"startlinecolor\": \"#2a3f5f\"}, \"baxis\": {\"endlinecolor\": \"#2a3f5f\", \"gridcolor\": \"white\", \"linecolor\": \"white\", \"minorgridcolor\": \"white\", \"startlinecolor\": \"#2a3f5f\"}, \"type\": \"carpet\"}], \"choropleth\": [{\"colorbar\": {\"outlinewidth\": 0, \"ticks\": \"\"}, \"type\": \"choropleth\"}], \"contour\": [{\"colorbar\": {\"outlinewidth\": 0, \"ticks\": \"\"}, \"colorscale\": [[0.0, \"#0d0887\"], [0.1111111111111111, \"#46039f\"], [0.2222222222222222, \"#7201a8\"], [0.3333333333333333, \"#9c179e\"], [0.4444444444444444, \"#bd3786\"], [0.5555555555555556, \"#d8576b\"], [0.6666666666666666, \"#ed7953\"], [0.7777777777777778, \"#fb9f3a\"], [0.8888888888888888, \"#fdca26\"], [1.0, \"#f0f921\"]], \"type\": \"contour\"}], \"contourcarpet\": [{\"colorbar\": {\"outlinewidth\": 0, \"ticks\": \"\"}, \"type\": \"contourcarpet\"}], \"heatmap\": [{\"colorbar\": {\"outlinewidth\": 0, \"ticks\": \"\"}, \"colorscale\": [[0.0, \"#0d0887\"], [0.1111111111111111, \"#46039f\"], [0.2222222222222222, \"#7201a8\"], [0.3333333333333333, \"#9c179e\"], [0.4444444444444444, \"#bd3786\"], [0.5555555555555556, \"#d8576b\"], [0.6666666666666666, \"#ed7953\"], [0.7777777777777778, \"#fb9f3a\"], [0.8888888888888888, \"#fdca26\"], [1.0, \"#f0f921\"]], \"type\": \"heatmap\"}], \"heatmapgl\": [{\"colorbar\": {\"outlinewidth\": 0, \"ticks\": \"\"}, \"colorscale\": [[0.0, \"#0d0887\"], [0.1111111111111111, \"#46039f\"], [0.2222222222222222, \"#7201a8\"], [0.3333333333333333, \"#9c179e\"], [0.4444444444444444, \"#bd3786\"], [0.5555555555555556, \"#d8576b\"], [0.6666666666666666, \"#ed7953\"], [0.7777777777777778, \"#fb9f3a\"], [0.8888888888888888, \"#fdca26\"], [1.0, \"#f0f921\"]], \"type\": \"heatmapgl\"}], \"histogram\": [{\"marker\": {\"colorbar\": {\"outlinewidth\": 0, \"ticks\": \"\"}}, \"type\": \"histogram\"}], \"histogram2d\": [{\"colorbar\": {\"outlinewidth\": 0, \"ticks\": \"\"}, \"colorscale\": [[0.0, \"#0d0887\"], [0.1111111111111111, \"#46039f\"], [0.2222222222222222, \"#7201a8\"], [0.3333333333333333, \"#9c179e\"], [0.4444444444444444, \"#bd3786\"], [0.5555555555555556, \"#d8576b\"], [0.6666666666666666, \"#ed7953\"], [0.7777777777777778, \"#fb9f3a\"], [0.8888888888888888, \"#fdca26\"], [1.0, \"#f0f921\"]], \"type\": \"histogram2d\"}], \"histogram2dcontour\": [{\"colorbar\": {\"outlinewidth\": 0, \"ticks\": \"\"}, \"colorscale\": [[0.0, \"#0d0887\"], [0.1111111111111111, \"#46039f\"], [0.2222222222222222, \"#7201a8\"], [0.3333333333333333, \"#9c179e\"], [0.4444444444444444, \"#bd3786\"], [0.5555555555555556, \"#d8576b\"], [0.6666666666666666, \"#ed7953\"], [0.7777777777777778, \"#fb9f3a\"], [0.8888888888888888, \"#fdca26\"], [1.0, \"#f0f921\"]], \"type\": \"histogram2dcontour\"}], \"mesh3d\": [{\"colorbar\": {\"outlinewidth\": 0, \"ticks\": \"\"}, \"type\": \"mesh3d\"}], \"parcoords\": [{\"line\": {\"colorbar\": {\"outlinewidth\": 0, \"ticks\": \"\"}}, \"type\": \"parcoords\"}], \"pie\": [{\"automargin\": true, \"type\": \"pie\"}], \"scatter\": [{\"marker\": {\"colorbar\": {\"outlinewidth\": 0, \"ticks\": \"\"}}, \"type\": \"scatter\"}], \"scatter3d\": [{\"line\": {\"colorbar\": {\"outlinewidth\": 0, \"ticks\": \"\"}}, \"marker\": {\"colorbar\": {\"outlinewidth\": 0, \"ticks\": \"\"}}, \"type\": \"scatter3d\"}], \"scattercarpet\": [{\"marker\": {\"colorbar\": {\"outlinewidth\": 0, \"ticks\": \"\"}}, \"type\": \"scattercarpet\"}], \"scattergeo\": [{\"marker\": {\"colorbar\": {\"outlinewidth\": 0, \"ticks\": \"\"}}, \"type\": \"scattergeo\"}], \"scattergl\": [{\"marker\": {\"colorbar\": {\"outlinewidth\": 0, \"ticks\": \"\"}}, \"type\": \"scattergl\"}], \"scattermapbox\": [{\"marker\": {\"colorbar\": {\"outlinewidth\": 0, \"ticks\": \"\"}}, \"type\": \"scattermapbox\"}], \"scatterpolar\": [{\"marker\": {\"colorbar\": {\"outlinewidth\": 0, \"ticks\": \"\"}}, \"type\": \"scatterpolar\"}], \"scatterpolargl\": [{\"marker\": {\"colorbar\": {\"outlinewidth\": 0, \"ticks\": \"\"}}, \"type\": \"scatterpolargl\"}], \"scatterternary\": [{\"marker\": {\"colorbar\": {\"outlinewidth\": 0, \"ticks\": \"\"}}, \"type\": \"scatterternary\"}], \"surface\": [{\"colorbar\": {\"outlinewidth\": 0, \"ticks\": \"\"}, \"colorscale\": [[0.0, \"#0d0887\"], [0.1111111111111111, \"#46039f\"], [0.2222222222222222, \"#7201a8\"], [0.3333333333333333, \"#9c179e\"], [0.4444444444444444, \"#bd3786\"], [0.5555555555555556, \"#d8576b\"], [0.6666666666666666, \"#ed7953\"], [0.7777777777777778, \"#fb9f3a\"], [0.8888888888888888, \"#fdca26\"], [1.0, \"#f0f921\"]], \"type\": \"surface\"}], \"table\": [{\"cells\": {\"fill\": {\"color\": \"#EBF0F8\"}, \"line\": {\"color\": \"white\"}}, \"header\": {\"fill\": {\"color\": \"#C8D4E3\"}, \"line\": {\"color\": \"white\"}}, \"type\": \"table\"}]}, \"layout\": {\"annotationdefaults\": {\"arrowcolor\": \"#2a3f5f\", \"arrowhead\": 0, \"arrowwidth\": 1}, \"autotypenumbers\": \"strict\", \"coloraxis\": {\"colorbar\": {\"outlinewidth\": 0, \"ticks\": \"\"}}, \"colorscale\": {\"diverging\": [[0, \"#8e0152\"], [0.1, \"#c51b7d\"], [0.2, \"#de77ae\"], [0.3, \"#f1b6da\"], [0.4, \"#fde0ef\"], [0.5, \"#f7f7f7\"], [0.6, \"#e6f5d0\"], [0.7, \"#b8e186\"], [0.8, \"#7fbc41\"], [0.9, \"#4d9221\"], [1, \"#276419\"]], \"sequential\": [[0.0, \"#0d0887\"], [0.1111111111111111, \"#46039f\"], [0.2222222222222222, \"#7201a8\"], [0.3333333333333333, \"#9c179e\"], [0.4444444444444444, \"#bd3786\"], [0.5555555555555556, \"#d8576b\"], [0.6666666666666666, \"#ed7953\"], [0.7777777777777778, \"#fb9f3a\"], [0.8888888888888888, \"#fdca26\"], [1.0, \"#f0f921\"]], \"sequentialminus\": [[0.0, \"#0d0887\"], [0.1111111111111111, \"#46039f\"], [0.2222222222222222, \"#7201a8\"], [0.3333333333333333, \"#9c179e\"], [0.4444444444444444, \"#bd3786\"], [0.5555555555555556, \"#d8576b\"], [0.6666666666666666, \"#ed7953\"], [0.7777777777777778, \"#fb9f3a\"], [0.8888888888888888, \"#fdca26\"], [1.0, \"#f0f921\"]]}, \"colorway\": [\"#636efa\", \"#EF553B\", \"#00cc96\", \"#ab63fa\", \"#FFA15A\", \"#19d3f3\", \"#FF6692\", \"#B6E880\", \"#FF97FF\", \"#FECB52\"], \"font\": {\"color\": \"#2a3f5f\"}, \"geo\": {\"bgcolor\": \"white\", \"lakecolor\": \"white\", \"landcolor\": \"#E5ECF6\", \"showlakes\": true, \"showland\": true, \"subunitcolor\": \"white\"}, \"hoverlabel\": {\"align\": \"left\"}, \"hovermode\": \"closest\", \"mapbox\": {\"style\": \"light\"}, \"paper_bgcolor\": \"white\", \"plot_bgcolor\": \"#E5ECF6\", \"polar\": {\"angularaxis\": {\"gridcolor\": \"white\", \"linecolor\": \"white\", \"ticks\": \"\"}, \"bgcolor\": \"#E5ECF6\", \"radialaxis\": {\"gridcolor\": \"white\", \"linecolor\": \"white\", \"ticks\": \"\"}}, \"scene\": {\"xaxis\": {\"backgroundcolor\": \"#E5ECF6\", \"gridcolor\": \"white\", \"gridwidth\": 2, \"linecolor\": \"white\", \"showbackground\": true, \"ticks\": \"\", \"zerolinecolor\": \"white\"}, \"yaxis\": {\"backgroundcolor\": \"#E5ECF6\", \"gridcolor\": \"white\", \"gridwidth\": 2, \"linecolor\": \"white\", \"showbackground\": true, \"ticks\": \"\", \"zerolinecolor\": \"white\"}, \"zaxis\": {\"backgroundcolor\": \"#E5ECF6\", \"gridcolor\": \"white\", \"gridwidth\": 2, \"linecolor\": \"white\", \"showbackground\": true, \"ticks\": \"\", \"zerolinecolor\": \"white\"}}, \"shapedefaults\": {\"line\": {\"color\": \"#2a3f5f\"}}, \"ternary\": {\"aaxis\": {\"gridcolor\": \"white\", \"linecolor\": \"white\", \"ticks\": \"\"}, \"baxis\": {\"gridcolor\": \"white\", \"linecolor\": \"white\", \"ticks\": \"\"}, \"bgcolor\": \"#E5ECF6\", \"caxis\": {\"gridcolor\": \"white\", \"linecolor\": \"white\", \"ticks\": \"\"}}, \"title\": {\"x\": 0.05}, \"xaxis\": {\"automargin\": true, \"gridcolor\": \"white\", \"linecolor\": \"white\", \"ticks\": \"\", \"title\": {\"standoff\": 15}, \"zerolinecolor\": \"white\", \"zerolinewidth\": 2}, \"yaxis\": {\"automargin\": true, \"gridcolor\": \"white\", \"linecolor\": \"white\", \"ticks\": \"\", \"title\": {\"standoff\": 15}, \"zerolinecolor\": \"white\", \"zerolinewidth\": 2}}}},                        {\"responsive\": true}                    ).then(function(){\n",
       "                            \n",
       "var gd = document.getElementById('7f710102-5589-468d-a7e1-69942bbd1e0c');\n",
       "var x = new MutationObserver(function (mutations, observer) {{\n",
       "        var display = window.getComputedStyle(gd).display;\n",
       "        if (!display || display === 'none') {{\n",
       "            console.log([gd, 'removed!']);\n",
       "            Plotly.purge(gd);\n",
       "            observer.disconnect();\n",
       "        }}\n",
       "}});\n",
       "\n",
       "// Listen for the removal of the full notebook cells\n",
       "var notebookContainer = gd.closest('#notebook-container');\n",
       "if (notebookContainer) {{\n",
       "    x.observe(notebookContainer, {childList: true});\n",
       "}}\n",
       "\n",
       "// Listen for the clearing of the current output cell\n",
       "var outputEl = gd.closest('.output');\n",
       "if (outputEl) {{\n",
       "    x.observe(outputEl, {childList: true});\n",
       "}}\n",
       "\n",
       "                        })                };                });            </script>        </div>"
      ]
     },
     "metadata": {},
     "output_type": "display_data"
    }
   ],
   "source": [
    "# Figura\n",
    "fig = px.scatter_3d(campus, \n",
    "                    x = 'ssc_p', \n",
    "                    y = 'hsc_p', \n",
    "                    z = 'degree_p',\n",
    "                    color = 'etest_p', \n",
    "                    size = 'etest_p', \n",
    "                    size_max = 18,\n",
    "                    symbol = 'status', \n",
    "                    opacity = 0.7)\n",
    "\n",
    "# Layout\n",
    "fig.update_layout(margin = dict(l = 0, r = 0, b = 0, t = 0))\n",
    "\n",
    "# Gráfico\n",
    "fig.show()"
   ]
  },
  {
   "cell_type": "markdown",
   "metadata": {
    "papermill": {
     "duration": 0.081175,
     "end_time": "2020-08-12T12:40:11.295000",
     "exception": false,
     "start_time": "2020-08-12T12:40:11.213825",
     "status": "completed"
    },
    "tags": []
   },
   "source": [
    "### 3D Surface"
   ]
  },
  {
   "cell_type": "markdown",
   "metadata": {
    "papermill": {
     "duration": 0.08319,
     "end_time": "2020-08-12T12:40:11.462996",
     "exception": false,
     "start_time": "2020-08-12T12:40:11.379806",
     "status": "completed"
    },
    "tags": []
   },
   "source": [
    "**Objetivo**:  Exibir relação de superfície entre diversos valores.\n",
    "\n",
    "Como as pontuações estão relacionadas entre as universidades dos 20 principais países? "
   ]
  },
  {
   "cell_type": "code",
   "execution_count": 22,
   "metadata": {
    "_kg_hide-input": true,
    "execution": {
     "iopub.execute_input": "2020-08-12T12:40:11.671740Z",
     "iopub.status.busy": "2020-08-12T12:40:11.670509Z",
     "iopub.status.idle": "2020-08-12T12:40:11.674351Z",
     "shell.execute_reply": "2020-08-12T12:40:11.673560Z"
    },
    "papermill": {
     "duration": 0.126743,
     "end_time": "2020-08-12T12:40:11.674496",
     "exception": false,
     "start_time": "2020-08-12T12:40:11.547753",
     "status": "completed"
    },
    "tags": []
   },
   "outputs": [],
   "source": [
    "# Prepara os dados\n",
    "top_countries = world['country'].value_counts()[:20].reset_index()['index']\n",
    "\n",
    "score = []\n",
    "\n",
    "for i in top_countries:\n",
    "    score.append(list(world[world['country']==i]['score']))\n",
    "\n",
    "z_data = np.array(score)"
   ]
  },
  {
   "cell_type": "code",
   "execution_count": 24,
   "metadata": {
    "execution": {
     "iopub.execute_input": "2020-08-12T12:40:11.850443Z",
     "iopub.status.busy": "2020-08-12T12:40:11.849610Z",
     "iopub.status.idle": "2020-08-12T12:40:11.879815Z",
     "shell.execute_reply": "2020-08-12T12:40:11.878939Z"
    },
    "papermill": {
     "duration": 0.12143,
     "end_time": "2020-08-12T12:40:11.879960",
     "exception": false,
     "start_time": "2020-08-12T12:40:11.758530",
     "status": "completed"
    },
    "tags": []
   },
   "outputs": [
    {
     "data": {
      "application/vnd.plotly.v1+json": {
       "config": {
        "plotlyServerURL": "https://plot.ly"
       },
       "data": [
        {
         "type": "surface",
         "z": [
          [
           100,
           91.67,
           89.5,
           85.21,
           82.5,
           79.14,
           78.86,
           78.55,
           73.82,
           73.69,
           73.64,
           66.94,
           64.05,
           63.11,
           61.74,
           60.55,
           59.7,
           59.66,
           59,
           58.37,
           56.43,
           56.18,
           54.4,
           53.72,
           53.09,
           52.9,
           52.64,
           52.25,
           52.15,
           51.66,
           51.6,
           51.38,
           51.06,
           50.68,
           50.64,
           50.3,
           50.29,
           49.54,
           49.51,
           48.8,
           48.76,
           48.5,
           48.44,
           48.31,
           48.15,
           47.91,
           47.69,
           47.59,
           47.5,
           47.31,
           46.11,
           45.7,
           45.47,
           45.2,
           44.91,
           44.71,
           43.89,
           43.88,
           100,
           93.94,
           91.45,
           88.21,
           85.07,
           82.17,
           79.16,
           78.83,
           77.59,
           77.24,
           76.99,
           67.84,
           65.64,
           63.99,
           63.12,
           59.38,
           58.94,
           58.33,
           57.72,
           57.71,
           56.12,
           55.79,
           55.77,
           52.87,
           51.67,
           51.59,
           51.56,
           51.16,
           51.14,
           51.09,
           50.98,
           50.79,
           50.43,
           49.84,
           49.56,
           49.41,
           49.16,
           48.96,
           48.93,
           48.39,
           47.8,
           47.72,
           47.52,
           47.08,
           46.92,
           46.72,
           46.44,
           46.43,
           46.39,
           46.17,
           46.04,
           45.71,
           45.12,
           45.01,
           44.53,
           44.53,
           44.26,
           100,
           99.09,
           98.69,
           97.41,
           92.84,
           92.03,
           88.56,
           88.11,
           85.8,
           85.5,
           79.3,
           78.35,
           72.29,
           71.17,
           68.36,
           68.27,
           66.18,
           65.77,
           63.56,
           63.36,
           62.89,
           62.57,
           60.28,
           60,
           59.49,
           58.6,
           58,
           57.51,
           57.19,
           57.01,
           56.13,
           55.7,
           55.67,
           55.67,
           55.3,
           55.18,
           54.93,
           54.76,
           54.76,
           54.67,
           54.5,
           54.25,
           54.07,
           53.96,
           53.77,
           53.69,
           53.46,
           53.06,
           53.01,
           52.93,
           52.92,
           52.74,
           52.71,
           51.27,
           51.19,
           51.18,
           51.14,
           50.94,
           50.69,
           50.53,
           50.28,
           50.12,
           49.95,
           49.92,
           49.79,
           49.62,
           49.47,
           49.46,
           49.08,
           48.91,
           48.89,
           48.88,
           48.85,
           48.69,
           48.67,
           48.65,
           48.61,
           48.6,
           48.48,
           48.47,
           48.4,
           48.36,
           48.07,
           48.06,
           48.02,
           47.82,
           47.75,
           47.74,
           47.67,
           47.63,
           47.53,
           47.45,
           47.43,
           47.35,
           47.34,
           47.33,
           47.31,
           47.26,
           47.26,
           47.2,
           47.16,
           46.98,
           46.95,
           46.91,
           46.9,
           46.89,
           46.89,
           46.88,
           46.82,
           46.78,
           46.72,
           46.64,
           46.42,
           46.41,
           46.4,
           46.37,
           46.3,
           46.25,
           46.2,
           46.2,
           46.2,
           46.18,
           46.15,
           46.06,
           46.02,
           45.89,
           45.88,
           45.83,
           45.77,
           45.75,
           45.74,
           45.74,
           45.7,
           45.69,
           45.66,
           45.59,
           45.55,
           45.53,
           45.47,
           45.43,
           45.4,
           45.39,
           45.38,
           45.37,
           45.37,
           45.36,
           45.34,
           45.26,
           45.25,
           45.23,
           45.22,
           45.22,
           45.21,
           45.2,
           45.19,
           45.18,
           45.18,
           45.16,
           45.15,
           45.15,
           45.11,
           45.1,
           45.09,
           45.07,
           45.04,
           45.03,
           45.03,
           44.99,
           44.99,
           44.98,
           44.96,
           44.93,
           44.85,
           44.84,
           44.83,
           44.82,
           44.81,
           44.8,
           44.78,
           44.77,
           44.76,
           44.74,
           44.73,
           44.73,
           44.73,
           44.73,
           44.72,
           44.72,
           44.7,
           44.69,
           44.69,
           44.68,
           44.68,
           44.68,
           44.67,
           44.67,
           44.66,
           44.66,
           44.64,
           44.64,
           44.62,
           44.62,
           44.62,
           44.62,
           44.61,
           44.6,
           44.6,
           44.59,
           44.59,
           44.58,
           44.58,
           44.57,
           44.56,
           44.55,
           44.54,
           44.53,
           44.51,
           44.49,
           44.46,
           44.45,
           44.45,
           44.44,
           44.44,
           44.43,
           44.43,
           44.42,
           44.38,
           44.37,
           44.3,
           100,
           98.66,
           97.54,
           96.14,
           92.25,
           90.7,
           89.42,
           86.79,
           86.61,
           84.4,
           77.6,
           76.91,
           71.6,
           68.39,
           68.36,
           66.59,
           66.56,
           64.51,
           63.69,
           61.55,
           61.28,
           61.14,
           60.61,
           59.94,
           57.09,
           56.73,
           56.39,
           56.35,
           55.63,
           55.54,
           55.51,
           55.39,
           55.23,
           55.12,
           55.03,
           54.85,
           54.62,
           54.18,
           54,
           53.63,
           53.43,
           53.26,
           53.05,
           52.89,
           52.72,
           52.5,
           52.27,
           52.08,
           52.03,
           52.01,
           51.85,
           51.51,
           51.51,
           51.22,
           51.13,
           50.43,
           50.28,
           50.26,
           49.92,
           49.74,
           49.73,
           49.7,
           49.48,
           49.09,
           49.09,
           49.05,
           49.01,
           48.99,
           48.96,
           48.79,
           48.59,
           48.56,
           48.52,
           48.28,
           48.23,
           48.11,
           48.05,
           47.95,
           47.85,
           47.83,
           47.71,
           47.67,
           47.66,
           47.59,
           47.52,
           47.5,
           47.46,
           47.39,
           47.13,
           47.06,
           47.05,
           46.96,
           46.89,
           46.88,
           46.56,
           46.53,
           46.47,
           46.46,
           46.43,
           46.43,
           46.42,
           46.4,
           46.37,
           46.32,
           46.31,
           46.3,
           46.29,
           46.29,
           46.21,
           46.19,
           46.12,
           46.1,
           45.97,
           45.97,
           45.95,
           45.94,
           45.8,
           45.71,
           45.7,
           45.65,
           45.61,
           45.55,
           45.49,
           45.48,
           45.47,
           45.42,
           45.42,
           45.41,
           45.39,
           45.39,
           45.3,
           45.29,
           45.29,
           45.22,
           45.18,
           45.16,
           45.15,
           45.14,
           45.13,
           45.13,
           45.09,
           45.08,
           45.08,
           45.03,
           45.02,
           45,
           44.99,
           44.93,
           44.91,
           44.91,
           44.89,
           44.87,
           44.86,
           44.85,
           44.83,
           44.82,
           44.81,
           44.8,
           44.75,
           44.74,
           44.74,
           44.72,
           44.71,
           44.7,
           44.65,
           44.64,
           44.63,
           44.62,
           44.61,
           44.61,
           44.59,
           44.59,
           44.58,
           44.54,
           44.53,
           44.53,
           44.53,
           44.52,
           44.5,
           44.5,
           44.5,
           44.5,
           44.49,
           44.47,
           44.47,
           44.45,
           44.44,
           44.43,
           44.43,
           44.42,
           44.42,
           44.41,
           44.41,
           44.4,
           44.38,
           44.35,
           44.35,
           44.34,
           44.34,
           44.33,
           44.33,
           44.3,
           44.3,
           44.3,
           44.29,
           44.28,
           44.28,
           44.28,
           44.27,
           44.25,
           44.25,
           44.25,
           44.23,
           44.21,
           44.21,
           44.2,
           44.2,
           44.19,
           44.19,
           44.18,
           44.17,
           44.15,
           44.14,
           44.13,
           44.13,
           44.13,
           44.12,
           44.1,
           44.09
          ],
          [
           55.3,
           52.6,
           48.14,
           48.02,
           47.76,
           47.67,
           47.22,
           46.75,
           46.42,
           45.87,
           45.8,
           45.7,
           45.61,
           45.57,
           45.55,
           45.5,
           45.49,
           45.4,
           45.39,
           45.27,
           45.24,
           45.21,
           45.12,
           45.05,
           45.01,
           44.93,
           44.9,
           44.84,
           44.82,
           44.79,
           44.69,
           44.68,
           44.67,
           44.64,
           44.63,
           44.63,
           44.63,
           44.62,
           44.61,
           44.58,
           44.57,
           44.55,
           44.54,
           44.5,
           44.5,
           44.49,
           44.48,
           44.45,
           44.45,
           44.44,
           44.43,
           44.42,
           44.41,
           44.41,
           44.4,
           44.39,
           44.38,
           44.38,
           44.37,
           44.36,
           44.35,
           44.34,
           44.34,
           44.33,
           44.33,
           44.33,
           44.33,
           44.32,
           44.31,
           44.3,
           44.3,
           44.3,
           44.29,
           44.28,
           44.28,
           44.27,
           44.27,
           44.27,
           44.26,
           44.26,
           44.26,
           44.23,
           44.21,
           44.18,
           54.26,
           52.21,
           47.96,
           47.66,
           47.56,
           46.73,
           46.61,
           46.25,
           45.92,
           45.83,
           45.8,
           45.61,
           45.21,
           45.2,
           45.17,
           45.16,
           45.14,
           45.13,
           45.13,
           45.1,
           45.09,
           45.02,
           45.02,
           45.01,
           44.86,
           44.85,
           44.79,
           44.72,
           44.7,
           44.62,
           44.58,
           44.54,
           44.49,
           44.47,
           44.44,
           44.44,
           44.41,
           44.39,
           44.38,
           44.35,
           44.35,
           44.3,
           44.27,
           44.27,
           44.26,
           44.26,
           44.25,
           44.24,
           44.22,
           44.2,
           44.19,
           44.17,
           44.17,
           44.16,
           44.16,
           44.15,
           44.15,
           44.14,
           44.14,
           44.14,
           44.14,
           44.13,
           44.13,
           44.11,
           44.09,
           44.08,
           44.08,
           44.08,
           44.07,
           44.07,
           44.07,
           44.06,
           44.06,
           44.06,
           44.05,
           44.05,
           44.05,
           44.04,
           44.04,
           44.04,
           44.03,
           44.03,
           44.02
          ],
          [
           69.49,
           65.76,
           54.43,
           46.89,
           45.82,
           76.23,
           69.46,
           52.79,
           47.05,
           44.78,
           44.52,
           80.64,
           73.21,
           59.84,
           58.69,
           58.35,
           53.65,
           51.96,
           51.53,
           49.82,
           49.25,
           49.18,
           48.18,
           47,
           46.59,
           46.57,
           45.97,
           45.67,
           45.6,
           45.51,
           45.48,
           45.46,
           45.43,
           45.36,
           45.29,
           45.26,
           45.22,
           45.18,
           45.11,
           45.09,
           44.98,
           44.98,
           44.96,
           44.94,
           44.9,
           44.89,
           44.85,
           44.85,
           44.84,
           44.83,
           44.81,
           44.71,
           44.71,
           44.7,
           44.69,
           44.67,
           44.66,
           44.65,
           44.62,
           44.61,
           44.6,
           44.59,
           44.59,
           44.59,
           44.58,
           44.58,
           44.57,
           44.57,
           44.57,
           44.56,
           44.56,
           44.55,
           44.54,
           44.54,
           44.47,
           44.46,
           44.45,
           44.44,
           44.44,
           44.44,
           44.43,
           44.43,
           44.42,
           44.41,
           44.33,
           78.23,
           68.6,
           59.84,
           58.17,
           56.03,
           52.57,
           50.6,
           50.13,
           49.57,
           47.97,
           46.59,
           46.41,
           46.12,
           45.74,
           45.2,
           45.11,
           45.11,
           44.92,
           44.9,
           44.88,
           44.86,
           44.86,
           44.84,
           44.82,
           44.78,
           44.73,
           44.73,
           44.72,
           44.7,
           44.7,
           44.63,
           44.61,
           44.52,
           44.52,
           44.5,
           44.48,
           44.48,
           44.47,
           44.43,
           44.43,
           44.42,
           44.41,
           44.4,
           44.35,
           44.33,
           44.33,
           44.33,
           44.32,
           44.32,
           44.32,
           44.29,
           44.29,
           44.28,
           44.27,
           44.27,
           44.27,
           44.27,
           44.25,
           44.24,
           44.2,
           44.19,
           44.19,
           44.19,
           44.18,
           44.17,
           44.17,
           44.14,
           44.13,
           44.13,
           44.12,
           44.12,
           44.1,
           44.08,
           44.06
          ],
          [
           86.17,
           82.34,
           57.53,
           55.21,
           48.43,
           46.38,
           43.79,
           43.77,
           92.54,
           90.24,
           56.75,
           56,
           50.98,
           46.85,
           46.53,
           97.64,
           97.51,
           61.05,
           58.85,
           55.2,
           53.9,
           52.31,
           49.97,
           49.64,
           49.48,
           49.42,
           49.41,
           49.23,
           48.55,
           48.12,
           47.74,
           47.69,
           47.67,
           47.42,
           47.04,
           46.93,
           46.87,
           46.87,
           46.63,
           46.49,
           46.3,
           46.21,
           46.15,
           46.13,
           45.99,
           45.95,
           45.91,
           45.87,
           45.79,
           45.56,
           45.5,
           45.44,
           45.33,
           45.22,
           45.14,
           45.12,
           44.98,
           44.95,
           44.92,
           44.88,
           44.76,
           44.74,
           44.73,
           44.72,
           44.69,
           44.65,
           44.65,
           44.64,
           44.63,
           44.63,
           44.61,
           44.6,
           44.6,
           44.53,
           44.52,
           44.5,
           44.49,
           44.48,
           44.4,
           96.81,
           96.46,
           62.27,
           59.61,
           54.39,
           53.38,
           51.31,
           49.59,
           49.45,
           49.02,
           48.77,
           48.7,
           48.41,
           48.07,
           47.49,
           47.46,
           47.25,
           47.17,
           46.72,
           46.68,
           46.59,
           46.49,
           46.42,
           46.4,
           46.22,
           46.17,
           46.05,
           45.89,
           45.69,
           45.59,
           45.58,
           45.55,
           45.53,
           45.14,
           45.08,
           44.94,
           44.86,
           44.75,
           44.7,
           44.67,
           44.64,
           44.59,
           44.54,
           44.52,
           44.52,
           44.51,
           44.46,
           44.45,
           44.4,
           44.38,
           44.37,
           44.37,
           44.37,
           44.37,
           44.35,
           44.33,
           44.32,
           44.26,
           44.22,
           44.21,
           44.21,
           44.2,
           44.16,
           44.14,
           44.09
          ],
          [
           45.33,
           45.21,
           44.32,
           47.25,
           46.24,
           52.75,
           52.4,
           51.37,
           51.34,
           49.78,
           49.03,
           49.02,
           48.99,
           48.93,
           48.77,
           48.54,
           47.97,
           47.73,
           47.69,
           47.67,
           47.5,
           47.39,
           47.26,
           47.26,
           47.14,
           47.05,
           46.57,
           46.41,
           46.39,
           46.36,
           46.34,
           46.31,
           46.31,
           46.11,
           45.98,
           45.92,
           45.79,
           45.78,
           45.65,
           45.26,
           45.22,
           45.19,
           45.15,
           45.14,
           45.11,
           45.1,
           45.01,
           44.99,
           44.96,
           44.74,
           44.63,
           44.62,
           44.57,
           44.53,
           44.44,
           44.41,
           44.39,
           44.38,
           44.37,
           44.31,
           52.32,
           52.16,
           50.58,
           48.78,
           48.64,
           48.57,
           48.56,
           48.54,
           48.31,
           48.01,
           47.98,
           47.52,
           47.36,
           47.34,
           47.25,
           47.15,
           47.11,
           46.9,
           46.88,
           46.85,
           46.54,
           46.24,
           46.13,
           46.07,
           46,
           45.94,
           45.79,
           45.79,
           45.64,
           45.52,
           45.51,
           45.43,
           45.33,
           45.32,
           44.96,
           44.91,
           44.82,
           44.81,
           44.8,
           44.79,
           44.72,
           44.71,
           44.68,
           44.68,
           44.62,
           44.44,
           44.37,
           44.31,
           44.26,
           44.26,
           44.25,
           44.24,
           44.17,
           44.15,
           44.13
          ],
          [
           50.44,
           49.1,
           48.33,
           48.26,
           43.36,
           51.72,
           50.58,
           47.7,
           45.38,
           44.36,
           59.72,
           59.54,
           56.06,
           53.91,
           49.53,
           48.81,
           48.61,
           47.54,
           47.48,
           47.42,
           47.25,
           47.19,
           47.18,
           45.55,
           45.54,
           45.53,
           45.41,
           45.25,
           45.2,
           45.14,
           45.03,
           45.02,
           45.01,
           44.94,
           44.93,
           44.92,
           44.91,
           44.77,
           44.77,
           44.71,
           44.69,
           44.67,
           44.66,
           44.59,
           44.58,
           44.56,
           44.55,
           44.55,
           44.54,
           44.54,
           44.54,
           44.45,
           44.45,
           44.41,
           44.41,
           44.4,
           44.33,
           44.31,
           44.29,
           44.24,
           59.2,
           58.8,
           54.21,
           53.79,
           50.34,
           49.33,
           47.89,
           47.71,
           47.31,
           47.31,
           47.06,
           47,
           46.81,
           45.96,
           45.36,
           45.25,
           45.06,
           44.87,
           44.86,
           44.79,
           44.75,
           44.67,
           44.63,
           44.6,
           44.56,
           44.48,
           44.45,
           44.42,
           44.4,
           44.39,
           44.37,
           44.33,
           44.31,
           44.3,
           44.28,
           44.28,
           44.27,
           44.25,
           44.22,
           44.21,
           44.2,
           44.17,
           44.15,
           44.15,
           44.15,
           44.13,
           44.06,
           44.05,
           44.04
          ],
          [
           46.34,
           47.75,
           52.12,
           48.48,
           48.4,
           47.59,
           47.4,
           46.8,
           46.67,
           46.3,
           46.13,
           46.06,
           45.95,
           45.92,
           45.78,
           45.73,
           45.71,
           45.63,
           45.6,
           45.6,
           45.59,
           45.47,
           45.41,
           45.28,
           45.27,
           45.23,
           45.07,
           45.01,
           44.94,
           44.91,
           44.89,
           44.87,
           44.85,
           44.85,
           44.82,
           44.77,
           44.67,
           44.67,
           44.65,
           44.64,
           44.61,
           44.59,
           44.57,
           44.54,
           44.51,
           44.48,
           44.46,
           44.43,
           44.36,
           49.97,
           48.17,
           48.07,
           47.28,
           47.04,
           46.58,
           46.36,
           46.03,
           45.79,
           45.64,
           45.61,
           45.61,
           45.54,
           45.53,
           45.36,
           45.31,
           45.28,
           45.22,
           45.2,
           45.17,
           45.13,
           45.04,
           44.98,
           44.92,
           44.78,
           44.77,
           44.7,
           44.69,
           44.61,
           44.59,
           44.57,
           44.57,
           44.46,
           44.43,
           44.41,
           44.39,
           44.38,
           44.37,
           44.36,
           44.36,
           44.31,
           44.3,
           44.28,
           44.24,
           44.21,
           44.12,
           44.12
          ],
          [
           50.17,
           47.97,
           46.99,
           46.34,
           46.29,
           45.88,
           45.79,
           45.63,
           45.49,
           45.47,
           45.43,
           45.29,
           45.21,
           45.04,
           45.04,
           45.01,
           44.85,
           44.77,
           44.73,
           44.71,
           44.7,
           44.66,
           44.63,
           44.63,
           44.61,
           44.61,
           44.57,
           44.57,
           44.56,
           44.52,
           44.5,
           44.45,
           44.42,
           44.42,
           44.41,
           44.39,
           44.38,
           44.36,
           44.35,
           44.35,
           44.27,
           49.79,
           46.96,
           46.72,
           46.03,
           45.92,
           45.56,
           45.4,
           45.36,
           45.31,
           45.17,
           45.06,
           45.03,
           45.02,
           44.83,
           44.83,
           44.61,
           44.51,
           44.44,
           44.44,
           44.41,
           44.4,
           44.38,
           44.38,
           44.37,
           44.35,
           44.32,
           44.31,
           44.28,
           44.24,
           44.23,
           44.19,
           44.18,
           44.16,
           44.14,
           44.1,
           44.1,
           44.09,
           44.09,
           44.07,
           44.02
          ],
          [
           53.43,
           51.72,
           47.74,
           56.11,
           50.77,
           48.51,
           44.5,
           60.87,
           58.39,
           54.75,
           51.23,
           49.79,
           49.51,
           49.18,
           48.84,
           47.69,
           47.56,
           47.47,
           46.59,
           46.58,
           46.52,
           45.74,
           45.66,
           45.58,
           45.55,
           45.44,
           45.18,
           45.05,
           44.75,
           44.72,
           44.7,
           44.68,
           44.55,
           44.53,
           44.48,
           44.47,
           44.44,
           44.41,
           44.3,
           60.04,
           56.49,
           53.92,
           50.25,
           49.31,
           48.74,
           48.72,
           48.23,
           47.6,
           47.04,
           46.95,
           46.34,
           46.18,
           46.17,
           45.56,
           45.48,
           45.4,
           45.36,
           45.12,
           44.92,
           44.77,
           44.68,
           44.53,
           44.49,
           44.41,
           44.27,
           44.19,
           44.17,
           44.16,
           44.13,
           44.12,
           44.12,
           44.03
          ],
          [
           46.74,
           51.31,
           66.06,
           50.95,
           49.88,
           49.84,
           48.63,
           48.35,
           47.79,
           46.23,
           46.02,
           45.67,
           45.66,
           45.55,
           45.51,
           45.43,
           45.43,
           45.38,
           45.35,
           45.14,
           45.07,
           45.01,
           44.82,
           44.78,
           44.77,
           44.74,
           44.56,
           44.55,
           44.49,
           44.47,
           44.47,
           44.47,
           44.46,
           44.39,
           44.36,
           44.3,
           64.82,
           51.02,
           49.79,
           48.95,
           48.24,
           47.6,
           47.19,
           45.92,
           45.88,
           45.27,
           45.2,
           45.16,
           45.09,
           45.04,
           45.04,
           44.94,
           44.79,
           44.74,
           44.61,
           44.56,
           44.56,
           44.51,
           44.47,
           44.29,
           44.27,
           44.23,
           44.22,
           44.22,
           44.2,
           44.17,
           44.16,
           44.15,
           44.13,
           44.08,
           44.08,
           44.06
          ],
          [
           44.18,
           44.13,
           44.77,
           44.5,
           51.58,
           51.43,
           50.37,
           49.29,
           48.96,
           48.71,
           47.47,
           45.97,
           45.18,
           45.1,
           45.1,
           44.97,
           44.9,
           44.81,
           44.8,
           44.79,
           44.79,
           44.76,
           44.73,
           44.62,
           44.6,
           44.46,
           44.44,
           44.43,
           44.39,
           44.38,
           44.34,
           51.61,
           51.34,
           50.4,
           49.33,
           48.91,
           47.97,
           47.1,
           45.58,
           44.96,
           44.88,
           44.79,
           44.7,
           44.67,
           44.56,
           44.52,
           44.49,
           44.48,
           44.48,
           44.44,
           44.38,
           44.3,
           44.22,
           44.22,
           44.2,
           44.16,
           44.15,
           44.09
          ],
          [
           54.19,
           47.16,
           45.49,
           45.46,
           45.01,
           44.92,
           44.82,
           44.74,
           44.65,
           44.56,
           44.54,
           44.53,
           44.52,
           44.44,
           44.44,
           44.4,
           44.39,
           44.36,
           44.32,
           44.32,
           44.3,
           44.26,
           44.24,
           44.24,
           44.24,
           54.23,
           46.97,
           45.24,
           45.14,
           44.65,
           44.65,
           44.6,
           44.6,
           44.35,
           44.29,
           44.24,
           44.23,
           44.17,
           44.16,
           44.12,
           44.1,
           44.08,
           44.06,
           44.06,
           44.05,
           44.04
          ],
          [
           49.82,
           46.08,
           45.39,
           45.14,
           44.85,
           44.76,
           44.67,
           44.45,
           44.45,
           44.4,
           44.39,
           44.37,
           44.36,
           44.36,
           44.34,
           44.31,
           44.31,
           44.28,
           49.31,
           45.72,
           45.14,
           44.7,
           44.55,
           44.53,
           44.41,
           44.21,
           44.12,
           44.12,
           44.12,
           44.1,
           44.09,
           44.09,
           44.07,
           44.05,
           44.03,
           44.03
          ],
          [
           46.1,
           45.4,
           45.11,
           45,
           44.97,
           44.91,
           44.89,
           44.89,
           44.83,
           44.79,
           44.69,
           44.55,
           44.43,
           44.39,
           44.38,
           45.54,
           45.3,
           44.96,
           44.8,
           44.68,
           44.52,
           44.51,
           44.49,
           44.44,
           44.39,
           44.34,
           44.27,
           44.18,
           44.14,
           44.11,
           44.11
          ],
          [
           45.13,
           43.47,
           45.73,
           52.42,
           51.29,
           50.29,
           49.97,
           49.89,
           49.85,
           49.47,
           47.11,
           46.63,
           46.48,
           45.82,
           45.36,
           44.78,
           51.78,
           51.74,
           50.17,
           50.1,
           49.83,
           49.44,
           49.3,
           47,
           46.46,
           46.26,
           45.51,
           45.14,
           44.37
          ],
          [
           66.69,
           47.94,
           47.68,
           44.51,
           64.99,
           48.83,
           46.54,
           45.73,
           72.18,
           53.5,
           52.69,
           51.8,
           49.17,
           48.05,
           47.93,
           45.05,
           44.58,
           66.93,
           51.47,
           51.46,
           51.14,
           48.48,
           47.73,
           47.49,
           44.58,
           44.29
          ],
          [
           47.78,
           46.29,
           46.12,
           45.43,
           45.29,
           45.04,
           44.72,
           44.66,
           44.63,
           44.61,
           44.51,
           44.42,
           47.03,
           46.39,
           45.51,
           45.18,
           45.08,
           44.58,
           44.54,
           44.4,
           44.34,
           44.31,
           44.3,
           44.19
          ],
          [
           47.61,
           47.98,
           53.64,
           51.34,
           50.34,
           49.96,
           48.79,
           48.27,
           46.44,
           46.32,
           45.57,
           45.4,
           44.7,
           52.79,
           49.75,
           49.57,
           49.54,
           48.23,
           46.79,
           46.14,
           45.47,
           45.16,
           45.12,
           44.44
          ],
          [
           65.09,
           60.76,
           50.01,
           48.76,
           59.98,
           54.34,
           48.72,
           47.45,
           66.76,
           59.17,
           52.63,
           50.89,
           45.76,
           45.11,
           44.65,
           65.71,
           57.17,
           51.75,
           49.12,
           45.49,
           44.71,
           44.36
          ],
          [
           44.44,
           44.39,
           50.76,
           45.69,
           45.58,
           45.58,
           45.43,
           45.41,
           44.97,
           44.69,
           44.65,
           50.04,
           45.37,
           45.27,
           45.1,
           45.02,
           44.96,
           44.56,
           44.4,
           44.32
          ]
         ]
        }
       ],
       "layout": {
        "autosize": false,
        "height": 500,
        "margin": {
         "b": 65,
         "l": 65,
         "r": 50,
         "t": 90
        },
        "template": {
         "data": {
          "bar": [
           {
            "error_x": {
             "color": "#2a3f5f"
            },
            "error_y": {
             "color": "#2a3f5f"
            },
            "marker": {
             "line": {
              "color": "#E5ECF6",
              "width": 0.5
             }
            },
            "type": "bar"
           }
          ],
          "barpolar": [
           {
            "marker": {
             "line": {
              "color": "#E5ECF6",
              "width": 0.5
             }
            },
            "type": "barpolar"
           }
          ],
          "carpet": [
           {
            "aaxis": {
             "endlinecolor": "#2a3f5f",
             "gridcolor": "white",
             "linecolor": "white",
             "minorgridcolor": "white",
             "startlinecolor": "#2a3f5f"
            },
            "baxis": {
             "endlinecolor": "#2a3f5f",
             "gridcolor": "white",
             "linecolor": "white",
             "minorgridcolor": "white",
             "startlinecolor": "#2a3f5f"
            },
            "type": "carpet"
           }
          ],
          "choropleth": [
           {
            "colorbar": {
             "outlinewidth": 0,
             "ticks": ""
            },
            "type": "choropleth"
           }
          ],
          "contour": [
           {
            "colorbar": {
             "outlinewidth": 0,
             "ticks": ""
            },
            "colorscale": [
             [
              0,
              "#0d0887"
             ],
             [
              0.1111111111111111,
              "#46039f"
             ],
             [
              0.2222222222222222,
              "#7201a8"
             ],
             [
              0.3333333333333333,
              "#9c179e"
             ],
             [
              0.4444444444444444,
              "#bd3786"
             ],
             [
              0.5555555555555556,
              "#d8576b"
             ],
             [
              0.6666666666666666,
              "#ed7953"
             ],
             [
              0.7777777777777778,
              "#fb9f3a"
             ],
             [
              0.8888888888888888,
              "#fdca26"
             ],
             [
              1,
              "#f0f921"
             ]
            ],
            "type": "contour"
           }
          ],
          "contourcarpet": [
           {
            "colorbar": {
             "outlinewidth": 0,
             "ticks": ""
            },
            "type": "contourcarpet"
           }
          ],
          "heatmap": [
           {
            "colorbar": {
             "outlinewidth": 0,
             "ticks": ""
            },
            "colorscale": [
             [
              0,
              "#0d0887"
             ],
             [
              0.1111111111111111,
              "#46039f"
             ],
             [
              0.2222222222222222,
              "#7201a8"
             ],
             [
              0.3333333333333333,
              "#9c179e"
             ],
             [
              0.4444444444444444,
              "#bd3786"
             ],
             [
              0.5555555555555556,
              "#d8576b"
             ],
             [
              0.6666666666666666,
              "#ed7953"
             ],
             [
              0.7777777777777778,
              "#fb9f3a"
             ],
             [
              0.8888888888888888,
              "#fdca26"
             ],
             [
              1,
              "#f0f921"
             ]
            ],
            "type": "heatmap"
           }
          ],
          "heatmapgl": [
           {
            "colorbar": {
             "outlinewidth": 0,
             "ticks": ""
            },
            "colorscale": [
             [
              0,
              "#0d0887"
             ],
             [
              0.1111111111111111,
              "#46039f"
             ],
             [
              0.2222222222222222,
              "#7201a8"
             ],
             [
              0.3333333333333333,
              "#9c179e"
             ],
             [
              0.4444444444444444,
              "#bd3786"
             ],
             [
              0.5555555555555556,
              "#d8576b"
             ],
             [
              0.6666666666666666,
              "#ed7953"
             ],
             [
              0.7777777777777778,
              "#fb9f3a"
             ],
             [
              0.8888888888888888,
              "#fdca26"
             ],
             [
              1,
              "#f0f921"
             ]
            ],
            "type": "heatmapgl"
           }
          ],
          "histogram": [
           {
            "marker": {
             "colorbar": {
              "outlinewidth": 0,
              "ticks": ""
             }
            },
            "type": "histogram"
           }
          ],
          "histogram2d": [
           {
            "colorbar": {
             "outlinewidth": 0,
             "ticks": ""
            },
            "colorscale": [
             [
              0,
              "#0d0887"
             ],
             [
              0.1111111111111111,
              "#46039f"
             ],
             [
              0.2222222222222222,
              "#7201a8"
             ],
             [
              0.3333333333333333,
              "#9c179e"
             ],
             [
              0.4444444444444444,
              "#bd3786"
             ],
             [
              0.5555555555555556,
              "#d8576b"
             ],
             [
              0.6666666666666666,
              "#ed7953"
             ],
             [
              0.7777777777777778,
              "#fb9f3a"
             ],
             [
              0.8888888888888888,
              "#fdca26"
             ],
             [
              1,
              "#f0f921"
             ]
            ],
            "type": "histogram2d"
           }
          ],
          "histogram2dcontour": [
           {
            "colorbar": {
             "outlinewidth": 0,
             "ticks": ""
            },
            "colorscale": [
             [
              0,
              "#0d0887"
             ],
             [
              0.1111111111111111,
              "#46039f"
             ],
             [
              0.2222222222222222,
              "#7201a8"
             ],
             [
              0.3333333333333333,
              "#9c179e"
             ],
             [
              0.4444444444444444,
              "#bd3786"
             ],
             [
              0.5555555555555556,
              "#d8576b"
             ],
             [
              0.6666666666666666,
              "#ed7953"
             ],
             [
              0.7777777777777778,
              "#fb9f3a"
             ],
             [
              0.8888888888888888,
              "#fdca26"
             ],
             [
              1,
              "#f0f921"
             ]
            ],
            "type": "histogram2dcontour"
           }
          ],
          "mesh3d": [
           {
            "colorbar": {
             "outlinewidth": 0,
             "ticks": ""
            },
            "type": "mesh3d"
           }
          ],
          "parcoords": [
           {
            "line": {
             "colorbar": {
              "outlinewidth": 0,
              "ticks": ""
             }
            },
            "type": "parcoords"
           }
          ],
          "pie": [
           {
            "automargin": true,
            "type": "pie"
           }
          ],
          "scatter": [
           {
            "marker": {
             "colorbar": {
              "outlinewidth": 0,
              "ticks": ""
             }
            },
            "type": "scatter"
           }
          ],
          "scatter3d": [
           {
            "line": {
             "colorbar": {
              "outlinewidth": 0,
              "ticks": ""
             }
            },
            "marker": {
             "colorbar": {
              "outlinewidth": 0,
              "ticks": ""
             }
            },
            "type": "scatter3d"
           }
          ],
          "scattercarpet": [
           {
            "marker": {
             "colorbar": {
              "outlinewidth": 0,
              "ticks": ""
             }
            },
            "type": "scattercarpet"
           }
          ],
          "scattergeo": [
           {
            "marker": {
             "colorbar": {
              "outlinewidth": 0,
              "ticks": ""
             }
            },
            "type": "scattergeo"
           }
          ],
          "scattergl": [
           {
            "marker": {
             "colorbar": {
              "outlinewidth": 0,
              "ticks": ""
             }
            },
            "type": "scattergl"
           }
          ],
          "scattermapbox": [
           {
            "marker": {
             "colorbar": {
              "outlinewidth": 0,
              "ticks": ""
             }
            },
            "type": "scattermapbox"
           }
          ],
          "scatterpolar": [
           {
            "marker": {
             "colorbar": {
              "outlinewidth": 0,
              "ticks": ""
             }
            },
            "type": "scatterpolar"
           }
          ],
          "scatterpolargl": [
           {
            "marker": {
             "colorbar": {
              "outlinewidth": 0,
              "ticks": ""
             }
            },
            "type": "scatterpolargl"
           }
          ],
          "scatterternary": [
           {
            "marker": {
             "colorbar": {
              "outlinewidth": 0,
              "ticks": ""
             }
            },
            "type": "scatterternary"
           }
          ],
          "surface": [
           {
            "colorbar": {
             "outlinewidth": 0,
             "ticks": ""
            },
            "colorscale": [
             [
              0,
              "#0d0887"
             ],
             [
              0.1111111111111111,
              "#46039f"
             ],
             [
              0.2222222222222222,
              "#7201a8"
             ],
             [
              0.3333333333333333,
              "#9c179e"
             ],
             [
              0.4444444444444444,
              "#bd3786"
             ],
             [
              0.5555555555555556,
              "#d8576b"
             ],
             [
              0.6666666666666666,
              "#ed7953"
             ],
             [
              0.7777777777777778,
              "#fb9f3a"
             ],
             [
              0.8888888888888888,
              "#fdca26"
             ],
             [
              1,
              "#f0f921"
             ]
            ],
            "type": "surface"
           }
          ],
          "table": [
           {
            "cells": {
             "fill": {
              "color": "#EBF0F8"
             },
             "line": {
              "color": "white"
             }
            },
            "header": {
             "fill": {
              "color": "#C8D4E3"
             },
             "line": {
              "color": "white"
             }
            },
            "type": "table"
           }
          ]
         },
         "layout": {
          "annotationdefaults": {
           "arrowcolor": "#2a3f5f",
           "arrowhead": 0,
           "arrowwidth": 1
          },
          "autotypenumbers": "strict",
          "coloraxis": {
           "colorbar": {
            "outlinewidth": 0,
            "ticks": ""
           }
          },
          "colorscale": {
           "diverging": [
            [
             0,
             "#8e0152"
            ],
            [
             0.1,
             "#c51b7d"
            ],
            [
             0.2,
             "#de77ae"
            ],
            [
             0.3,
             "#f1b6da"
            ],
            [
             0.4,
             "#fde0ef"
            ],
            [
             0.5,
             "#f7f7f7"
            ],
            [
             0.6,
             "#e6f5d0"
            ],
            [
             0.7,
             "#b8e186"
            ],
            [
             0.8,
             "#7fbc41"
            ],
            [
             0.9,
             "#4d9221"
            ],
            [
             1,
             "#276419"
            ]
           ],
           "sequential": [
            [
             0,
             "#0d0887"
            ],
            [
             0.1111111111111111,
             "#46039f"
            ],
            [
             0.2222222222222222,
             "#7201a8"
            ],
            [
             0.3333333333333333,
             "#9c179e"
            ],
            [
             0.4444444444444444,
             "#bd3786"
            ],
            [
             0.5555555555555556,
             "#d8576b"
            ],
            [
             0.6666666666666666,
             "#ed7953"
            ],
            [
             0.7777777777777778,
             "#fb9f3a"
            ],
            [
             0.8888888888888888,
             "#fdca26"
            ],
            [
             1,
             "#f0f921"
            ]
           ],
           "sequentialminus": [
            [
             0,
             "#0d0887"
            ],
            [
             0.1111111111111111,
             "#46039f"
            ],
            [
             0.2222222222222222,
             "#7201a8"
            ],
            [
             0.3333333333333333,
             "#9c179e"
            ],
            [
             0.4444444444444444,
             "#bd3786"
            ],
            [
             0.5555555555555556,
             "#d8576b"
            ],
            [
             0.6666666666666666,
             "#ed7953"
            ],
            [
             0.7777777777777778,
             "#fb9f3a"
            ],
            [
             0.8888888888888888,
             "#fdca26"
            ],
            [
             1,
             "#f0f921"
            ]
           ]
          },
          "colorway": [
           "#636efa",
           "#EF553B",
           "#00cc96",
           "#ab63fa",
           "#FFA15A",
           "#19d3f3",
           "#FF6692",
           "#B6E880",
           "#FF97FF",
           "#FECB52"
          ],
          "font": {
           "color": "#2a3f5f"
          },
          "geo": {
           "bgcolor": "white",
           "lakecolor": "white",
           "landcolor": "#E5ECF6",
           "showlakes": true,
           "showland": true,
           "subunitcolor": "white"
          },
          "hoverlabel": {
           "align": "left"
          },
          "hovermode": "closest",
          "mapbox": {
           "style": "light"
          },
          "paper_bgcolor": "white",
          "plot_bgcolor": "#E5ECF6",
          "polar": {
           "angularaxis": {
            "gridcolor": "white",
            "linecolor": "white",
            "ticks": ""
           },
           "bgcolor": "#E5ECF6",
           "radialaxis": {
            "gridcolor": "white",
            "linecolor": "white",
            "ticks": ""
           }
          },
          "scene": {
           "xaxis": {
            "backgroundcolor": "#E5ECF6",
            "gridcolor": "white",
            "gridwidth": 2,
            "linecolor": "white",
            "showbackground": true,
            "ticks": "",
            "zerolinecolor": "white"
           },
           "yaxis": {
            "backgroundcolor": "#E5ECF6",
            "gridcolor": "white",
            "gridwidth": 2,
            "linecolor": "white",
            "showbackground": true,
            "ticks": "",
            "zerolinecolor": "white"
           },
           "zaxis": {
            "backgroundcolor": "#E5ECF6",
            "gridcolor": "white",
            "gridwidth": 2,
            "linecolor": "white",
            "showbackground": true,
            "ticks": "",
            "zerolinecolor": "white"
           }
          },
          "shapedefaults": {
           "line": {
            "color": "#2a3f5f"
           }
          },
          "ternary": {
           "aaxis": {
            "gridcolor": "white",
            "linecolor": "white",
            "ticks": ""
           },
           "baxis": {
            "gridcolor": "white",
            "linecolor": "white",
            "ticks": ""
           },
           "bgcolor": "#E5ECF6",
           "caxis": {
            "gridcolor": "white",
            "linecolor": "white",
            "ticks": ""
           }
          },
          "title": {
           "x": 0.05
          },
          "xaxis": {
           "automargin": true,
           "gridcolor": "white",
           "linecolor": "white",
           "ticks": "",
           "title": {
            "standoff": 15
           },
           "zerolinecolor": "white",
           "zerolinewidth": 2
          },
          "yaxis": {
           "automargin": true,
           "gridcolor": "white",
           "linecolor": "white",
           "ticks": "",
           "title": {
            "standoff": 15
           },
           "zerolinecolor": "white",
           "zerolinewidth": 2
          }
         }
        },
        "title": {
         "text": "Pontuação das Universidades dos 20 Principais Países"
        },
        "width": 500
       }
      },
      "text/html": [
       "<div>                            <div id=\"d4c822a0-04ce-4911-bf2c-8be282192dfc\" class=\"plotly-graph-div\" style=\"height:500px; width:500px;\"></div>            <script type=\"text/javascript\">                require([\"plotly\"], function(Plotly) {                    window.PLOTLYENV=window.PLOTLYENV || {};                                    if (document.getElementById(\"d4c822a0-04ce-4911-bf2c-8be282192dfc\")) {                    Plotly.newPlot(                        \"d4c822a0-04ce-4911-bf2c-8be282192dfc\",                        [{\"type\": \"surface\", \"z\": [[100.0, 91.67, 89.5, 85.21, 82.5, 79.14, 78.86, 78.55, 73.82, 73.69, 73.64, 66.94, 64.05, 63.11, 61.74, 60.55, 59.7, 59.66, 59.0, 58.37, 56.43, 56.18, 54.4, 53.72, 53.09, 52.9, 52.64, 52.25, 52.15, 51.66, 51.6, 51.38, 51.06, 50.68, 50.64, 50.3, 50.29, 49.54, 49.51, 48.8, 48.76, 48.5, 48.44, 48.31, 48.15, 47.91, 47.69, 47.59, 47.5, 47.31, 46.11, 45.7, 45.47, 45.2, 44.91, 44.71, 43.89, 43.88, 100.0, 93.94, 91.45, 88.21, 85.07, 82.17, 79.16, 78.83, 77.59, 77.24, 76.99, 67.84, 65.64, 63.99, 63.12, 59.38, 58.94, 58.33, 57.72, 57.71, 56.12, 55.79, 55.77, 52.87, 51.67, 51.59, 51.56, 51.16, 51.14, 51.09, 50.98, 50.79, 50.43, 49.84, 49.56, 49.41, 49.16, 48.96, 48.93, 48.39, 47.8, 47.72, 47.52, 47.08, 46.92, 46.72, 46.44, 46.43, 46.39, 46.17, 46.04, 45.71, 45.12, 45.01, 44.53, 44.53, 44.26, 100.0, 99.09, 98.69, 97.41, 92.84, 92.03, 88.56, 88.11, 85.8, 85.5, 79.3, 78.35, 72.29, 71.17, 68.36, 68.27, 66.18, 65.77, 63.56, 63.36, 62.89, 62.57, 60.28, 60.0, 59.49, 58.6, 58.0, 57.51, 57.19, 57.01, 56.13, 55.7, 55.67, 55.67, 55.3, 55.18, 54.93, 54.76, 54.76, 54.67, 54.5, 54.25, 54.07, 53.96, 53.77, 53.69, 53.46, 53.06, 53.01, 52.93, 52.92, 52.74, 52.71, 51.27, 51.19, 51.18, 51.14, 50.94, 50.69, 50.53, 50.28, 50.12, 49.95, 49.92, 49.79, 49.62, 49.47, 49.46, 49.08, 48.91, 48.89, 48.88, 48.85, 48.69, 48.67, 48.65, 48.61, 48.6, 48.48, 48.47, 48.4, 48.36, 48.07, 48.06, 48.02, 47.82, 47.75, 47.74, 47.67, 47.63, 47.53, 47.45, 47.43, 47.35, 47.34, 47.33, 47.31, 47.26, 47.26, 47.2, 47.16, 46.98, 46.95, 46.91, 46.9, 46.89, 46.89, 46.88, 46.82, 46.78, 46.72, 46.64, 46.42, 46.41, 46.4, 46.37, 46.3, 46.25, 46.2, 46.2, 46.2, 46.18, 46.15, 46.06, 46.02, 45.89, 45.88, 45.83, 45.77, 45.75, 45.74, 45.74, 45.7, 45.69, 45.66, 45.59, 45.55, 45.53, 45.47, 45.43, 45.4, 45.39, 45.38, 45.37, 45.37, 45.36, 45.34, 45.26, 45.25, 45.23, 45.22, 45.22, 45.21, 45.2, 45.19, 45.18, 45.18, 45.16, 45.15, 45.15, 45.11, 45.1, 45.09, 45.07, 45.04, 45.03, 45.03, 44.99, 44.99, 44.98, 44.96, 44.93, 44.85, 44.84, 44.83, 44.82, 44.81, 44.8, 44.78, 44.77, 44.76, 44.74, 44.73, 44.73, 44.73, 44.73, 44.72, 44.72, 44.7, 44.69, 44.69, 44.68, 44.68, 44.68, 44.67, 44.67, 44.66, 44.66, 44.64, 44.64, 44.62, 44.62, 44.62, 44.62, 44.61, 44.6, 44.6, 44.59, 44.59, 44.58, 44.58, 44.57, 44.56, 44.55, 44.54, 44.53, 44.51, 44.49, 44.46, 44.45, 44.45, 44.44, 44.44, 44.43, 44.43, 44.42, 44.38, 44.37, 44.3, 100.0, 98.66, 97.54, 96.14, 92.25, 90.7, 89.42, 86.79, 86.61, 84.4, 77.6, 76.91, 71.6, 68.39, 68.36, 66.59, 66.56, 64.51, 63.69, 61.55, 61.28, 61.14, 60.61, 59.94, 57.09, 56.73, 56.39, 56.35, 55.63, 55.54, 55.51, 55.39, 55.23, 55.12, 55.03, 54.85, 54.62, 54.18, 54.0, 53.63, 53.43, 53.26, 53.05, 52.89, 52.72, 52.5, 52.27, 52.08, 52.03, 52.01, 51.85, 51.51, 51.51, 51.22, 51.13, 50.43, 50.28, 50.26, 49.92, 49.74, 49.73, 49.7, 49.48, 49.09, 49.09, 49.05, 49.01, 48.99, 48.96, 48.79, 48.59, 48.56, 48.52, 48.28, 48.23, 48.11, 48.05, 47.95, 47.85, 47.83, 47.71, 47.67, 47.66, 47.59, 47.52, 47.5, 47.46, 47.39, 47.13, 47.06, 47.05, 46.96, 46.89, 46.88, 46.56, 46.53, 46.47, 46.46, 46.43, 46.43, 46.42, 46.4, 46.37, 46.32, 46.31, 46.3, 46.29, 46.29, 46.21, 46.19, 46.12, 46.1, 45.97, 45.97, 45.95, 45.94, 45.8, 45.71, 45.7, 45.65, 45.61, 45.55, 45.49, 45.48, 45.47, 45.42, 45.42, 45.41, 45.39, 45.39, 45.3, 45.29, 45.29, 45.22, 45.18, 45.16, 45.15, 45.14, 45.13, 45.13, 45.09, 45.08, 45.08, 45.03, 45.02, 45.0, 44.99, 44.93, 44.91, 44.91, 44.89, 44.87, 44.86, 44.85, 44.83, 44.82, 44.81, 44.8, 44.75, 44.74, 44.74, 44.72, 44.71, 44.7, 44.65, 44.64, 44.63, 44.62, 44.61, 44.61, 44.59, 44.59, 44.58, 44.54, 44.53, 44.53, 44.53, 44.52, 44.5, 44.5, 44.5, 44.5, 44.49, 44.47, 44.47, 44.45, 44.44, 44.43, 44.43, 44.42, 44.42, 44.41, 44.41, 44.4, 44.38, 44.35, 44.35, 44.34, 44.34, 44.33, 44.33, 44.3, 44.3, 44.3, 44.29, 44.28, 44.28, 44.28, 44.27, 44.25, 44.25, 44.25, 44.23, 44.21, 44.21, 44.2, 44.2, 44.19, 44.19, 44.18, 44.17, 44.15, 44.14, 44.13, 44.13, 44.13, 44.12, 44.1, 44.09], [55.3, 52.6, 48.14, 48.02, 47.76, 47.67, 47.22, 46.75, 46.42, 45.87, 45.8, 45.7, 45.61, 45.57, 45.55, 45.5, 45.49, 45.4, 45.39, 45.27, 45.24, 45.21, 45.12, 45.05, 45.01, 44.93, 44.9, 44.84, 44.82, 44.79, 44.69, 44.68, 44.67, 44.64, 44.63, 44.63, 44.63, 44.62, 44.61, 44.58, 44.57, 44.55, 44.54, 44.5, 44.5, 44.49, 44.48, 44.45, 44.45, 44.44, 44.43, 44.42, 44.41, 44.41, 44.4, 44.39, 44.38, 44.38, 44.37, 44.36, 44.35, 44.34, 44.34, 44.33, 44.33, 44.33, 44.33, 44.32, 44.31, 44.3, 44.3, 44.3, 44.29, 44.28, 44.28, 44.27, 44.27, 44.27, 44.26, 44.26, 44.26, 44.23, 44.21, 44.18, 54.26, 52.21, 47.96, 47.66, 47.56, 46.73, 46.61, 46.25, 45.92, 45.83, 45.8, 45.61, 45.21, 45.2, 45.17, 45.16, 45.14, 45.13, 45.13, 45.1, 45.09, 45.02, 45.02, 45.01, 44.86, 44.85, 44.79, 44.72, 44.7, 44.62, 44.58, 44.54, 44.49, 44.47, 44.44, 44.44, 44.41, 44.39, 44.38, 44.35, 44.35, 44.3, 44.27, 44.27, 44.26, 44.26, 44.25, 44.24, 44.22, 44.2, 44.19, 44.17, 44.17, 44.16, 44.16, 44.15, 44.15, 44.14, 44.14, 44.14, 44.14, 44.13, 44.13, 44.11, 44.09, 44.08, 44.08, 44.08, 44.07, 44.07, 44.07, 44.06, 44.06, 44.06, 44.05, 44.05, 44.05, 44.04, 44.04, 44.04, 44.03, 44.03, 44.02], [69.49, 65.76, 54.43, 46.89, 45.82, 76.23, 69.46, 52.79, 47.05, 44.78, 44.52, 80.64, 73.21, 59.84, 58.69, 58.35, 53.65, 51.96, 51.53, 49.82, 49.25, 49.18, 48.18, 47.0, 46.59, 46.57, 45.97, 45.67, 45.6, 45.51, 45.48, 45.46, 45.43, 45.36, 45.29, 45.26, 45.22, 45.18, 45.11, 45.09, 44.98, 44.98, 44.96, 44.94, 44.9, 44.89, 44.85, 44.85, 44.84, 44.83, 44.81, 44.71, 44.71, 44.7, 44.69, 44.67, 44.66, 44.65, 44.62, 44.61, 44.6, 44.59, 44.59, 44.59, 44.58, 44.58, 44.57, 44.57, 44.57, 44.56, 44.56, 44.55, 44.54, 44.54, 44.47, 44.46, 44.45, 44.44, 44.44, 44.44, 44.43, 44.43, 44.42, 44.41, 44.33, 78.23, 68.6, 59.84, 58.17, 56.03, 52.57, 50.6, 50.13, 49.57, 47.97, 46.59, 46.41, 46.12, 45.74, 45.2, 45.11, 45.11, 44.92, 44.9, 44.88, 44.86, 44.86, 44.84, 44.82, 44.78, 44.73, 44.73, 44.72, 44.7, 44.7, 44.63, 44.61, 44.52, 44.52, 44.5, 44.48, 44.48, 44.47, 44.43, 44.43, 44.42, 44.41, 44.4, 44.35, 44.33, 44.33, 44.33, 44.32, 44.32, 44.32, 44.29, 44.29, 44.28, 44.27, 44.27, 44.27, 44.27, 44.25, 44.24, 44.2, 44.19, 44.19, 44.19, 44.18, 44.17, 44.17, 44.14, 44.13, 44.13, 44.12, 44.12, 44.1, 44.08, 44.06], [86.17, 82.34, 57.53, 55.21, 48.43, 46.38, 43.79, 43.77, 92.54, 90.24, 56.75, 56.0, 50.98, 46.85, 46.53, 97.64, 97.51, 61.05, 58.85, 55.2, 53.9, 52.31, 49.97, 49.64, 49.48, 49.42, 49.41, 49.23, 48.55, 48.12, 47.74, 47.69, 47.67, 47.42, 47.04, 46.93, 46.87, 46.87, 46.63, 46.49, 46.3, 46.21, 46.15, 46.13, 45.99, 45.95, 45.91, 45.87, 45.79, 45.56, 45.5, 45.44, 45.33, 45.22, 45.14, 45.12, 44.98, 44.95, 44.92, 44.88, 44.76, 44.74, 44.73, 44.72, 44.69, 44.65, 44.65, 44.64, 44.63, 44.63, 44.61, 44.6, 44.6, 44.53, 44.52, 44.5, 44.49, 44.48, 44.4, 96.81, 96.46, 62.27, 59.61, 54.39, 53.38, 51.31, 49.59, 49.45, 49.02, 48.77, 48.7, 48.41, 48.07, 47.49, 47.46, 47.25, 47.17, 46.72, 46.68, 46.59, 46.49, 46.42, 46.4, 46.22, 46.17, 46.05, 45.89, 45.69, 45.59, 45.58, 45.55, 45.53, 45.14, 45.08, 44.94, 44.86, 44.75, 44.7, 44.67, 44.64, 44.59, 44.54, 44.52, 44.52, 44.51, 44.46, 44.45, 44.4, 44.38, 44.37, 44.37, 44.37, 44.37, 44.35, 44.33, 44.32, 44.26, 44.22, 44.21, 44.21, 44.2, 44.16, 44.14, 44.09], [45.33, 45.21, 44.32, 47.25, 46.24, 52.75, 52.4, 51.37, 51.34, 49.78, 49.03, 49.02, 48.99, 48.93, 48.77, 48.54, 47.97, 47.73, 47.69, 47.67, 47.5, 47.39, 47.26, 47.26, 47.14, 47.05, 46.57, 46.41, 46.39, 46.36, 46.34, 46.31, 46.31, 46.11, 45.98, 45.92, 45.79, 45.78, 45.65, 45.26, 45.22, 45.19, 45.15, 45.14, 45.11, 45.1, 45.01, 44.99, 44.96, 44.74, 44.63, 44.62, 44.57, 44.53, 44.44, 44.41, 44.39, 44.38, 44.37, 44.31, 52.32, 52.16, 50.58, 48.78, 48.64, 48.57, 48.56, 48.54, 48.31, 48.01, 47.98, 47.52, 47.36, 47.34, 47.25, 47.15, 47.11, 46.9, 46.88, 46.85, 46.54, 46.24, 46.13, 46.07, 46.0, 45.94, 45.79, 45.79, 45.64, 45.52, 45.51, 45.43, 45.33, 45.32, 44.96, 44.91, 44.82, 44.81, 44.8, 44.79, 44.72, 44.71, 44.68, 44.68, 44.62, 44.44, 44.37, 44.31, 44.26, 44.26, 44.25, 44.24, 44.17, 44.15, 44.13], [50.44, 49.1, 48.33, 48.26, 43.36, 51.72, 50.58, 47.7, 45.38, 44.36, 59.72, 59.54, 56.06, 53.91, 49.53, 48.81, 48.61, 47.54, 47.48, 47.42, 47.25, 47.19, 47.18, 45.55, 45.54, 45.53, 45.41, 45.25, 45.2, 45.14, 45.03, 45.02, 45.01, 44.94, 44.93, 44.92, 44.91, 44.77, 44.77, 44.71, 44.69, 44.67, 44.66, 44.59, 44.58, 44.56, 44.55, 44.55, 44.54, 44.54, 44.54, 44.45, 44.45, 44.41, 44.41, 44.4, 44.33, 44.31, 44.29, 44.24, 59.2, 58.8, 54.21, 53.79, 50.34, 49.33, 47.89, 47.71, 47.31, 47.31, 47.06, 47.0, 46.81, 45.96, 45.36, 45.25, 45.06, 44.87, 44.86, 44.79, 44.75, 44.67, 44.63, 44.6, 44.56, 44.48, 44.45, 44.42, 44.4, 44.39, 44.37, 44.33, 44.31, 44.3, 44.28, 44.28, 44.27, 44.25, 44.22, 44.21, 44.2, 44.17, 44.15, 44.15, 44.15, 44.13, 44.06, 44.05, 44.04], [46.34, 47.75, 52.12, 48.48, 48.4, 47.59, 47.4, 46.8, 46.67, 46.3, 46.13, 46.06, 45.95, 45.92, 45.78, 45.73, 45.71, 45.63, 45.6, 45.6, 45.59, 45.47, 45.41, 45.28, 45.27, 45.23, 45.07, 45.01, 44.94, 44.91, 44.89, 44.87, 44.85, 44.85, 44.82, 44.77, 44.67, 44.67, 44.65, 44.64, 44.61, 44.59, 44.57, 44.54, 44.51, 44.48, 44.46, 44.43, 44.36, 49.97, 48.17, 48.07, 47.28, 47.04, 46.58, 46.36, 46.03, 45.79, 45.64, 45.61, 45.61, 45.54, 45.53, 45.36, 45.31, 45.28, 45.22, 45.2, 45.17, 45.13, 45.04, 44.98, 44.92, 44.78, 44.77, 44.7, 44.69, 44.61, 44.59, 44.57, 44.57, 44.46, 44.43, 44.41, 44.39, 44.38, 44.37, 44.36, 44.36, 44.31, 44.3, 44.28, 44.24, 44.21, 44.12, 44.12], [50.17, 47.97, 46.99, 46.34, 46.29, 45.88, 45.79, 45.63, 45.49, 45.47, 45.43, 45.29, 45.21, 45.04, 45.04, 45.01, 44.85, 44.77, 44.73, 44.71, 44.7, 44.66, 44.63, 44.63, 44.61, 44.61, 44.57, 44.57, 44.56, 44.52, 44.5, 44.45, 44.42, 44.42, 44.41, 44.39, 44.38, 44.36, 44.35, 44.35, 44.27, 49.79, 46.96, 46.72, 46.03, 45.92, 45.56, 45.4, 45.36, 45.31, 45.17, 45.06, 45.03, 45.02, 44.83, 44.83, 44.61, 44.51, 44.44, 44.44, 44.41, 44.4, 44.38, 44.38, 44.37, 44.35, 44.32, 44.31, 44.28, 44.24, 44.23, 44.19, 44.18, 44.16, 44.14, 44.1, 44.1, 44.09, 44.09, 44.07, 44.02], [53.43, 51.72, 47.74, 56.11, 50.77, 48.51, 44.5, 60.87, 58.39, 54.75, 51.23, 49.79, 49.51, 49.18, 48.84, 47.69, 47.56, 47.47, 46.59, 46.58, 46.52, 45.74, 45.66, 45.58, 45.55, 45.44, 45.18, 45.05, 44.75, 44.72, 44.7, 44.68, 44.55, 44.53, 44.48, 44.47, 44.44, 44.41, 44.3, 60.04, 56.49, 53.92, 50.25, 49.31, 48.74, 48.72, 48.23, 47.6, 47.04, 46.95, 46.34, 46.18, 46.17, 45.56, 45.48, 45.4, 45.36, 45.12, 44.92, 44.77, 44.68, 44.53, 44.49, 44.41, 44.27, 44.19, 44.17, 44.16, 44.13, 44.12, 44.12, 44.03], [46.74, 51.31, 66.06, 50.95, 49.88, 49.84, 48.63, 48.35, 47.79, 46.23, 46.02, 45.67, 45.66, 45.55, 45.51, 45.43, 45.43, 45.38, 45.35, 45.14, 45.07, 45.01, 44.82, 44.78, 44.77, 44.74, 44.56, 44.55, 44.49, 44.47, 44.47, 44.47, 44.46, 44.39, 44.36, 44.3, 64.82, 51.02, 49.79, 48.95, 48.24, 47.6, 47.19, 45.92, 45.88, 45.27, 45.2, 45.16, 45.09, 45.04, 45.04, 44.94, 44.79, 44.74, 44.61, 44.56, 44.56, 44.51, 44.47, 44.29, 44.27, 44.23, 44.22, 44.22, 44.2, 44.17, 44.16, 44.15, 44.13, 44.08, 44.08, 44.06], [44.18, 44.13, 44.77, 44.5, 51.58, 51.43, 50.37, 49.29, 48.96, 48.71, 47.47, 45.97, 45.18, 45.1, 45.1, 44.97, 44.9, 44.81, 44.8, 44.79, 44.79, 44.76, 44.73, 44.62, 44.6, 44.46, 44.44, 44.43, 44.39, 44.38, 44.34, 51.61, 51.34, 50.4, 49.33, 48.91, 47.97, 47.1, 45.58, 44.96, 44.88, 44.79, 44.7, 44.67, 44.56, 44.52, 44.49, 44.48, 44.48, 44.44, 44.38, 44.3, 44.22, 44.22, 44.2, 44.16, 44.15, 44.09], [54.19, 47.16, 45.49, 45.46, 45.01, 44.92, 44.82, 44.74, 44.65, 44.56, 44.54, 44.53, 44.52, 44.44, 44.44, 44.4, 44.39, 44.36, 44.32, 44.32, 44.3, 44.26, 44.24, 44.24, 44.24, 54.23, 46.97, 45.24, 45.14, 44.65, 44.65, 44.6, 44.6, 44.35, 44.29, 44.24, 44.23, 44.17, 44.16, 44.12, 44.1, 44.08, 44.06, 44.06, 44.05, 44.04], [49.82, 46.08, 45.39, 45.14, 44.85, 44.76, 44.67, 44.45, 44.45, 44.4, 44.39, 44.37, 44.36, 44.36, 44.34, 44.31, 44.31, 44.28, 49.31, 45.72, 45.14, 44.7, 44.55, 44.53, 44.41, 44.21, 44.12, 44.12, 44.12, 44.1, 44.09, 44.09, 44.07, 44.05, 44.03, 44.03], [46.1, 45.4, 45.11, 45.0, 44.97, 44.91, 44.89, 44.89, 44.83, 44.79, 44.69, 44.55, 44.43, 44.39, 44.38, 45.54, 45.3, 44.96, 44.8, 44.68, 44.52, 44.51, 44.49, 44.44, 44.39, 44.34, 44.27, 44.18, 44.14, 44.11, 44.11], [45.13, 43.47, 45.73, 52.42, 51.29, 50.29, 49.97, 49.89, 49.85, 49.47, 47.11, 46.63, 46.48, 45.82, 45.36, 44.78, 51.78, 51.74, 50.17, 50.1, 49.83, 49.44, 49.3, 47.0, 46.46, 46.26, 45.51, 45.14, 44.37], [66.69, 47.94, 47.68, 44.51, 64.99, 48.83, 46.54, 45.73, 72.18, 53.5, 52.69, 51.8, 49.17, 48.05, 47.93, 45.05, 44.58, 66.93, 51.47, 51.46, 51.14, 48.48, 47.73, 47.49, 44.58, 44.29], [47.78, 46.29, 46.12, 45.43, 45.29, 45.04, 44.72, 44.66, 44.63, 44.61, 44.51, 44.42, 47.03, 46.39, 45.51, 45.18, 45.08, 44.58, 44.54, 44.4, 44.34, 44.31, 44.3, 44.19], [47.61, 47.98, 53.64, 51.34, 50.34, 49.96, 48.79, 48.27, 46.44, 46.32, 45.57, 45.4, 44.7, 52.79, 49.75, 49.57, 49.54, 48.23, 46.79, 46.14, 45.47, 45.16, 45.12, 44.44], [65.09, 60.76, 50.01, 48.76, 59.98, 54.34, 48.72, 47.45, 66.76, 59.17, 52.63, 50.89, 45.76, 45.11, 44.65, 65.71, 57.17, 51.75, 49.12, 45.49, 44.71, 44.36], [44.44, 44.39, 50.76, 45.69, 45.58, 45.58, 45.43, 45.41, 44.97, 44.69, 44.65, 50.04, 45.37, 45.27, 45.1, 45.02, 44.96, 44.56, 44.4, 44.32]]}],                        {\"autosize\": false, \"height\": 500, \"margin\": {\"b\": 65, \"l\": 65, \"r\": 50, \"t\": 90}, \"template\": {\"data\": {\"bar\": [{\"error_x\": {\"color\": \"#2a3f5f\"}, \"error_y\": {\"color\": \"#2a3f5f\"}, \"marker\": {\"line\": {\"color\": \"#E5ECF6\", \"width\": 0.5}}, \"type\": \"bar\"}], \"barpolar\": [{\"marker\": {\"line\": {\"color\": \"#E5ECF6\", \"width\": 0.5}}, \"type\": \"barpolar\"}], \"carpet\": [{\"aaxis\": {\"endlinecolor\": \"#2a3f5f\", \"gridcolor\": \"white\", \"linecolor\": \"white\", \"minorgridcolor\": \"white\", \"startlinecolor\": \"#2a3f5f\"}, \"baxis\": {\"endlinecolor\": \"#2a3f5f\", \"gridcolor\": \"white\", \"linecolor\": \"white\", \"minorgridcolor\": \"white\", \"startlinecolor\": \"#2a3f5f\"}, \"type\": \"carpet\"}], \"choropleth\": [{\"colorbar\": {\"outlinewidth\": 0, \"ticks\": \"\"}, \"type\": \"choropleth\"}], \"contour\": [{\"colorbar\": {\"outlinewidth\": 0, \"ticks\": \"\"}, \"colorscale\": [[0.0, \"#0d0887\"], [0.1111111111111111, \"#46039f\"], [0.2222222222222222, \"#7201a8\"], [0.3333333333333333, \"#9c179e\"], [0.4444444444444444, \"#bd3786\"], [0.5555555555555556, \"#d8576b\"], [0.6666666666666666, \"#ed7953\"], [0.7777777777777778, \"#fb9f3a\"], [0.8888888888888888, \"#fdca26\"], [1.0, \"#f0f921\"]], \"type\": \"contour\"}], \"contourcarpet\": [{\"colorbar\": {\"outlinewidth\": 0, \"ticks\": \"\"}, \"type\": \"contourcarpet\"}], \"heatmap\": [{\"colorbar\": {\"outlinewidth\": 0, \"ticks\": \"\"}, \"colorscale\": [[0.0, \"#0d0887\"], [0.1111111111111111, \"#46039f\"], [0.2222222222222222, \"#7201a8\"], [0.3333333333333333, \"#9c179e\"], [0.4444444444444444, \"#bd3786\"], [0.5555555555555556, \"#d8576b\"], [0.6666666666666666, \"#ed7953\"], [0.7777777777777778, \"#fb9f3a\"], [0.8888888888888888, \"#fdca26\"], [1.0, \"#f0f921\"]], \"type\": \"heatmap\"}], \"heatmapgl\": [{\"colorbar\": {\"outlinewidth\": 0, \"ticks\": \"\"}, \"colorscale\": [[0.0, \"#0d0887\"], [0.1111111111111111, \"#46039f\"], [0.2222222222222222, \"#7201a8\"], [0.3333333333333333, \"#9c179e\"], [0.4444444444444444, \"#bd3786\"], [0.5555555555555556, \"#d8576b\"], [0.6666666666666666, \"#ed7953\"], [0.7777777777777778, \"#fb9f3a\"], [0.8888888888888888, \"#fdca26\"], [1.0, \"#f0f921\"]], \"type\": \"heatmapgl\"}], \"histogram\": [{\"marker\": {\"colorbar\": {\"outlinewidth\": 0, \"ticks\": \"\"}}, \"type\": \"histogram\"}], \"histogram2d\": [{\"colorbar\": {\"outlinewidth\": 0, \"ticks\": \"\"}, \"colorscale\": [[0.0, \"#0d0887\"], [0.1111111111111111, \"#46039f\"], [0.2222222222222222, \"#7201a8\"], [0.3333333333333333, \"#9c179e\"], [0.4444444444444444, \"#bd3786\"], [0.5555555555555556, \"#d8576b\"], [0.6666666666666666, \"#ed7953\"], [0.7777777777777778, \"#fb9f3a\"], [0.8888888888888888, \"#fdca26\"], [1.0, \"#f0f921\"]], \"type\": \"histogram2d\"}], \"histogram2dcontour\": [{\"colorbar\": {\"outlinewidth\": 0, \"ticks\": \"\"}, \"colorscale\": [[0.0, \"#0d0887\"], [0.1111111111111111, \"#46039f\"], [0.2222222222222222, \"#7201a8\"], [0.3333333333333333, \"#9c179e\"], [0.4444444444444444, \"#bd3786\"], [0.5555555555555556, \"#d8576b\"], [0.6666666666666666, \"#ed7953\"], [0.7777777777777778, \"#fb9f3a\"], [0.8888888888888888, \"#fdca26\"], [1.0, \"#f0f921\"]], \"type\": \"histogram2dcontour\"}], \"mesh3d\": [{\"colorbar\": {\"outlinewidth\": 0, \"ticks\": \"\"}, \"type\": \"mesh3d\"}], \"parcoords\": [{\"line\": {\"colorbar\": {\"outlinewidth\": 0, \"ticks\": \"\"}}, \"type\": \"parcoords\"}], \"pie\": [{\"automargin\": true, \"type\": \"pie\"}], \"scatter\": [{\"marker\": {\"colorbar\": {\"outlinewidth\": 0, \"ticks\": \"\"}}, \"type\": \"scatter\"}], \"scatter3d\": [{\"line\": {\"colorbar\": {\"outlinewidth\": 0, \"ticks\": \"\"}}, \"marker\": {\"colorbar\": {\"outlinewidth\": 0, \"ticks\": \"\"}}, \"type\": \"scatter3d\"}], \"scattercarpet\": [{\"marker\": {\"colorbar\": {\"outlinewidth\": 0, \"ticks\": \"\"}}, \"type\": \"scattercarpet\"}], \"scattergeo\": [{\"marker\": {\"colorbar\": {\"outlinewidth\": 0, \"ticks\": \"\"}}, \"type\": \"scattergeo\"}], \"scattergl\": [{\"marker\": {\"colorbar\": {\"outlinewidth\": 0, \"ticks\": \"\"}}, \"type\": \"scattergl\"}], \"scattermapbox\": [{\"marker\": {\"colorbar\": {\"outlinewidth\": 0, \"ticks\": \"\"}}, \"type\": \"scattermapbox\"}], \"scatterpolar\": [{\"marker\": {\"colorbar\": {\"outlinewidth\": 0, \"ticks\": \"\"}}, \"type\": \"scatterpolar\"}], \"scatterpolargl\": [{\"marker\": {\"colorbar\": {\"outlinewidth\": 0, \"ticks\": \"\"}}, \"type\": \"scatterpolargl\"}], \"scatterternary\": [{\"marker\": {\"colorbar\": {\"outlinewidth\": 0, \"ticks\": \"\"}}, \"type\": \"scatterternary\"}], \"surface\": [{\"colorbar\": {\"outlinewidth\": 0, \"ticks\": \"\"}, \"colorscale\": [[0.0, \"#0d0887\"], [0.1111111111111111, \"#46039f\"], [0.2222222222222222, \"#7201a8\"], [0.3333333333333333, \"#9c179e\"], [0.4444444444444444, \"#bd3786\"], [0.5555555555555556, \"#d8576b\"], [0.6666666666666666, \"#ed7953\"], [0.7777777777777778, \"#fb9f3a\"], [0.8888888888888888, \"#fdca26\"], [1.0, \"#f0f921\"]], \"type\": \"surface\"}], \"table\": [{\"cells\": {\"fill\": {\"color\": \"#EBF0F8\"}, \"line\": {\"color\": \"white\"}}, \"header\": {\"fill\": {\"color\": \"#C8D4E3\"}, \"line\": {\"color\": \"white\"}}, \"type\": \"table\"}]}, \"layout\": {\"annotationdefaults\": {\"arrowcolor\": \"#2a3f5f\", \"arrowhead\": 0, \"arrowwidth\": 1}, \"autotypenumbers\": \"strict\", \"coloraxis\": {\"colorbar\": {\"outlinewidth\": 0, \"ticks\": \"\"}}, \"colorscale\": {\"diverging\": [[0, \"#8e0152\"], [0.1, \"#c51b7d\"], [0.2, \"#de77ae\"], [0.3, \"#f1b6da\"], [0.4, \"#fde0ef\"], [0.5, \"#f7f7f7\"], [0.6, \"#e6f5d0\"], [0.7, \"#b8e186\"], [0.8, \"#7fbc41\"], [0.9, \"#4d9221\"], [1, \"#276419\"]], \"sequential\": [[0.0, \"#0d0887\"], [0.1111111111111111, \"#46039f\"], [0.2222222222222222, \"#7201a8\"], [0.3333333333333333, \"#9c179e\"], [0.4444444444444444, \"#bd3786\"], [0.5555555555555556, \"#d8576b\"], [0.6666666666666666, \"#ed7953\"], [0.7777777777777778, \"#fb9f3a\"], [0.8888888888888888, \"#fdca26\"], [1.0, \"#f0f921\"]], \"sequentialminus\": [[0.0, \"#0d0887\"], [0.1111111111111111, \"#46039f\"], [0.2222222222222222, \"#7201a8\"], [0.3333333333333333, \"#9c179e\"], [0.4444444444444444, \"#bd3786\"], [0.5555555555555556, \"#d8576b\"], [0.6666666666666666, \"#ed7953\"], [0.7777777777777778, \"#fb9f3a\"], [0.8888888888888888, \"#fdca26\"], [1.0, \"#f0f921\"]]}, \"colorway\": [\"#636efa\", \"#EF553B\", \"#00cc96\", \"#ab63fa\", \"#FFA15A\", \"#19d3f3\", \"#FF6692\", \"#B6E880\", \"#FF97FF\", \"#FECB52\"], \"font\": {\"color\": \"#2a3f5f\"}, \"geo\": {\"bgcolor\": \"white\", \"lakecolor\": \"white\", \"landcolor\": \"#E5ECF6\", \"showlakes\": true, \"showland\": true, \"subunitcolor\": \"white\"}, \"hoverlabel\": {\"align\": \"left\"}, \"hovermode\": \"closest\", \"mapbox\": {\"style\": \"light\"}, \"paper_bgcolor\": \"white\", \"plot_bgcolor\": \"#E5ECF6\", \"polar\": {\"angularaxis\": {\"gridcolor\": \"white\", \"linecolor\": \"white\", \"ticks\": \"\"}, \"bgcolor\": \"#E5ECF6\", \"radialaxis\": {\"gridcolor\": \"white\", \"linecolor\": \"white\", \"ticks\": \"\"}}, \"scene\": {\"xaxis\": {\"backgroundcolor\": \"#E5ECF6\", \"gridcolor\": \"white\", \"gridwidth\": 2, \"linecolor\": \"white\", \"showbackground\": true, \"ticks\": \"\", \"zerolinecolor\": \"white\"}, \"yaxis\": {\"backgroundcolor\": \"#E5ECF6\", \"gridcolor\": \"white\", \"gridwidth\": 2, \"linecolor\": \"white\", \"showbackground\": true, \"ticks\": \"\", \"zerolinecolor\": \"white\"}, \"zaxis\": {\"backgroundcolor\": \"#E5ECF6\", \"gridcolor\": \"white\", \"gridwidth\": 2, \"linecolor\": \"white\", \"showbackground\": true, \"ticks\": \"\", \"zerolinecolor\": \"white\"}}, \"shapedefaults\": {\"line\": {\"color\": \"#2a3f5f\"}}, \"ternary\": {\"aaxis\": {\"gridcolor\": \"white\", \"linecolor\": \"white\", \"ticks\": \"\"}, \"baxis\": {\"gridcolor\": \"white\", \"linecolor\": \"white\", \"ticks\": \"\"}, \"bgcolor\": \"#E5ECF6\", \"caxis\": {\"gridcolor\": \"white\", \"linecolor\": \"white\", \"ticks\": \"\"}}, \"title\": {\"x\": 0.05}, \"xaxis\": {\"automargin\": true, \"gridcolor\": \"white\", \"linecolor\": \"white\", \"ticks\": \"\", \"title\": {\"standoff\": 15}, \"zerolinecolor\": \"white\", \"zerolinewidth\": 2}, \"yaxis\": {\"automargin\": true, \"gridcolor\": \"white\", \"linecolor\": \"white\", \"ticks\": \"\", \"title\": {\"standoff\": 15}, \"zerolinecolor\": \"white\", \"zerolinewidth\": 2}}}, \"title\": {\"text\": \"Pontua\\u00e7\\u00e3o das Universidades dos 20 Principais Pa\\u00edses\"}, \"width\": 500},                        {\"responsive\": true}                    ).then(function(){\n",
       "                            \n",
       "var gd = document.getElementById('d4c822a0-04ce-4911-bf2c-8be282192dfc');\n",
       "var x = new MutationObserver(function (mutations, observer) {{\n",
       "        var display = window.getComputedStyle(gd).display;\n",
       "        if (!display || display === 'none') {{\n",
       "            console.log([gd, 'removed!']);\n",
       "            Plotly.purge(gd);\n",
       "            observer.disconnect();\n",
       "        }}\n",
       "}});\n",
       "\n",
       "// Listen for the removal of the full notebook cells\n",
       "var notebookContainer = gd.closest('#notebook-container');\n",
       "if (notebookContainer) {{\n",
       "    x.observe(notebookContainer, {childList: true});\n",
       "}}\n",
       "\n",
       "// Listen for the clearing of the current output cell\n",
       "var outputEl = gd.closest('.output');\n",
       "if (outputEl) {{\n",
       "    x.observe(outputEl, {childList: true});\n",
       "}}\n",
       "\n",
       "                        })                };                });            </script>        </div>"
      ]
     },
     "metadata": {},
     "output_type": "display_data"
    }
   ],
   "source": [
    "# Figura\n",
    "fig = go.Figure(data = [go.Surface(z = z_data)])\n",
    "\n",
    "# Layout\n",
    "fig.update_layout(title = 'Pontuação das Universidades dos 20 Principais Países', \n",
    "                  autosize = False,\n",
    "                  width = 500, \n",
    "                  height = 500,\n",
    "                  margin = dict(l = 65, r = 50, b = 65, t = 90))\n",
    "\n",
    "# Gráfico\n",
    "fig.show()"
   ]
  },
  {
   "cell_type": "markdown",
   "metadata": {
    "papermill": {
     "duration": 0.081006,
     "end_time": "2020-08-12T12:40:12.791981",
     "exception": false,
     "start_time": "2020-08-12T12:40:12.710975",
     "status": "completed"
    },
    "tags": []
   },
   "source": [
    "### 3D Line"
   ]
  },
  {
   "cell_type": "markdown",
   "metadata": {
    "papermill": {
     "duration": 0.084467,
     "end_time": "2020-08-12T12:40:12.961630",
     "exception": false,
     "start_time": "2020-08-12T12:40:12.877163",
     "status": "completed"
    },
    "tags": []
   },
   "source": [
    "**Objetivo**: Exibir relação entre 3 variáveis em linhas.\n",
    "\n",
    "Como se relacionam a população, o PIB e o ano nos países europeus?"
   ]
  },
  {
   "cell_type": "code",
   "execution_count": 26,
   "metadata": {
    "_kg_hide-input": true,
    "execution": {
     "iopub.execute_input": "2020-08-12T12:40:13.137415Z",
     "iopub.status.busy": "2020-08-12T12:40:13.136541Z",
     "iopub.status.idle": "2020-08-12T12:40:13.155551Z",
     "shell.execute_reply": "2020-08-12T12:40:13.156419Z"
    },
    "papermill": {
     "duration": 0.109833,
     "end_time": "2020-08-12T12:40:13.156668",
     "exception": false,
     "start_time": "2020-08-12T12:40:13.046835",
     "status": "completed"
    },
    "tags": []
   },
   "outputs": [],
   "source": [
    "# Prepara os dados\n",
    "df = px.data.gapminder().query(\"continent=='Europe'\")"
   ]
  },
  {
   "cell_type": "code",
   "execution_count": 27,
   "metadata": {
    "execution": {
     "iopub.execute_input": "2020-08-12T12:40:13.335833Z",
     "iopub.status.busy": "2020-08-12T12:40:13.335011Z",
     "iopub.status.idle": "2020-08-12T12:40:13.540823Z",
     "shell.execute_reply": "2020-08-12T12:40:13.539959Z"
    },
    "papermill": {
     "duration": 0.297152,
     "end_time": "2020-08-12T12:40:13.541001",
     "exception": false,
     "start_time": "2020-08-12T12:40:13.243849",
     "status": "completed"
    },
    "tags": []
   },
   "outputs": [
    {
     "data": {
      "application/vnd.plotly.v1+json": {
       "config": {
        "plotlyServerURL": "https://plot.ly"
       },
       "data": [
        {
         "hovertemplate": "country=Albania<br>gdpPercap=%{x}<br>pop=%{y}<br>year=%{z}<extra></extra>",
         "legendgroup": "Albania",
         "line": {
          "color": "#636efa",
          "dash": "solid"
         },
         "mode": "lines",
         "name": "Albania",
         "scene": "scene",
         "showlegend": true,
         "type": "scatter3d",
         "x": [
          1601.056136,
          1942.284244,
          2312.888958,
          2760.196931,
          3313.422188,
          3533.00391,
          3630.880722,
          3738.932735,
          2497.437901,
          3193.054604,
          4604.211737,
          5937.029526
         ],
         "y": [
          1282697,
          1476505,
          1728137,
          1984060,
          2263554,
          2509048,
          2780097,
          3075321,
          3326498,
          3428038,
          3508512,
          3600523
         ],
         "z": [
          1952,
          1957,
          1962,
          1967,
          1972,
          1977,
          1982,
          1987,
          1992,
          1997,
          2002,
          2007
         ]
        },
        {
         "hovertemplate": "country=Austria<br>gdpPercap=%{x}<br>pop=%{y}<br>year=%{z}<extra></extra>",
         "legendgroup": "Austria",
         "line": {
          "color": "#EF553B",
          "dash": "solid"
         },
         "mode": "lines",
         "name": "Austria",
         "scene": "scene",
         "showlegend": true,
         "type": "scatter3d",
         "x": [
          6137.076492,
          8842.59803,
          10750.72111,
          12834.6024,
          16661.6256,
          19749.4223,
          21597.08362,
          23687.82607,
          27042.01868,
          29095.92066,
          32417.60769,
          36126.4927
         ],
         "y": [
          6927772,
          6965860,
          7129864,
          7376998,
          7544201,
          7568430,
          7574613,
          7578903,
          7914969,
          8069876,
          8148312,
          8199783
         ],
         "z": [
          1952,
          1957,
          1962,
          1967,
          1972,
          1977,
          1982,
          1987,
          1992,
          1997,
          2002,
          2007
         ]
        },
        {
         "hovertemplate": "country=Belgium<br>gdpPercap=%{x}<br>pop=%{y}<br>year=%{z}<extra></extra>",
         "legendgroup": "Belgium",
         "line": {
          "color": "#00cc96",
          "dash": "solid"
         },
         "mode": "lines",
         "name": "Belgium",
         "scene": "scene",
         "showlegend": true,
         "type": "scatter3d",
         "x": [
          8343.105127,
          9714.960623,
          10991.20676,
          13149.04119,
          16672.14356,
          19117.97448,
          20979.84589,
          22525.56308,
          25575.57069,
          27561.19663,
          30485.88375,
          33692.60508
         ],
         "y": [
          8730405,
          8989111,
          9218400,
          9556500,
          9709100,
          9821800,
          9856303,
          9870200,
          10045622,
          10199787,
          10311970,
          10392226
         ],
         "z": [
          1952,
          1957,
          1962,
          1967,
          1972,
          1977,
          1982,
          1987,
          1992,
          1997,
          2002,
          2007
         ]
        },
        {
         "hovertemplate": "country=Bosnia and Herzegovina<br>gdpPercap=%{x}<br>pop=%{y}<br>year=%{z}<extra></extra>",
         "legendgroup": "Bosnia and Herzegovina",
         "line": {
          "color": "#ab63fa",
          "dash": "solid"
         },
         "mode": "lines",
         "name": "Bosnia and Herzegovina",
         "scene": "scene",
         "showlegend": true,
         "type": "scatter3d",
         "x": [
          973.5331948,
          1353.989176,
          1709.683679,
          2172.352423,
          2860.16975,
          3528.481305,
          4126.613157,
          4314.114757,
          2546.781445,
          4766.355904,
          6018.975239,
          7446.298803
         ],
         "y": [
          2791000,
          3076000,
          3349000,
          3585000,
          3819000,
          4086000,
          4172693,
          4338977,
          4256013,
          3607000,
          4165416,
          4552198
         ],
         "z": [
          1952,
          1957,
          1962,
          1967,
          1972,
          1977,
          1982,
          1987,
          1992,
          1997,
          2002,
          2007
         ]
        },
        {
         "hovertemplate": "country=Bulgaria<br>gdpPercap=%{x}<br>pop=%{y}<br>year=%{z}<extra></extra>",
         "legendgroup": "Bulgaria",
         "line": {
          "color": "#FFA15A",
          "dash": "solid"
         },
         "mode": "lines",
         "name": "Bulgaria",
         "scene": "scene",
         "showlegend": true,
         "type": "scatter3d",
         "x": [
          2444.286648,
          3008.670727,
          4254.337839,
          5577.0028,
          6597.494398,
          7612.240438,
          8224.191647,
          8239.854824,
          6302.623438,
          5970.38876,
          7696.777725,
          10680.79282
         ],
         "y": [
          7274900,
          7651254,
          8012946,
          8310226,
          8576200,
          8797022,
          8892098,
          8971958,
          8658506,
          8066057,
          7661799,
          7322858
         ],
         "z": [
          1952,
          1957,
          1962,
          1967,
          1972,
          1977,
          1982,
          1987,
          1992,
          1997,
          2002,
          2007
         ]
        },
        {
         "hovertemplate": "country=Croatia<br>gdpPercap=%{x}<br>pop=%{y}<br>year=%{z}<extra></extra>",
         "legendgroup": "Croatia",
         "line": {
          "color": "#19d3f3",
          "dash": "solid"
         },
         "mode": "lines",
         "name": "Croatia",
         "scene": "scene",
         "showlegend": true,
         "type": "scatter3d",
         "x": [
          3119.23652,
          4338.231617,
          5477.890018,
          6960.297861,
          9164.090127,
          11305.38517,
          13221.82184,
          13822.58394,
          8447.794873,
          9875.604515,
          11628.38895,
          14619.22272
         ],
         "y": [
          3882229,
          3991242,
          4076557,
          4174366,
          4225310,
          4318673,
          4413368,
          4484310,
          4494013,
          4444595,
          4481020,
          4493312
         ],
         "z": [
          1952,
          1957,
          1962,
          1967,
          1972,
          1977,
          1982,
          1987,
          1992,
          1997,
          2002,
          2007
         ]
        },
        {
         "hovertemplate": "country=Czech Republic<br>gdpPercap=%{x}<br>pop=%{y}<br>year=%{z}<extra></extra>",
         "legendgroup": "Czech Republic",
         "line": {
          "color": "#FF6692",
          "dash": "solid"
         },
         "mode": "lines",
         "name": "Czech Republic",
         "scene": "scene",
         "showlegend": true,
         "type": "scatter3d",
         "x": [
          6876.14025,
          8256.343918,
          10136.86713,
          11399.44489,
          13108.4536,
          14800.16062,
          15377.22855,
          16310.4434,
          14297.02122,
          16048.51424,
          17596.21022,
          22833.30851
         ],
         "y": [
          9125183,
          9513758,
          9620282,
          9835109,
          9862158,
          10161915,
          10303704,
          10311597,
          10315702,
          10300707,
          10256295,
          10228744
         ],
         "z": [
          1952,
          1957,
          1962,
          1967,
          1972,
          1977,
          1982,
          1987,
          1992,
          1997,
          2002,
          2007
         ]
        },
        {
         "hovertemplate": "country=Denmark<br>gdpPercap=%{x}<br>pop=%{y}<br>year=%{z}<extra></extra>",
         "legendgroup": "Denmark",
         "line": {
          "color": "#B6E880",
          "dash": "solid"
         },
         "mode": "lines",
         "name": "Denmark",
         "scene": "scene",
         "showlegend": true,
         "type": "scatter3d",
         "x": [
          9692.385245,
          11099.65935,
          13583.31351,
          15937.21123,
          18866.20721,
          20422.9015,
          21688.04048,
          25116.17581,
          26406.73985,
          29804.34567,
          32166.50006,
          35278.41874
         ],
         "y": [
          4334000,
          4487831,
          4646899,
          4838800,
          4991596,
          5088419,
          5117810,
          5127024,
          5171393,
          5283663,
          5374693,
          5468120
         ],
         "z": [
          1952,
          1957,
          1962,
          1967,
          1972,
          1977,
          1982,
          1987,
          1992,
          1997,
          2002,
          2007
         ]
        },
        {
         "hovertemplate": "country=Finland<br>gdpPercap=%{x}<br>pop=%{y}<br>year=%{z}<extra></extra>",
         "legendgroup": "Finland",
         "line": {
          "color": "#FF97FF",
          "dash": "solid"
         },
         "mode": "lines",
         "name": "Finland",
         "scene": "scene",
         "showlegend": true,
         "type": "scatter3d",
         "x": [
          6424.519071,
          7545.415386,
          9371.842561,
          10921.63626,
          14358.8759,
          15605.42283,
          18533.15761,
          21141.01223,
          20647.16499,
          23723.9502,
          28204.59057,
          33207.0844
         ],
         "y": [
          4090500,
          4324000,
          4491443,
          4605744,
          4639657,
          4738902,
          4826933,
          4931729,
          5041039,
          5134406,
          5193039,
          5238460
         ],
         "z": [
          1952,
          1957,
          1962,
          1967,
          1972,
          1977,
          1982,
          1987,
          1992,
          1997,
          2002,
          2007
         ]
        },
        {
         "hovertemplate": "country=France<br>gdpPercap=%{x}<br>pop=%{y}<br>year=%{z}<extra></extra>",
         "legendgroup": "France",
         "line": {
          "color": "#FECB52",
          "dash": "solid"
         },
         "mode": "lines",
         "name": "France",
         "scene": "scene",
         "showlegend": true,
         "type": "scatter3d",
         "x": [
          7029.809327,
          8662.834898,
          10560.48553,
          12999.91766,
          16107.19171,
          18292.63514,
          20293.89746,
          22066.44214,
          24703.79615,
          25889.78487,
          28926.03234,
          30470.0167
         ],
         "y": [
          42459667,
          44310863,
          47124000,
          49569000,
          51732000,
          53165019,
          54433565,
          55630100,
          57374179,
          58623428,
          59925035,
          61083916
         ],
         "z": [
          1952,
          1957,
          1962,
          1967,
          1972,
          1977,
          1982,
          1987,
          1992,
          1997,
          2002,
          2007
         ]
        },
        {
         "hovertemplate": "country=Germany<br>gdpPercap=%{x}<br>pop=%{y}<br>year=%{z}<extra></extra>",
         "legendgroup": "Germany",
         "line": {
          "color": "#636efa",
          "dash": "solid"
         },
         "mode": "lines",
         "name": "Germany",
         "scene": "scene",
         "showlegend": true,
         "type": "scatter3d",
         "x": [
          7144.114393,
          10187.82665,
          12902.46291,
          14745.62561,
          18016.18027,
          20512.92123,
          22031.53274,
          24639.18566,
          26505.30317,
          27788.88416,
          30035.80198,
          32170.37442
         ],
         "y": [
          69145952,
          71019069,
          73739117,
          76368453,
          78717088,
          78160773,
          78335266,
          77718298,
          80597764,
          82011073,
          82350671,
          82400996
         ],
         "z": [
          1952,
          1957,
          1962,
          1967,
          1972,
          1977,
          1982,
          1987,
          1992,
          1997,
          2002,
          2007
         ]
        },
        {
         "hovertemplate": "country=Greece<br>gdpPercap=%{x}<br>pop=%{y}<br>year=%{z}<extra></extra>",
         "legendgroup": "Greece",
         "line": {
          "color": "#EF553B",
          "dash": "solid"
         },
         "mode": "lines",
         "name": "Greece",
         "scene": "scene",
         "showlegend": true,
         "type": "scatter3d",
         "x": [
          3530.690067,
          4916.299889,
          6017.190733,
          8513.097016,
          12724.82957,
          14195.52428,
          15268.42089,
          16120.52839,
          17541.49634,
          18747.69814,
          22514.2548,
          27538.41188
         ],
         "y": [
          7733250,
          8096218,
          8448233,
          8716441,
          8888628,
          9308479,
          9786480,
          9974490,
          10325429,
          10502372,
          10603863,
          10706290
         ],
         "z": [
          1952,
          1957,
          1962,
          1967,
          1972,
          1977,
          1982,
          1987,
          1992,
          1997,
          2002,
          2007
         ]
        },
        {
         "hovertemplate": "country=Hungary<br>gdpPercap=%{x}<br>pop=%{y}<br>year=%{z}<extra></extra>",
         "legendgroup": "Hungary",
         "line": {
          "color": "#00cc96",
          "dash": "solid"
         },
         "mode": "lines",
         "name": "Hungary",
         "scene": "scene",
         "showlegend": true,
         "type": "scatter3d",
         "x": [
          5263.673816,
          6040.180011,
          7550.359877,
          9326.64467,
          10168.65611,
          11674.83737,
          12545.99066,
          12986.47998,
          10535.62855,
          11712.7768,
          14843.93556,
          18008.94444
         ],
         "y": [
          9504000,
          9839000,
          10063000,
          10223422,
          10394091,
          10637171,
          10705535,
          10612740,
          10348684,
          10244684,
          10083313,
          9956108
         ],
         "z": [
          1952,
          1957,
          1962,
          1967,
          1972,
          1977,
          1982,
          1987,
          1992,
          1997,
          2002,
          2007
         ]
        },
        {
         "hovertemplate": "country=Iceland<br>gdpPercap=%{x}<br>pop=%{y}<br>year=%{z}<extra></extra>",
         "legendgroup": "Iceland",
         "line": {
          "color": "#ab63fa",
          "dash": "solid"
         },
         "mode": "lines",
         "name": "Iceland",
         "scene": "scene",
         "showlegend": true,
         "type": "scatter3d",
         "x": [
          7267.688428,
          9244.001412,
          10350.15906,
          13319.89568,
          15798.06362,
          19654.96247,
          23269.6075,
          26923.20628,
          25144.39201,
          28061.09966,
          31163.20196,
          36180.78919
         ],
         "y": [
          147962,
          165110,
          182053,
          198676,
          209275,
          221823,
          233997,
          244676,
          259012,
          271192,
          288030,
          301931
         ],
         "z": [
          1952,
          1957,
          1962,
          1967,
          1972,
          1977,
          1982,
          1987,
          1992,
          1997,
          2002,
          2007
         ]
        },
        {
         "hovertemplate": "country=Ireland<br>gdpPercap=%{x}<br>pop=%{y}<br>year=%{z}<extra></extra>",
         "legendgroup": "Ireland",
         "line": {
          "color": "#FFA15A",
          "dash": "solid"
         },
         "mode": "lines",
         "name": "Ireland",
         "scene": "scene",
         "showlegend": true,
         "type": "scatter3d",
         "x": [
          5210.280328,
          5599.077872,
          6631.597314,
          7655.568963,
          9530.772896,
          11150.98113,
          12618.32141,
          13872.86652,
          17558.81555,
          24521.94713,
          34077.04939,
          40675.99635
         ],
         "y": [
          2952156,
          2878220,
          2830000,
          2900100,
          3024400,
          3271900,
          3480000,
          3539900,
          3557761,
          3667233,
          3879155,
          4109086
         ],
         "z": [
          1952,
          1957,
          1962,
          1967,
          1972,
          1977,
          1982,
          1987,
          1992,
          1997,
          2002,
          2007
         ]
        },
        {
         "hovertemplate": "country=Italy<br>gdpPercap=%{x}<br>pop=%{y}<br>year=%{z}<extra></extra>",
         "legendgroup": "Italy",
         "line": {
          "color": "#19d3f3",
          "dash": "solid"
         },
         "mode": "lines",
         "name": "Italy",
         "scene": "scene",
         "showlegend": true,
         "type": "scatter3d",
         "x": [
          4931.404155,
          6248.656232,
          8243.58234,
          10022.40131,
          12269.27378,
          14255.98475,
          16537.4835,
          19207.23482,
          22013.64486,
          24675.02446,
          27968.09817,
          28569.7197
         ],
         "y": [
          47666000,
          49182000,
          50843200,
          52667100,
          54365564,
          56059245,
          56535636,
          56729703,
          56840847,
          57479469,
          57926999,
          58147733
         ],
         "z": [
          1952,
          1957,
          1962,
          1967,
          1972,
          1977,
          1982,
          1987,
          1992,
          1997,
          2002,
          2007
         ]
        },
        {
         "hovertemplate": "country=Montenegro<br>gdpPercap=%{x}<br>pop=%{y}<br>year=%{z}<extra></extra>",
         "legendgroup": "Montenegro",
         "line": {
          "color": "#FF6692",
          "dash": "solid"
         },
         "mode": "lines",
         "name": "Montenegro",
         "scene": "scene",
         "showlegend": true,
         "type": "scatter3d",
         "x": [
          2647.585601,
          3682.259903,
          4649.593785,
          5907.850937,
          7778.414017,
          9595.929905,
          11222.58762,
          11732.51017,
          7003.339037,
          6465.613349,
          6557.194282,
          9253.896111
         ],
         "y": [
          413834,
          442829,
          474528,
          501035,
          527678,
          560073,
          562548,
          569473,
          621621,
          692651,
          720230,
          684736
         ],
         "z": [
          1952,
          1957,
          1962,
          1967,
          1972,
          1977,
          1982,
          1987,
          1992,
          1997,
          2002,
          2007
         ]
        },
        {
         "hovertemplate": "country=Netherlands<br>gdpPercap=%{x}<br>pop=%{y}<br>year=%{z}<extra></extra>",
         "legendgroup": "Netherlands",
         "line": {
          "color": "#B6E880",
          "dash": "solid"
         },
         "mode": "lines",
         "name": "Netherlands",
         "scene": "scene",
         "showlegend": true,
         "type": "scatter3d",
         "x": [
          8941.571858,
          11276.19344,
          12790.84956,
          15363.25136,
          18794.74567,
          21209.0592,
          21399.46046,
          23651.32361,
          26790.94961,
          30246.13063,
          33724.75778,
          36797.93332
         ],
         "y": [
          10381988,
          11026383,
          11805689,
          12596822,
          13329874,
          13852989,
          14310401,
          14665278,
          15174244,
          15604464,
          16122830,
          16570613
         ],
         "z": [
          1952,
          1957,
          1962,
          1967,
          1972,
          1977,
          1982,
          1987,
          1992,
          1997,
          2002,
          2007
         ]
        },
        {
         "hovertemplate": "country=Norway<br>gdpPercap=%{x}<br>pop=%{y}<br>year=%{z}<extra></extra>",
         "legendgroup": "Norway",
         "line": {
          "color": "#FF97FF",
          "dash": "solid"
         },
         "mode": "lines",
         "name": "Norway",
         "scene": "scene",
         "showlegend": true,
         "type": "scatter3d",
         "x": [
          10095.42172,
          11653.97304,
          13450.40151,
          16361.87647,
          18965.05551,
          23311.34939,
          26298.63531,
          31540.9748,
          33965.66115,
          41283.16433,
          44683.97525,
          49357.19017
         ],
         "y": [
          3327728,
          3491938,
          3638919,
          3786019,
          3933004,
          4043205,
          4114787,
          4186147,
          4286357,
          4405672,
          4535591,
          4627926
         ],
         "z": [
          1952,
          1957,
          1962,
          1967,
          1972,
          1977,
          1982,
          1987,
          1992,
          1997,
          2002,
          2007
         ]
        },
        {
         "hovertemplate": "country=Poland<br>gdpPercap=%{x}<br>pop=%{y}<br>year=%{z}<extra></extra>",
         "legendgroup": "Poland",
         "line": {
          "color": "#FECB52",
          "dash": "solid"
         },
         "mode": "lines",
         "name": "Poland",
         "scene": "scene",
         "showlegend": true,
         "type": "scatter3d",
         "x": [
          4029.329699,
          4734.253019,
          5338.752143,
          6557.152776,
          8006.506993,
          9508.141454,
          8451.531004,
          9082.351172,
          7738.881247,
          10159.58368,
          12002.23908,
          15389.92468
         ],
         "y": [
          25730551,
          28235346,
          30329617,
          31785378,
          33039545,
          34621254,
          36227381,
          37740710,
          38370697,
          38654957,
          38625976,
          38518241
         ],
         "z": [
          1952,
          1957,
          1962,
          1967,
          1972,
          1977,
          1982,
          1987,
          1992,
          1997,
          2002,
          2007
         ]
        },
        {
         "hovertemplate": "country=Portugal<br>gdpPercap=%{x}<br>pop=%{y}<br>year=%{z}<extra></extra>",
         "legendgroup": "Portugal",
         "line": {
          "color": "#636efa",
          "dash": "solid"
         },
         "mode": "lines",
         "name": "Portugal",
         "scene": "scene",
         "showlegend": true,
         "type": "scatter3d",
         "x": [
          3068.319867,
          3774.571743,
          4727.954889,
          6361.517993,
          9022.247417,
          10172.48572,
          11753.84291,
          13039.30876,
          16207.26663,
          17641.03156,
          19970.90787,
          20509.64777
         ],
         "y": [
          8526050,
          8817650,
          9019800,
          9103000,
          8970450,
          9662600,
          9859650,
          9915289,
          9927680,
          10156415,
          10433867,
          10642836
         ],
         "z": [
          1952,
          1957,
          1962,
          1967,
          1972,
          1977,
          1982,
          1987,
          1992,
          1997,
          2002,
          2007
         ]
        },
        {
         "hovertemplate": "country=Romania<br>gdpPercap=%{x}<br>pop=%{y}<br>year=%{z}<extra></extra>",
         "legendgroup": "Romania",
         "line": {
          "color": "#EF553B",
          "dash": "solid"
         },
         "mode": "lines",
         "name": "Romania",
         "scene": "scene",
         "showlegend": true,
         "type": "scatter3d",
         "x": [
          3144.613186,
          3943.370225,
          4734.997586,
          6470.866545,
          8011.414402,
          9356.39724,
          9605.314053,
          9696.273295,
          6598.409903,
          7346.547557,
          7885.360081,
          10808.47561
         ],
         "y": [
          16630000,
          17829327,
          18680721,
          19284814,
          20662648,
          21658597,
          22356726,
          22686371,
          22797027,
          22562458,
          22404337,
          22276056
         ],
         "z": [
          1952,
          1957,
          1962,
          1967,
          1972,
          1977,
          1982,
          1987,
          1992,
          1997,
          2002,
          2007
         ]
        },
        {
         "hovertemplate": "country=Serbia<br>gdpPercap=%{x}<br>pop=%{y}<br>year=%{z}<extra></extra>",
         "legendgroup": "Serbia",
         "line": {
          "color": "#00cc96",
          "dash": "solid"
         },
         "mode": "lines",
         "name": "Serbia",
         "scene": "scene",
         "showlegend": true,
         "type": "scatter3d",
         "x": [
          3581.459448,
          4981.090891,
          6289.629157,
          7991.707066,
          10522.06749,
          12980.66956,
          15181.0927,
          15870.87851,
          9325.068238,
          7914.320304,
          7236.075251,
          9786.534714
         ],
         "y": [
          6860147,
          7271135,
          7616060,
          7971222,
          8313288,
          8686367,
          9032824,
          9230783,
          9826397,
          10336594,
          10111559,
          10150265
         ],
         "z": [
          1952,
          1957,
          1962,
          1967,
          1972,
          1977,
          1982,
          1987,
          1992,
          1997,
          2002,
          2007
         ]
        },
        {
         "hovertemplate": "country=Slovak Republic<br>gdpPercap=%{x}<br>pop=%{y}<br>year=%{z}<extra></extra>",
         "legendgroup": "Slovak Republic",
         "line": {
          "color": "#ab63fa",
          "dash": "solid"
         },
         "mode": "lines",
         "name": "Slovak Republic",
         "scene": "scene",
         "showlegend": true,
         "type": "scatter3d",
         "x": [
          5074.659104,
          6093.26298,
          7481.107598,
          8412.902397,
          9674.167626,
          10922.66404,
          11348.54585,
          12037.26758,
          9498.467723,
          12126.23065,
          13638.77837,
          18678.31435
         ],
         "y": [
          3558137,
          3844277,
          4237384,
          4442238,
          4593433,
          4827803,
          5048043,
          5199318,
          5302888,
          5383010,
          5410052,
          5447502
         ],
         "z": [
          1952,
          1957,
          1962,
          1967,
          1972,
          1977,
          1982,
          1987,
          1992,
          1997,
          2002,
          2007
         ]
        },
        {
         "hovertemplate": "country=Slovenia<br>gdpPercap=%{x}<br>pop=%{y}<br>year=%{z}<extra></extra>",
         "legendgroup": "Slovenia",
         "line": {
          "color": "#FFA15A",
          "dash": "solid"
         },
         "mode": "lines",
         "name": "Slovenia",
         "scene": "scene",
         "showlegend": true,
         "type": "scatter3d",
         "x": [
          4215.041741,
          5862.276629,
          7402.303395,
          9405.489397,
          12383.4862,
          15277.03017,
          17866.72175,
          18678.53492,
          14214.71681,
          17161.10735,
          20660.01936,
          25768.25759
         ],
         "y": [
          1489518,
          1533070,
          1582962,
          1646912,
          1694510,
          1746919,
          1861252,
          1945870,
          1999210,
          2011612,
          2011497,
          2009245
         ],
         "z": [
          1952,
          1957,
          1962,
          1967,
          1972,
          1977,
          1982,
          1987,
          1992,
          1997,
          2002,
          2007
         ]
        },
        {
         "hovertemplate": "country=Spain<br>gdpPercap=%{x}<br>pop=%{y}<br>year=%{z}<extra></extra>",
         "legendgroup": "Spain",
         "line": {
          "color": "#19d3f3",
          "dash": "solid"
         },
         "mode": "lines",
         "name": "Spain",
         "scene": "scene",
         "showlegend": true,
         "type": "scatter3d",
         "x": [
          3834.034742,
          4564.80241,
          5693.843879,
          7993.512294,
          10638.75131,
          13236.92117,
          13926.16997,
          15764.98313,
          18603.06452,
          20445.29896,
          24835.47166,
          28821.0637
         ],
         "y": [
          28549870,
          29841614,
          31158061,
          32850275,
          34513161,
          36439000,
          37983310,
          38880702,
          39549438,
          39855442,
          40152517,
          40448191
         ],
         "z": [
          1952,
          1957,
          1962,
          1967,
          1972,
          1977,
          1982,
          1987,
          1992,
          1997,
          2002,
          2007
         ]
        },
        {
         "hovertemplate": "country=Sweden<br>gdpPercap=%{x}<br>pop=%{y}<br>year=%{z}<extra></extra>",
         "legendgroup": "Sweden",
         "line": {
          "color": "#FF6692",
          "dash": "solid"
         },
         "mode": "lines",
         "name": "Sweden",
         "scene": "scene",
         "showlegend": true,
         "type": "scatter3d",
         "x": [
          8527.844662,
          9911.878226,
          12329.44192,
          15258.29697,
          17832.02464,
          18855.72521,
          20667.38125,
          23586.92927,
          23880.01683,
          25266.59499,
          29341.63093,
          33859.74835
         ],
         "y": [
          7124673,
          7363802,
          7561588,
          7867931,
          8122293,
          8251648,
          8325260,
          8421403,
          8718867,
          8897619,
          8954175,
          9031088
         ],
         "z": [
          1952,
          1957,
          1962,
          1967,
          1972,
          1977,
          1982,
          1987,
          1992,
          1997,
          2002,
          2007
         ]
        },
        {
         "hovertemplate": "country=Switzerland<br>gdpPercap=%{x}<br>pop=%{y}<br>year=%{z}<extra></extra>",
         "legendgroup": "Switzerland",
         "line": {
          "color": "#B6E880",
          "dash": "solid"
         },
         "mode": "lines",
         "name": "Switzerland",
         "scene": "scene",
         "showlegend": true,
         "type": "scatter3d",
         "x": [
          14734.23275,
          17909.48973,
          20431.0927,
          22966.14432,
          27195.11304,
          26982.29052,
          28397.71512,
          30281.70459,
          31871.5303,
          32135.32301,
          34480.95771,
          37506.41907
         ],
         "y": [
          4815000,
          5126000,
          5666000,
          6063000,
          6401400,
          6316424,
          6468126,
          6649942,
          6995447,
          7193761,
          7361757,
          7554661
         ],
         "z": [
          1952,
          1957,
          1962,
          1967,
          1972,
          1977,
          1982,
          1987,
          1992,
          1997,
          2002,
          2007
         ]
        },
        {
         "hovertemplate": "country=Turkey<br>gdpPercap=%{x}<br>pop=%{y}<br>year=%{z}<extra></extra>",
         "legendgroup": "Turkey",
         "line": {
          "color": "#FF97FF",
          "dash": "solid"
         },
         "mode": "lines",
         "name": "Turkey",
         "scene": "scene",
         "showlegend": true,
         "type": "scatter3d",
         "x": [
          1969.10098,
          2218.754257,
          2322.869908,
          2826.356387,
          3450.69638,
          4269.122326,
          4241.356344,
          5089.043686,
          5678.348271,
          6601.429915,
          6508.085718,
          8458.276384
         ],
         "y": [
          22235677,
          25670939,
          29788695,
          33411317,
          37492953,
          42404033,
          47328791,
          52881328,
          58179144,
          63047647,
          67308928,
          71158647
         ],
         "z": [
          1952,
          1957,
          1962,
          1967,
          1972,
          1977,
          1982,
          1987,
          1992,
          1997,
          2002,
          2007
         ]
        },
        {
         "hovertemplate": "country=United Kingdom<br>gdpPercap=%{x}<br>pop=%{y}<br>year=%{z}<extra></extra>",
         "legendgroup": "United Kingdom",
         "line": {
          "color": "#FECB52",
          "dash": "solid"
         },
         "mode": "lines",
         "name": "United Kingdom",
         "scene": "scene",
         "showlegend": true,
         "type": "scatter3d",
         "x": [
          9979.508487,
          11283.17795,
          12477.17707,
          14142.85089,
          15895.11641,
          17428.74846,
          18232.42452,
          21664.78767,
          22705.09254,
          26074.53136,
          29478.99919,
          33203.26128
         ],
         "y": [
          50430000,
          51430000,
          53292000,
          54959000,
          56079000,
          56179000,
          56339704,
          56981620,
          57866349,
          58808266,
          59912431,
          60776238
         ],
         "z": [
          1952,
          1957,
          1962,
          1967,
          1972,
          1977,
          1982,
          1987,
          1992,
          1997,
          2002,
          2007
         ]
        }
       ],
       "layout": {
        "legend": {
         "title": {
          "text": "country"
         },
         "tracegroupgap": 0
        },
        "margin": {
         "t": 60
        },
        "scene": {
         "domain": {
          "x": [
           0,
           1
          ],
          "y": [
           0,
           1
          ]
         },
         "xaxis": {
          "title": {
           "text": "gdpPercap"
          }
         },
         "yaxis": {
          "title": {
           "text": "pop"
          }
         },
         "zaxis": {
          "title": {
           "text": "year"
          }
         }
        },
        "template": {
         "data": {
          "bar": [
           {
            "error_x": {
             "color": "#2a3f5f"
            },
            "error_y": {
             "color": "#2a3f5f"
            },
            "marker": {
             "line": {
              "color": "#E5ECF6",
              "width": 0.5
             }
            },
            "type": "bar"
           }
          ],
          "barpolar": [
           {
            "marker": {
             "line": {
              "color": "#E5ECF6",
              "width": 0.5
             }
            },
            "type": "barpolar"
           }
          ],
          "carpet": [
           {
            "aaxis": {
             "endlinecolor": "#2a3f5f",
             "gridcolor": "white",
             "linecolor": "white",
             "minorgridcolor": "white",
             "startlinecolor": "#2a3f5f"
            },
            "baxis": {
             "endlinecolor": "#2a3f5f",
             "gridcolor": "white",
             "linecolor": "white",
             "minorgridcolor": "white",
             "startlinecolor": "#2a3f5f"
            },
            "type": "carpet"
           }
          ],
          "choropleth": [
           {
            "colorbar": {
             "outlinewidth": 0,
             "ticks": ""
            },
            "type": "choropleth"
           }
          ],
          "contour": [
           {
            "colorbar": {
             "outlinewidth": 0,
             "ticks": ""
            },
            "colorscale": [
             [
              0,
              "#0d0887"
             ],
             [
              0.1111111111111111,
              "#46039f"
             ],
             [
              0.2222222222222222,
              "#7201a8"
             ],
             [
              0.3333333333333333,
              "#9c179e"
             ],
             [
              0.4444444444444444,
              "#bd3786"
             ],
             [
              0.5555555555555556,
              "#d8576b"
             ],
             [
              0.6666666666666666,
              "#ed7953"
             ],
             [
              0.7777777777777778,
              "#fb9f3a"
             ],
             [
              0.8888888888888888,
              "#fdca26"
             ],
             [
              1,
              "#f0f921"
             ]
            ],
            "type": "contour"
           }
          ],
          "contourcarpet": [
           {
            "colorbar": {
             "outlinewidth": 0,
             "ticks": ""
            },
            "type": "contourcarpet"
           }
          ],
          "heatmap": [
           {
            "colorbar": {
             "outlinewidth": 0,
             "ticks": ""
            },
            "colorscale": [
             [
              0,
              "#0d0887"
             ],
             [
              0.1111111111111111,
              "#46039f"
             ],
             [
              0.2222222222222222,
              "#7201a8"
             ],
             [
              0.3333333333333333,
              "#9c179e"
             ],
             [
              0.4444444444444444,
              "#bd3786"
             ],
             [
              0.5555555555555556,
              "#d8576b"
             ],
             [
              0.6666666666666666,
              "#ed7953"
             ],
             [
              0.7777777777777778,
              "#fb9f3a"
             ],
             [
              0.8888888888888888,
              "#fdca26"
             ],
             [
              1,
              "#f0f921"
             ]
            ],
            "type": "heatmap"
           }
          ],
          "heatmapgl": [
           {
            "colorbar": {
             "outlinewidth": 0,
             "ticks": ""
            },
            "colorscale": [
             [
              0,
              "#0d0887"
             ],
             [
              0.1111111111111111,
              "#46039f"
             ],
             [
              0.2222222222222222,
              "#7201a8"
             ],
             [
              0.3333333333333333,
              "#9c179e"
             ],
             [
              0.4444444444444444,
              "#bd3786"
             ],
             [
              0.5555555555555556,
              "#d8576b"
             ],
             [
              0.6666666666666666,
              "#ed7953"
             ],
             [
              0.7777777777777778,
              "#fb9f3a"
             ],
             [
              0.8888888888888888,
              "#fdca26"
             ],
             [
              1,
              "#f0f921"
             ]
            ],
            "type": "heatmapgl"
           }
          ],
          "histogram": [
           {
            "marker": {
             "colorbar": {
              "outlinewidth": 0,
              "ticks": ""
             }
            },
            "type": "histogram"
           }
          ],
          "histogram2d": [
           {
            "colorbar": {
             "outlinewidth": 0,
             "ticks": ""
            },
            "colorscale": [
             [
              0,
              "#0d0887"
             ],
             [
              0.1111111111111111,
              "#46039f"
             ],
             [
              0.2222222222222222,
              "#7201a8"
             ],
             [
              0.3333333333333333,
              "#9c179e"
             ],
             [
              0.4444444444444444,
              "#bd3786"
             ],
             [
              0.5555555555555556,
              "#d8576b"
             ],
             [
              0.6666666666666666,
              "#ed7953"
             ],
             [
              0.7777777777777778,
              "#fb9f3a"
             ],
             [
              0.8888888888888888,
              "#fdca26"
             ],
             [
              1,
              "#f0f921"
             ]
            ],
            "type": "histogram2d"
           }
          ],
          "histogram2dcontour": [
           {
            "colorbar": {
             "outlinewidth": 0,
             "ticks": ""
            },
            "colorscale": [
             [
              0,
              "#0d0887"
             ],
             [
              0.1111111111111111,
              "#46039f"
             ],
             [
              0.2222222222222222,
              "#7201a8"
             ],
             [
              0.3333333333333333,
              "#9c179e"
             ],
             [
              0.4444444444444444,
              "#bd3786"
             ],
             [
              0.5555555555555556,
              "#d8576b"
             ],
             [
              0.6666666666666666,
              "#ed7953"
             ],
             [
              0.7777777777777778,
              "#fb9f3a"
             ],
             [
              0.8888888888888888,
              "#fdca26"
             ],
             [
              1,
              "#f0f921"
             ]
            ],
            "type": "histogram2dcontour"
           }
          ],
          "mesh3d": [
           {
            "colorbar": {
             "outlinewidth": 0,
             "ticks": ""
            },
            "type": "mesh3d"
           }
          ],
          "parcoords": [
           {
            "line": {
             "colorbar": {
              "outlinewidth": 0,
              "ticks": ""
             }
            },
            "type": "parcoords"
           }
          ],
          "pie": [
           {
            "automargin": true,
            "type": "pie"
           }
          ],
          "scatter": [
           {
            "marker": {
             "colorbar": {
              "outlinewidth": 0,
              "ticks": ""
             }
            },
            "type": "scatter"
           }
          ],
          "scatter3d": [
           {
            "line": {
             "colorbar": {
              "outlinewidth": 0,
              "ticks": ""
             }
            },
            "marker": {
             "colorbar": {
              "outlinewidth": 0,
              "ticks": ""
             }
            },
            "type": "scatter3d"
           }
          ],
          "scattercarpet": [
           {
            "marker": {
             "colorbar": {
              "outlinewidth": 0,
              "ticks": ""
             }
            },
            "type": "scattercarpet"
           }
          ],
          "scattergeo": [
           {
            "marker": {
             "colorbar": {
              "outlinewidth": 0,
              "ticks": ""
             }
            },
            "type": "scattergeo"
           }
          ],
          "scattergl": [
           {
            "marker": {
             "colorbar": {
              "outlinewidth": 0,
              "ticks": ""
             }
            },
            "type": "scattergl"
           }
          ],
          "scattermapbox": [
           {
            "marker": {
             "colorbar": {
              "outlinewidth": 0,
              "ticks": ""
             }
            },
            "type": "scattermapbox"
           }
          ],
          "scatterpolar": [
           {
            "marker": {
             "colorbar": {
              "outlinewidth": 0,
              "ticks": ""
             }
            },
            "type": "scatterpolar"
           }
          ],
          "scatterpolargl": [
           {
            "marker": {
             "colorbar": {
              "outlinewidth": 0,
              "ticks": ""
             }
            },
            "type": "scatterpolargl"
           }
          ],
          "scatterternary": [
           {
            "marker": {
             "colorbar": {
              "outlinewidth": 0,
              "ticks": ""
             }
            },
            "type": "scatterternary"
           }
          ],
          "surface": [
           {
            "colorbar": {
             "outlinewidth": 0,
             "ticks": ""
            },
            "colorscale": [
             [
              0,
              "#0d0887"
             ],
             [
              0.1111111111111111,
              "#46039f"
             ],
             [
              0.2222222222222222,
              "#7201a8"
             ],
             [
              0.3333333333333333,
              "#9c179e"
             ],
             [
              0.4444444444444444,
              "#bd3786"
             ],
             [
              0.5555555555555556,
              "#d8576b"
             ],
             [
              0.6666666666666666,
              "#ed7953"
             ],
             [
              0.7777777777777778,
              "#fb9f3a"
             ],
             [
              0.8888888888888888,
              "#fdca26"
             ],
             [
              1,
              "#f0f921"
             ]
            ],
            "type": "surface"
           }
          ],
          "table": [
           {
            "cells": {
             "fill": {
              "color": "#EBF0F8"
             },
             "line": {
              "color": "white"
             }
            },
            "header": {
             "fill": {
              "color": "#C8D4E3"
             },
             "line": {
              "color": "white"
             }
            },
            "type": "table"
           }
          ]
         },
         "layout": {
          "annotationdefaults": {
           "arrowcolor": "#2a3f5f",
           "arrowhead": 0,
           "arrowwidth": 1
          },
          "autotypenumbers": "strict",
          "coloraxis": {
           "colorbar": {
            "outlinewidth": 0,
            "ticks": ""
           }
          },
          "colorscale": {
           "diverging": [
            [
             0,
             "#8e0152"
            ],
            [
             0.1,
             "#c51b7d"
            ],
            [
             0.2,
             "#de77ae"
            ],
            [
             0.3,
             "#f1b6da"
            ],
            [
             0.4,
             "#fde0ef"
            ],
            [
             0.5,
             "#f7f7f7"
            ],
            [
             0.6,
             "#e6f5d0"
            ],
            [
             0.7,
             "#b8e186"
            ],
            [
             0.8,
             "#7fbc41"
            ],
            [
             0.9,
             "#4d9221"
            ],
            [
             1,
             "#276419"
            ]
           ],
           "sequential": [
            [
             0,
             "#0d0887"
            ],
            [
             0.1111111111111111,
             "#46039f"
            ],
            [
             0.2222222222222222,
             "#7201a8"
            ],
            [
             0.3333333333333333,
             "#9c179e"
            ],
            [
             0.4444444444444444,
             "#bd3786"
            ],
            [
             0.5555555555555556,
             "#d8576b"
            ],
            [
             0.6666666666666666,
             "#ed7953"
            ],
            [
             0.7777777777777778,
             "#fb9f3a"
            ],
            [
             0.8888888888888888,
             "#fdca26"
            ],
            [
             1,
             "#f0f921"
            ]
           ],
           "sequentialminus": [
            [
             0,
             "#0d0887"
            ],
            [
             0.1111111111111111,
             "#46039f"
            ],
            [
             0.2222222222222222,
             "#7201a8"
            ],
            [
             0.3333333333333333,
             "#9c179e"
            ],
            [
             0.4444444444444444,
             "#bd3786"
            ],
            [
             0.5555555555555556,
             "#d8576b"
            ],
            [
             0.6666666666666666,
             "#ed7953"
            ],
            [
             0.7777777777777778,
             "#fb9f3a"
            ],
            [
             0.8888888888888888,
             "#fdca26"
            ],
            [
             1,
             "#f0f921"
            ]
           ]
          },
          "colorway": [
           "#636efa",
           "#EF553B",
           "#00cc96",
           "#ab63fa",
           "#FFA15A",
           "#19d3f3",
           "#FF6692",
           "#B6E880",
           "#FF97FF",
           "#FECB52"
          ],
          "font": {
           "color": "#2a3f5f"
          },
          "geo": {
           "bgcolor": "white",
           "lakecolor": "white",
           "landcolor": "#E5ECF6",
           "showlakes": true,
           "showland": true,
           "subunitcolor": "white"
          },
          "hoverlabel": {
           "align": "left"
          },
          "hovermode": "closest",
          "mapbox": {
           "style": "light"
          },
          "paper_bgcolor": "white",
          "plot_bgcolor": "#E5ECF6",
          "polar": {
           "angularaxis": {
            "gridcolor": "white",
            "linecolor": "white",
            "ticks": ""
           },
           "bgcolor": "#E5ECF6",
           "radialaxis": {
            "gridcolor": "white",
            "linecolor": "white",
            "ticks": ""
           }
          },
          "scene": {
           "xaxis": {
            "backgroundcolor": "#E5ECF6",
            "gridcolor": "white",
            "gridwidth": 2,
            "linecolor": "white",
            "showbackground": true,
            "ticks": "",
            "zerolinecolor": "white"
           },
           "yaxis": {
            "backgroundcolor": "#E5ECF6",
            "gridcolor": "white",
            "gridwidth": 2,
            "linecolor": "white",
            "showbackground": true,
            "ticks": "",
            "zerolinecolor": "white"
           },
           "zaxis": {
            "backgroundcolor": "#E5ECF6",
            "gridcolor": "white",
            "gridwidth": 2,
            "linecolor": "white",
            "showbackground": true,
            "ticks": "",
            "zerolinecolor": "white"
           }
          },
          "shapedefaults": {
           "line": {
            "color": "#2a3f5f"
           }
          },
          "ternary": {
           "aaxis": {
            "gridcolor": "white",
            "linecolor": "white",
            "ticks": ""
           },
           "baxis": {
            "gridcolor": "white",
            "linecolor": "white",
            "ticks": ""
           },
           "bgcolor": "#E5ECF6",
           "caxis": {
            "gridcolor": "white",
            "linecolor": "white",
            "ticks": ""
           }
          },
          "title": {
           "x": 0.05
          },
          "xaxis": {
           "automargin": true,
           "gridcolor": "white",
           "linecolor": "white",
           "ticks": "",
           "title": {
            "standoff": 15
           },
           "zerolinecolor": "white",
           "zerolinewidth": 2
          },
          "yaxis": {
           "automargin": true,
           "gridcolor": "white",
           "linecolor": "white",
           "ticks": "",
           "title": {
            "standoff": 15
           },
           "zerolinecolor": "white",
           "zerolinewidth": 2
          }
         }
        },
        "title": {
         "text": "População, PIB e Ano na Europa",
         "x": 0.5
        }
       }
      },
      "text/html": [
       "<div>                            <div id=\"84a2f5ff-e72c-4d65-a06b-9bcc4b79afb3\" class=\"plotly-graph-div\" style=\"height:525px; width:100%;\"></div>            <script type=\"text/javascript\">                require([\"plotly\"], function(Plotly) {                    window.PLOTLYENV=window.PLOTLYENV || {};                                    if (document.getElementById(\"84a2f5ff-e72c-4d65-a06b-9bcc4b79afb3\")) {                    Plotly.newPlot(                        \"84a2f5ff-e72c-4d65-a06b-9bcc4b79afb3\",                        [{\"hovertemplate\": \"country=Albania<br>gdpPercap=%{x}<br>pop=%{y}<br>year=%{z}<extra></extra>\", \"legendgroup\": \"Albania\", \"line\": {\"color\": \"#636efa\", \"dash\": \"solid\"}, \"mode\": \"lines\", \"name\": \"Albania\", \"scene\": \"scene\", \"showlegend\": true, \"type\": \"scatter3d\", \"x\": [1601.056136, 1942.284244, 2312.888958, 2760.196931, 3313.422188, 3533.00391, 3630.880722, 3738.932735, 2497.437901, 3193.054604, 4604.211737, 5937.029526], \"y\": [1282697, 1476505, 1728137, 1984060, 2263554, 2509048, 2780097, 3075321, 3326498, 3428038, 3508512, 3600523], \"z\": [1952, 1957, 1962, 1967, 1972, 1977, 1982, 1987, 1992, 1997, 2002, 2007]}, {\"hovertemplate\": \"country=Austria<br>gdpPercap=%{x}<br>pop=%{y}<br>year=%{z}<extra></extra>\", \"legendgroup\": \"Austria\", \"line\": {\"color\": \"#EF553B\", \"dash\": \"solid\"}, \"mode\": \"lines\", \"name\": \"Austria\", \"scene\": \"scene\", \"showlegend\": true, \"type\": \"scatter3d\", \"x\": [6137.076492, 8842.59803, 10750.72111, 12834.6024, 16661.6256, 19749.4223, 21597.08362, 23687.82607, 27042.01868, 29095.92066, 32417.60769, 36126.4927], \"y\": [6927772, 6965860, 7129864, 7376998, 7544201, 7568430, 7574613, 7578903, 7914969, 8069876, 8148312, 8199783], \"z\": [1952, 1957, 1962, 1967, 1972, 1977, 1982, 1987, 1992, 1997, 2002, 2007]}, {\"hovertemplate\": \"country=Belgium<br>gdpPercap=%{x}<br>pop=%{y}<br>year=%{z}<extra></extra>\", \"legendgroup\": \"Belgium\", \"line\": {\"color\": \"#00cc96\", \"dash\": \"solid\"}, \"mode\": \"lines\", \"name\": \"Belgium\", \"scene\": \"scene\", \"showlegend\": true, \"type\": \"scatter3d\", \"x\": [8343.105127, 9714.960623, 10991.20676, 13149.04119, 16672.14356, 19117.97448, 20979.84589, 22525.56308, 25575.57069, 27561.19663, 30485.88375, 33692.60508], \"y\": [8730405, 8989111, 9218400, 9556500, 9709100, 9821800, 9856303, 9870200, 10045622, 10199787, 10311970, 10392226], \"z\": [1952, 1957, 1962, 1967, 1972, 1977, 1982, 1987, 1992, 1997, 2002, 2007]}, {\"hovertemplate\": \"country=Bosnia and Herzegovina<br>gdpPercap=%{x}<br>pop=%{y}<br>year=%{z}<extra></extra>\", \"legendgroup\": \"Bosnia and Herzegovina\", \"line\": {\"color\": \"#ab63fa\", \"dash\": \"solid\"}, \"mode\": \"lines\", \"name\": \"Bosnia and Herzegovina\", \"scene\": \"scene\", \"showlegend\": true, \"type\": \"scatter3d\", \"x\": [973.5331948, 1353.989176, 1709.683679, 2172.352423, 2860.16975, 3528.481305, 4126.613157, 4314.114757, 2546.781445, 4766.355904, 6018.975239, 7446.298803], \"y\": [2791000, 3076000, 3349000, 3585000, 3819000, 4086000, 4172693, 4338977, 4256013, 3607000, 4165416, 4552198], \"z\": [1952, 1957, 1962, 1967, 1972, 1977, 1982, 1987, 1992, 1997, 2002, 2007]}, {\"hovertemplate\": \"country=Bulgaria<br>gdpPercap=%{x}<br>pop=%{y}<br>year=%{z}<extra></extra>\", \"legendgroup\": \"Bulgaria\", \"line\": {\"color\": \"#FFA15A\", \"dash\": \"solid\"}, \"mode\": \"lines\", \"name\": \"Bulgaria\", \"scene\": \"scene\", \"showlegend\": true, \"type\": \"scatter3d\", \"x\": [2444.286648, 3008.670727, 4254.337839, 5577.0028, 6597.494398, 7612.240438, 8224.191647, 8239.854824, 6302.623438, 5970.38876, 7696.777725, 10680.79282], \"y\": [7274900, 7651254, 8012946, 8310226, 8576200, 8797022, 8892098, 8971958, 8658506, 8066057, 7661799, 7322858], \"z\": [1952, 1957, 1962, 1967, 1972, 1977, 1982, 1987, 1992, 1997, 2002, 2007]}, {\"hovertemplate\": \"country=Croatia<br>gdpPercap=%{x}<br>pop=%{y}<br>year=%{z}<extra></extra>\", \"legendgroup\": \"Croatia\", \"line\": {\"color\": \"#19d3f3\", \"dash\": \"solid\"}, \"mode\": \"lines\", \"name\": \"Croatia\", \"scene\": \"scene\", \"showlegend\": true, \"type\": \"scatter3d\", \"x\": [3119.23652, 4338.231617, 5477.890018, 6960.297861, 9164.090127, 11305.38517, 13221.82184, 13822.58394, 8447.794873, 9875.604515, 11628.38895, 14619.22272], \"y\": [3882229, 3991242, 4076557, 4174366, 4225310, 4318673, 4413368, 4484310, 4494013, 4444595, 4481020, 4493312], \"z\": [1952, 1957, 1962, 1967, 1972, 1977, 1982, 1987, 1992, 1997, 2002, 2007]}, {\"hovertemplate\": \"country=Czech Republic<br>gdpPercap=%{x}<br>pop=%{y}<br>year=%{z}<extra></extra>\", \"legendgroup\": \"Czech Republic\", \"line\": {\"color\": \"#FF6692\", \"dash\": \"solid\"}, \"mode\": \"lines\", \"name\": \"Czech Republic\", \"scene\": \"scene\", \"showlegend\": true, \"type\": \"scatter3d\", \"x\": [6876.14025, 8256.343918, 10136.86713, 11399.44489, 13108.4536, 14800.16062, 15377.22855, 16310.4434, 14297.02122, 16048.51424, 17596.21022, 22833.30851], \"y\": [9125183, 9513758, 9620282, 9835109, 9862158, 10161915, 10303704, 10311597, 10315702, 10300707, 10256295, 10228744], \"z\": [1952, 1957, 1962, 1967, 1972, 1977, 1982, 1987, 1992, 1997, 2002, 2007]}, {\"hovertemplate\": \"country=Denmark<br>gdpPercap=%{x}<br>pop=%{y}<br>year=%{z}<extra></extra>\", \"legendgroup\": \"Denmark\", \"line\": {\"color\": \"#B6E880\", \"dash\": \"solid\"}, \"mode\": \"lines\", \"name\": \"Denmark\", \"scene\": \"scene\", \"showlegend\": true, \"type\": \"scatter3d\", \"x\": [9692.385245, 11099.65935, 13583.31351, 15937.21123, 18866.20721, 20422.9015, 21688.04048, 25116.17581, 26406.73985, 29804.34567, 32166.50006, 35278.41874], \"y\": [4334000, 4487831, 4646899, 4838800, 4991596, 5088419, 5117810, 5127024, 5171393, 5283663, 5374693, 5468120], \"z\": [1952, 1957, 1962, 1967, 1972, 1977, 1982, 1987, 1992, 1997, 2002, 2007]}, {\"hovertemplate\": \"country=Finland<br>gdpPercap=%{x}<br>pop=%{y}<br>year=%{z}<extra></extra>\", \"legendgroup\": \"Finland\", \"line\": {\"color\": \"#FF97FF\", \"dash\": \"solid\"}, \"mode\": \"lines\", \"name\": \"Finland\", \"scene\": \"scene\", \"showlegend\": true, \"type\": \"scatter3d\", \"x\": [6424.519071, 7545.415386, 9371.842561, 10921.63626, 14358.8759, 15605.42283, 18533.15761, 21141.01223, 20647.16499, 23723.9502, 28204.59057, 33207.0844], \"y\": [4090500, 4324000, 4491443, 4605744, 4639657, 4738902, 4826933, 4931729, 5041039, 5134406, 5193039, 5238460], \"z\": [1952, 1957, 1962, 1967, 1972, 1977, 1982, 1987, 1992, 1997, 2002, 2007]}, {\"hovertemplate\": \"country=France<br>gdpPercap=%{x}<br>pop=%{y}<br>year=%{z}<extra></extra>\", \"legendgroup\": \"France\", \"line\": {\"color\": \"#FECB52\", \"dash\": \"solid\"}, \"mode\": \"lines\", \"name\": \"France\", \"scene\": \"scene\", \"showlegend\": true, \"type\": \"scatter3d\", \"x\": [7029.809327, 8662.834898, 10560.48553, 12999.91766, 16107.19171, 18292.63514, 20293.89746, 22066.44214, 24703.79615, 25889.78487, 28926.03234, 30470.0167], \"y\": [42459667, 44310863, 47124000, 49569000, 51732000, 53165019, 54433565, 55630100, 57374179, 58623428, 59925035, 61083916], \"z\": [1952, 1957, 1962, 1967, 1972, 1977, 1982, 1987, 1992, 1997, 2002, 2007]}, {\"hovertemplate\": \"country=Germany<br>gdpPercap=%{x}<br>pop=%{y}<br>year=%{z}<extra></extra>\", \"legendgroup\": \"Germany\", \"line\": {\"color\": \"#636efa\", \"dash\": \"solid\"}, \"mode\": \"lines\", \"name\": \"Germany\", \"scene\": \"scene\", \"showlegend\": true, \"type\": \"scatter3d\", \"x\": [7144.114393, 10187.82665, 12902.46291, 14745.62561, 18016.18027, 20512.92123, 22031.53274, 24639.18566, 26505.30317, 27788.88416, 30035.80198, 32170.37442], \"y\": [69145952, 71019069, 73739117, 76368453, 78717088, 78160773, 78335266, 77718298, 80597764, 82011073, 82350671, 82400996], \"z\": [1952, 1957, 1962, 1967, 1972, 1977, 1982, 1987, 1992, 1997, 2002, 2007]}, {\"hovertemplate\": \"country=Greece<br>gdpPercap=%{x}<br>pop=%{y}<br>year=%{z}<extra></extra>\", \"legendgroup\": \"Greece\", \"line\": {\"color\": \"#EF553B\", \"dash\": \"solid\"}, \"mode\": \"lines\", \"name\": \"Greece\", \"scene\": \"scene\", \"showlegend\": true, \"type\": \"scatter3d\", \"x\": [3530.690067, 4916.299889, 6017.190733, 8513.097016, 12724.82957, 14195.52428, 15268.42089, 16120.52839, 17541.49634, 18747.69814, 22514.2548, 27538.41188], \"y\": [7733250, 8096218, 8448233, 8716441, 8888628, 9308479, 9786480, 9974490, 10325429, 10502372, 10603863, 10706290], \"z\": [1952, 1957, 1962, 1967, 1972, 1977, 1982, 1987, 1992, 1997, 2002, 2007]}, {\"hovertemplate\": \"country=Hungary<br>gdpPercap=%{x}<br>pop=%{y}<br>year=%{z}<extra></extra>\", \"legendgroup\": \"Hungary\", \"line\": {\"color\": \"#00cc96\", \"dash\": \"solid\"}, \"mode\": \"lines\", \"name\": \"Hungary\", \"scene\": \"scene\", \"showlegend\": true, \"type\": \"scatter3d\", \"x\": [5263.673816, 6040.180011, 7550.359877, 9326.64467, 10168.65611, 11674.83737, 12545.99066, 12986.47998, 10535.62855, 11712.7768, 14843.93556, 18008.94444], \"y\": [9504000, 9839000, 10063000, 10223422, 10394091, 10637171, 10705535, 10612740, 10348684, 10244684, 10083313, 9956108], \"z\": [1952, 1957, 1962, 1967, 1972, 1977, 1982, 1987, 1992, 1997, 2002, 2007]}, {\"hovertemplate\": \"country=Iceland<br>gdpPercap=%{x}<br>pop=%{y}<br>year=%{z}<extra></extra>\", \"legendgroup\": \"Iceland\", \"line\": {\"color\": \"#ab63fa\", \"dash\": \"solid\"}, \"mode\": \"lines\", \"name\": \"Iceland\", \"scene\": \"scene\", \"showlegend\": true, \"type\": \"scatter3d\", \"x\": [7267.688428, 9244.001412, 10350.15906, 13319.89568, 15798.06362, 19654.96247, 23269.6075, 26923.20628, 25144.39201, 28061.09966, 31163.20196, 36180.78919], \"y\": [147962, 165110, 182053, 198676, 209275, 221823, 233997, 244676, 259012, 271192, 288030, 301931], \"z\": [1952, 1957, 1962, 1967, 1972, 1977, 1982, 1987, 1992, 1997, 2002, 2007]}, {\"hovertemplate\": \"country=Ireland<br>gdpPercap=%{x}<br>pop=%{y}<br>year=%{z}<extra></extra>\", \"legendgroup\": \"Ireland\", \"line\": {\"color\": \"#FFA15A\", \"dash\": \"solid\"}, \"mode\": \"lines\", \"name\": \"Ireland\", \"scene\": \"scene\", \"showlegend\": true, \"type\": \"scatter3d\", \"x\": [5210.280328, 5599.077872, 6631.597314, 7655.568963, 9530.772896, 11150.98113, 12618.32141, 13872.86652, 17558.81555, 24521.94713, 34077.04939, 40675.99635], \"y\": [2952156, 2878220, 2830000, 2900100, 3024400, 3271900, 3480000, 3539900, 3557761, 3667233, 3879155, 4109086], \"z\": [1952, 1957, 1962, 1967, 1972, 1977, 1982, 1987, 1992, 1997, 2002, 2007]}, {\"hovertemplate\": \"country=Italy<br>gdpPercap=%{x}<br>pop=%{y}<br>year=%{z}<extra></extra>\", \"legendgroup\": \"Italy\", \"line\": {\"color\": \"#19d3f3\", \"dash\": \"solid\"}, \"mode\": \"lines\", \"name\": \"Italy\", \"scene\": \"scene\", \"showlegend\": true, \"type\": \"scatter3d\", \"x\": [4931.404155, 6248.656232, 8243.58234, 10022.40131, 12269.27378, 14255.98475, 16537.4835, 19207.23482, 22013.64486, 24675.02446, 27968.09817, 28569.7197], \"y\": [47666000, 49182000, 50843200, 52667100, 54365564, 56059245, 56535636, 56729703, 56840847, 57479469, 57926999, 58147733], \"z\": [1952, 1957, 1962, 1967, 1972, 1977, 1982, 1987, 1992, 1997, 2002, 2007]}, {\"hovertemplate\": \"country=Montenegro<br>gdpPercap=%{x}<br>pop=%{y}<br>year=%{z}<extra></extra>\", \"legendgroup\": \"Montenegro\", \"line\": {\"color\": \"#FF6692\", \"dash\": \"solid\"}, \"mode\": \"lines\", \"name\": \"Montenegro\", \"scene\": \"scene\", \"showlegend\": true, \"type\": \"scatter3d\", \"x\": [2647.585601, 3682.259903, 4649.593785, 5907.850937, 7778.414017, 9595.929905, 11222.58762, 11732.51017, 7003.339037, 6465.613349, 6557.194282, 9253.896111], \"y\": [413834, 442829, 474528, 501035, 527678, 560073, 562548, 569473, 621621, 692651, 720230, 684736], \"z\": [1952, 1957, 1962, 1967, 1972, 1977, 1982, 1987, 1992, 1997, 2002, 2007]}, {\"hovertemplate\": \"country=Netherlands<br>gdpPercap=%{x}<br>pop=%{y}<br>year=%{z}<extra></extra>\", \"legendgroup\": \"Netherlands\", \"line\": {\"color\": \"#B6E880\", \"dash\": \"solid\"}, \"mode\": \"lines\", \"name\": \"Netherlands\", \"scene\": \"scene\", \"showlegend\": true, \"type\": \"scatter3d\", \"x\": [8941.571858, 11276.19344, 12790.84956, 15363.25136, 18794.74567, 21209.0592, 21399.46046, 23651.32361, 26790.94961, 30246.13063, 33724.75778, 36797.93332], \"y\": [10381988, 11026383, 11805689, 12596822, 13329874, 13852989, 14310401, 14665278, 15174244, 15604464, 16122830, 16570613], \"z\": [1952, 1957, 1962, 1967, 1972, 1977, 1982, 1987, 1992, 1997, 2002, 2007]}, {\"hovertemplate\": \"country=Norway<br>gdpPercap=%{x}<br>pop=%{y}<br>year=%{z}<extra></extra>\", \"legendgroup\": \"Norway\", \"line\": {\"color\": \"#FF97FF\", \"dash\": \"solid\"}, \"mode\": \"lines\", \"name\": \"Norway\", \"scene\": \"scene\", \"showlegend\": true, \"type\": \"scatter3d\", \"x\": [10095.42172, 11653.97304, 13450.40151, 16361.87647, 18965.05551, 23311.34939, 26298.63531, 31540.9748, 33965.66115, 41283.16433, 44683.97525, 49357.19017], \"y\": [3327728, 3491938, 3638919, 3786019, 3933004, 4043205, 4114787, 4186147, 4286357, 4405672, 4535591, 4627926], \"z\": [1952, 1957, 1962, 1967, 1972, 1977, 1982, 1987, 1992, 1997, 2002, 2007]}, {\"hovertemplate\": \"country=Poland<br>gdpPercap=%{x}<br>pop=%{y}<br>year=%{z}<extra></extra>\", \"legendgroup\": \"Poland\", \"line\": {\"color\": \"#FECB52\", \"dash\": \"solid\"}, \"mode\": \"lines\", \"name\": \"Poland\", \"scene\": \"scene\", \"showlegend\": true, \"type\": \"scatter3d\", \"x\": [4029.329699, 4734.253019, 5338.752143, 6557.152776, 8006.506993, 9508.141454, 8451.531004, 9082.351172, 7738.881247, 10159.58368, 12002.23908, 15389.92468], \"y\": [25730551, 28235346, 30329617, 31785378, 33039545, 34621254, 36227381, 37740710, 38370697, 38654957, 38625976, 38518241], \"z\": [1952, 1957, 1962, 1967, 1972, 1977, 1982, 1987, 1992, 1997, 2002, 2007]}, {\"hovertemplate\": \"country=Portugal<br>gdpPercap=%{x}<br>pop=%{y}<br>year=%{z}<extra></extra>\", \"legendgroup\": \"Portugal\", \"line\": {\"color\": \"#636efa\", \"dash\": \"solid\"}, \"mode\": \"lines\", \"name\": \"Portugal\", \"scene\": \"scene\", \"showlegend\": true, \"type\": \"scatter3d\", \"x\": [3068.319867, 3774.571743, 4727.954889, 6361.517993, 9022.247417, 10172.48572, 11753.84291, 13039.30876, 16207.26663, 17641.03156, 19970.90787, 20509.64777], \"y\": [8526050, 8817650, 9019800, 9103000, 8970450, 9662600, 9859650, 9915289, 9927680, 10156415, 10433867, 10642836], \"z\": [1952, 1957, 1962, 1967, 1972, 1977, 1982, 1987, 1992, 1997, 2002, 2007]}, {\"hovertemplate\": \"country=Romania<br>gdpPercap=%{x}<br>pop=%{y}<br>year=%{z}<extra></extra>\", \"legendgroup\": \"Romania\", \"line\": {\"color\": \"#EF553B\", \"dash\": \"solid\"}, \"mode\": \"lines\", \"name\": \"Romania\", \"scene\": \"scene\", \"showlegend\": true, \"type\": \"scatter3d\", \"x\": [3144.613186, 3943.370225, 4734.997586, 6470.866545, 8011.414402, 9356.39724, 9605.314053, 9696.273295, 6598.409903, 7346.547557, 7885.360081, 10808.47561], \"y\": [16630000, 17829327, 18680721, 19284814, 20662648, 21658597, 22356726, 22686371, 22797027, 22562458, 22404337, 22276056], \"z\": [1952, 1957, 1962, 1967, 1972, 1977, 1982, 1987, 1992, 1997, 2002, 2007]}, {\"hovertemplate\": \"country=Serbia<br>gdpPercap=%{x}<br>pop=%{y}<br>year=%{z}<extra></extra>\", \"legendgroup\": \"Serbia\", \"line\": {\"color\": \"#00cc96\", \"dash\": \"solid\"}, \"mode\": \"lines\", \"name\": \"Serbia\", \"scene\": \"scene\", \"showlegend\": true, \"type\": \"scatter3d\", \"x\": [3581.459448, 4981.090891, 6289.629157, 7991.707066, 10522.06749, 12980.66956, 15181.0927, 15870.87851, 9325.068238, 7914.320304, 7236.075251, 9786.534714], \"y\": [6860147, 7271135, 7616060, 7971222, 8313288, 8686367, 9032824, 9230783, 9826397, 10336594, 10111559, 10150265], \"z\": [1952, 1957, 1962, 1967, 1972, 1977, 1982, 1987, 1992, 1997, 2002, 2007]}, {\"hovertemplate\": \"country=Slovak Republic<br>gdpPercap=%{x}<br>pop=%{y}<br>year=%{z}<extra></extra>\", \"legendgroup\": \"Slovak Republic\", \"line\": {\"color\": \"#ab63fa\", \"dash\": \"solid\"}, \"mode\": \"lines\", \"name\": \"Slovak Republic\", \"scene\": \"scene\", \"showlegend\": true, \"type\": \"scatter3d\", \"x\": [5074.659104, 6093.26298, 7481.107598, 8412.902397, 9674.167626, 10922.66404, 11348.54585, 12037.26758, 9498.467723, 12126.23065, 13638.77837, 18678.31435], \"y\": [3558137, 3844277, 4237384, 4442238, 4593433, 4827803, 5048043, 5199318, 5302888, 5383010, 5410052, 5447502], \"z\": [1952, 1957, 1962, 1967, 1972, 1977, 1982, 1987, 1992, 1997, 2002, 2007]}, {\"hovertemplate\": \"country=Slovenia<br>gdpPercap=%{x}<br>pop=%{y}<br>year=%{z}<extra></extra>\", \"legendgroup\": \"Slovenia\", \"line\": {\"color\": \"#FFA15A\", \"dash\": \"solid\"}, \"mode\": \"lines\", \"name\": \"Slovenia\", \"scene\": \"scene\", \"showlegend\": true, \"type\": \"scatter3d\", \"x\": [4215.041741, 5862.276629, 7402.303395, 9405.489397, 12383.4862, 15277.03017, 17866.72175, 18678.53492, 14214.71681, 17161.10735, 20660.01936, 25768.25759], \"y\": [1489518, 1533070, 1582962, 1646912, 1694510, 1746919, 1861252, 1945870, 1999210, 2011612, 2011497, 2009245], \"z\": [1952, 1957, 1962, 1967, 1972, 1977, 1982, 1987, 1992, 1997, 2002, 2007]}, {\"hovertemplate\": \"country=Spain<br>gdpPercap=%{x}<br>pop=%{y}<br>year=%{z}<extra></extra>\", \"legendgroup\": \"Spain\", \"line\": {\"color\": \"#19d3f3\", \"dash\": \"solid\"}, \"mode\": \"lines\", \"name\": \"Spain\", \"scene\": \"scene\", \"showlegend\": true, \"type\": \"scatter3d\", \"x\": [3834.034742, 4564.80241, 5693.843879, 7993.512294, 10638.75131, 13236.92117, 13926.16997, 15764.98313, 18603.06452, 20445.29896, 24835.47166, 28821.0637], \"y\": [28549870, 29841614, 31158061, 32850275, 34513161, 36439000, 37983310, 38880702, 39549438, 39855442, 40152517, 40448191], \"z\": [1952, 1957, 1962, 1967, 1972, 1977, 1982, 1987, 1992, 1997, 2002, 2007]}, {\"hovertemplate\": \"country=Sweden<br>gdpPercap=%{x}<br>pop=%{y}<br>year=%{z}<extra></extra>\", \"legendgroup\": \"Sweden\", \"line\": {\"color\": \"#FF6692\", \"dash\": \"solid\"}, \"mode\": \"lines\", \"name\": \"Sweden\", \"scene\": \"scene\", \"showlegend\": true, \"type\": \"scatter3d\", \"x\": [8527.844662, 9911.878226, 12329.44192, 15258.29697, 17832.02464, 18855.72521, 20667.38125, 23586.92927, 23880.01683, 25266.59499, 29341.63093, 33859.74835], \"y\": [7124673, 7363802, 7561588, 7867931, 8122293, 8251648, 8325260, 8421403, 8718867, 8897619, 8954175, 9031088], \"z\": [1952, 1957, 1962, 1967, 1972, 1977, 1982, 1987, 1992, 1997, 2002, 2007]}, {\"hovertemplate\": \"country=Switzerland<br>gdpPercap=%{x}<br>pop=%{y}<br>year=%{z}<extra></extra>\", \"legendgroup\": \"Switzerland\", \"line\": {\"color\": \"#B6E880\", \"dash\": \"solid\"}, \"mode\": \"lines\", \"name\": \"Switzerland\", \"scene\": \"scene\", \"showlegend\": true, \"type\": \"scatter3d\", \"x\": [14734.23275, 17909.48973, 20431.0927, 22966.14432, 27195.11304, 26982.29052, 28397.71512, 30281.70459, 31871.5303, 32135.32301, 34480.95771, 37506.41907], \"y\": [4815000, 5126000, 5666000, 6063000, 6401400, 6316424, 6468126, 6649942, 6995447, 7193761, 7361757, 7554661], \"z\": [1952, 1957, 1962, 1967, 1972, 1977, 1982, 1987, 1992, 1997, 2002, 2007]}, {\"hovertemplate\": \"country=Turkey<br>gdpPercap=%{x}<br>pop=%{y}<br>year=%{z}<extra></extra>\", \"legendgroup\": \"Turkey\", \"line\": {\"color\": \"#FF97FF\", \"dash\": \"solid\"}, \"mode\": \"lines\", \"name\": \"Turkey\", \"scene\": \"scene\", \"showlegend\": true, \"type\": \"scatter3d\", \"x\": [1969.10098, 2218.754257, 2322.869908, 2826.356387, 3450.69638, 4269.122326, 4241.356344, 5089.043686, 5678.348271, 6601.429915, 6508.085718, 8458.276384], \"y\": [22235677, 25670939, 29788695, 33411317, 37492953, 42404033, 47328791, 52881328, 58179144, 63047647, 67308928, 71158647], \"z\": [1952, 1957, 1962, 1967, 1972, 1977, 1982, 1987, 1992, 1997, 2002, 2007]}, {\"hovertemplate\": \"country=United Kingdom<br>gdpPercap=%{x}<br>pop=%{y}<br>year=%{z}<extra></extra>\", \"legendgroup\": \"United Kingdom\", \"line\": {\"color\": \"#FECB52\", \"dash\": \"solid\"}, \"mode\": \"lines\", \"name\": \"United Kingdom\", \"scene\": \"scene\", \"showlegend\": true, \"type\": \"scatter3d\", \"x\": [9979.508487, 11283.17795, 12477.17707, 14142.85089, 15895.11641, 17428.74846, 18232.42452, 21664.78767, 22705.09254, 26074.53136, 29478.99919, 33203.26128], \"y\": [50430000, 51430000, 53292000, 54959000, 56079000, 56179000, 56339704, 56981620, 57866349, 58808266, 59912431, 60776238], \"z\": [1952, 1957, 1962, 1967, 1972, 1977, 1982, 1987, 1992, 1997, 2002, 2007]}],                        {\"legend\": {\"title\": {\"text\": \"country\"}, \"tracegroupgap\": 0}, \"margin\": {\"t\": 60}, \"scene\": {\"domain\": {\"x\": [0.0, 1.0], \"y\": [0.0, 1.0]}, \"xaxis\": {\"title\": {\"text\": \"gdpPercap\"}}, \"yaxis\": {\"title\": {\"text\": \"pop\"}}, \"zaxis\": {\"title\": {\"text\": \"year\"}}}, \"template\": {\"data\": {\"bar\": [{\"error_x\": {\"color\": \"#2a3f5f\"}, \"error_y\": {\"color\": \"#2a3f5f\"}, \"marker\": {\"line\": {\"color\": \"#E5ECF6\", \"width\": 0.5}}, \"type\": \"bar\"}], \"barpolar\": [{\"marker\": {\"line\": {\"color\": \"#E5ECF6\", \"width\": 0.5}}, \"type\": \"barpolar\"}], \"carpet\": [{\"aaxis\": {\"endlinecolor\": \"#2a3f5f\", \"gridcolor\": \"white\", \"linecolor\": \"white\", \"minorgridcolor\": \"white\", \"startlinecolor\": \"#2a3f5f\"}, \"baxis\": {\"endlinecolor\": \"#2a3f5f\", \"gridcolor\": \"white\", \"linecolor\": \"white\", \"minorgridcolor\": \"white\", \"startlinecolor\": \"#2a3f5f\"}, \"type\": \"carpet\"}], \"choropleth\": [{\"colorbar\": {\"outlinewidth\": 0, \"ticks\": \"\"}, \"type\": \"choropleth\"}], \"contour\": [{\"colorbar\": {\"outlinewidth\": 0, \"ticks\": \"\"}, \"colorscale\": [[0.0, \"#0d0887\"], [0.1111111111111111, \"#46039f\"], [0.2222222222222222, \"#7201a8\"], [0.3333333333333333, \"#9c179e\"], [0.4444444444444444, \"#bd3786\"], [0.5555555555555556, \"#d8576b\"], [0.6666666666666666, \"#ed7953\"], [0.7777777777777778, \"#fb9f3a\"], [0.8888888888888888, \"#fdca26\"], [1.0, \"#f0f921\"]], \"type\": \"contour\"}], \"contourcarpet\": [{\"colorbar\": {\"outlinewidth\": 0, \"ticks\": \"\"}, \"type\": \"contourcarpet\"}], \"heatmap\": [{\"colorbar\": {\"outlinewidth\": 0, \"ticks\": \"\"}, \"colorscale\": [[0.0, \"#0d0887\"], [0.1111111111111111, \"#46039f\"], [0.2222222222222222, \"#7201a8\"], [0.3333333333333333, \"#9c179e\"], [0.4444444444444444, \"#bd3786\"], [0.5555555555555556, \"#d8576b\"], [0.6666666666666666, \"#ed7953\"], [0.7777777777777778, \"#fb9f3a\"], [0.8888888888888888, \"#fdca26\"], [1.0, \"#f0f921\"]], \"type\": \"heatmap\"}], \"heatmapgl\": [{\"colorbar\": {\"outlinewidth\": 0, \"ticks\": \"\"}, \"colorscale\": [[0.0, \"#0d0887\"], [0.1111111111111111, \"#46039f\"], [0.2222222222222222, \"#7201a8\"], [0.3333333333333333, \"#9c179e\"], [0.4444444444444444, \"#bd3786\"], [0.5555555555555556, \"#d8576b\"], [0.6666666666666666, \"#ed7953\"], [0.7777777777777778, \"#fb9f3a\"], [0.8888888888888888, \"#fdca26\"], [1.0, \"#f0f921\"]], \"type\": \"heatmapgl\"}], \"histogram\": [{\"marker\": {\"colorbar\": {\"outlinewidth\": 0, \"ticks\": \"\"}}, \"type\": \"histogram\"}], \"histogram2d\": [{\"colorbar\": {\"outlinewidth\": 0, \"ticks\": \"\"}, \"colorscale\": [[0.0, \"#0d0887\"], [0.1111111111111111, \"#46039f\"], [0.2222222222222222, \"#7201a8\"], [0.3333333333333333, \"#9c179e\"], [0.4444444444444444, \"#bd3786\"], [0.5555555555555556, \"#d8576b\"], [0.6666666666666666, \"#ed7953\"], [0.7777777777777778, \"#fb9f3a\"], [0.8888888888888888, \"#fdca26\"], [1.0, \"#f0f921\"]], \"type\": \"histogram2d\"}], \"histogram2dcontour\": [{\"colorbar\": {\"outlinewidth\": 0, \"ticks\": \"\"}, \"colorscale\": [[0.0, \"#0d0887\"], [0.1111111111111111, \"#46039f\"], [0.2222222222222222, \"#7201a8\"], [0.3333333333333333, \"#9c179e\"], [0.4444444444444444, \"#bd3786\"], [0.5555555555555556, \"#d8576b\"], [0.6666666666666666, \"#ed7953\"], [0.7777777777777778, \"#fb9f3a\"], [0.8888888888888888, \"#fdca26\"], [1.0, \"#f0f921\"]], \"type\": \"histogram2dcontour\"}], \"mesh3d\": [{\"colorbar\": {\"outlinewidth\": 0, \"ticks\": \"\"}, \"type\": \"mesh3d\"}], \"parcoords\": [{\"line\": {\"colorbar\": {\"outlinewidth\": 0, \"ticks\": \"\"}}, \"type\": \"parcoords\"}], \"pie\": [{\"automargin\": true, \"type\": \"pie\"}], \"scatter\": [{\"marker\": {\"colorbar\": {\"outlinewidth\": 0, \"ticks\": \"\"}}, \"type\": \"scatter\"}], \"scatter3d\": [{\"line\": {\"colorbar\": {\"outlinewidth\": 0, \"ticks\": \"\"}}, \"marker\": {\"colorbar\": {\"outlinewidth\": 0, \"ticks\": \"\"}}, \"type\": \"scatter3d\"}], \"scattercarpet\": [{\"marker\": {\"colorbar\": {\"outlinewidth\": 0, \"ticks\": \"\"}}, \"type\": \"scattercarpet\"}], \"scattergeo\": [{\"marker\": {\"colorbar\": {\"outlinewidth\": 0, \"ticks\": \"\"}}, \"type\": \"scattergeo\"}], \"scattergl\": [{\"marker\": {\"colorbar\": {\"outlinewidth\": 0, \"ticks\": \"\"}}, \"type\": \"scattergl\"}], \"scattermapbox\": [{\"marker\": {\"colorbar\": {\"outlinewidth\": 0, \"ticks\": \"\"}}, \"type\": \"scattermapbox\"}], \"scatterpolar\": [{\"marker\": {\"colorbar\": {\"outlinewidth\": 0, \"ticks\": \"\"}}, \"type\": \"scatterpolar\"}], \"scatterpolargl\": [{\"marker\": {\"colorbar\": {\"outlinewidth\": 0, \"ticks\": \"\"}}, \"type\": \"scatterpolargl\"}], \"scatterternary\": [{\"marker\": {\"colorbar\": {\"outlinewidth\": 0, \"ticks\": \"\"}}, \"type\": \"scatterternary\"}], \"surface\": [{\"colorbar\": {\"outlinewidth\": 0, \"ticks\": \"\"}, \"colorscale\": [[0.0, \"#0d0887\"], [0.1111111111111111, \"#46039f\"], [0.2222222222222222, \"#7201a8\"], [0.3333333333333333, \"#9c179e\"], [0.4444444444444444, \"#bd3786\"], [0.5555555555555556, \"#d8576b\"], [0.6666666666666666, \"#ed7953\"], [0.7777777777777778, \"#fb9f3a\"], [0.8888888888888888, \"#fdca26\"], [1.0, \"#f0f921\"]], \"type\": \"surface\"}], \"table\": [{\"cells\": {\"fill\": {\"color\": \"#EBF0F8\"}, \"line\": {\"color\": \"white\"}}, \"header\": {\"fill\": {\"color\": \"#C8D4E3\"}, \"line\": {\"color\": \"white\"}}, \"type\": \"table\"}]}, \"layout\": {\"annotationdefaults\": {\"arrowcolor\": \"#2a3f5f\", \"arrowhead\": 0, \"arrowwidth\": 1}, \"autotypenumbers\": \"strict\", \"coloraxis\": {\"colorbar\": {\"outlinewidth\": 0, \"ticks\": \"\"}}, \"colorscale\": {\"diverging\": [[0, \"#8e0152\"], [0.1, \"#c51b7d\"], [0.2, \"#de77ae\"], [0.3, \"#f1b6da\"], [0.4, \"#fde0ef\"], [0.5, \"#f7f7f7\"], [0.6, \"#e6f5d0\"], [0.7, \"#b8e186\"], [0.8, \"#7fbc41\"], [0.9, \"#4d9221\"], [1, \"#276419\"]], \"sequential\": [[0.0, \"#0d0887\"], [0.1111111111111111, \"#46039f\"], [0.2222222222222222, \"#7201a8\"], [0.3333333333333333, \"#9c179e\"], [0.4444444444444444, \"#bd3786\"], [0.5555555555555556, \"#d8576b\"], [0.6666666666666666, \"#ed7953\"], [0.7777777777777778, \"#fb9f3a\"], [0.8888888888888888, \"#fdca26\"], [1.0, \"#f0f921\"]], \"sequentialminus\": [[0.0, \"#0d0887\"], [0.1111111111111111, \"#46039f\"], [0.2222222222222222, \"#7201a8\"], [0.3333333333333333, \"#9c179e\"], [0.4444444444444444, \"#bd3786\"], [0.5555555555555556, \"#d8576b\"], [0.6666666666666666, \"#ed7953\"], [0.7777777777777778, \"#fb9f3a\"], [0.8888888888888888, \"#fdca26\"], [1.0, \"#f0f921\"]]}, \"colorway\": [\"#636efa\", \"#EF553B\", \"#00cc96\", \"#ab63fa\", \"#FFA15A\", \"#19d3f3\", \"#FF6692\", \"#B6E880\", \"#FF97FF\", \"#FECB52\"], \"font\": {\"color\": \"#2a3f5f\"}, \"geo\": {\"bgcolor\": \"white\", \"lakecolor\": \"white\", \"landcolor\": \"#E5ECF6\", \"showlakes\": true, \"showland\": true, \"subunitcolor\": \"white\"}, \"hoverlabel\": {\"align\": \"left\"}, \"hovermode\": \"closest\", \"mapbox\": {\"style\": \"light\"}, \"paper_bgcolor\": \"white\", \"plot_bgcolor\": \"#E5ECF6\", \"polar\": {\"angularaxis\": {\"gridcolor\": \"white\", \"linecolor\": \"white\", \"ticks\": \"\"}, \"bgcolor\": \"#E5ECF6\", \"radialaxis\": {\"gridcolor\": \"white\", \"linecolor\": \"white\", \"ticks\": \"\"}}, \"scene\": {\"xaxis\": {\"backgroundcolor\": \"#E5ECF6\", \"gridcolor\": \"white\", \"gridwidth\": 2, \"linecolor\": \"white\", \"showbackground\": true, \"ticks\": \"\", \"zerolinecolor\": \"white\"}, \"yaxis\": {\"backgroundcolor\": \"#E5ECF6\", \"gridcolor\": \"white\", \"gridwidth\": 2, \"linecolor\": \"white\", \"showbackground\": true, \"ticks\": \"\", \"zerolinecolor\": \"white\"}, \"zaxis\": {\"backgroundcolor\": \"#E5ECF6\", \"gridcolor\": \"white\", \"gridwidth\": 2, \"linecolor\": \"white\", \"showbackground\": true, \"ticks\": \"\", \"zerolinecolor\": \"white\"}}, \"shapedefaults\": {\"line\": {\"color\": \"#2a3f5f\"}}, \"ternary\": {\"aaxis\": {\"gridcolor\": \"white\", \"linecolor\": \"white\", \"ticks\": \"\"}, \"baxis\": {\"gridcolor\": \"white\", \"linecolor\": \"white\", \"ticks\": \"\"}, \"bgcolor\": \"#E5ECF6\", \"caxis\": {\"gridcolor\": \"white\", \"linecolor\": \"white\", \"ticks\": \"\"}}, \"title\": {\"x\": 0.05}, \"xaxis\": {\"automargin\": true, \"gridcolor\": \"white\", \"linecolor\": \"white\", \"ticks\": \"\", \"title\": {\"standoff\": 15}, \"zerolinecolor\": \"white\", \"zerolinewidth\": 2}, \"yaxis\": {\"automargin\": true, \"gridcolor\": \"white\", \"linecolor\": \"white\", \"ticks\": \"\", \"title\": {\"standoff\": 15}, \"zerolinecolor\": \"white\", \"zerolinewidth\": 2}}}, \"title\": {\"text\": \"Popula\\u00e7\\u00e3o, PIB e Ano na Europa\", \"x\": 0.5}},                        {\"responsive\": true}                    ).then(function(){\n",
       "                            \n",
       "var gd = document.getElementById('84a2f5ff-e72c-4d65-a06b-9bcc4b79afb3');\n",
       "var x = new MutationObserver(function (mutations, observer) {{\n",
       "        var display = window.getComputedStyle(gd).display;\n",
       "        if (!display || display === 'none') {{\n",
       "            console.log([gd, 'removed!']);\n",
       "            Plotly.purge(gd);\n",
       "            observer.disconnect();\n",
       "        }}\n",
       "}});\n",
       "\n",
       "// Listen for the removal of the full notebook cells\n",
       "var notebookContainer = gd.closest('#notebook-container');\n",
       "if (notebookContainer) {{\n",
       "    x.observe(notebookContainer, {childList: true});\n",
       "}}\n",
       "\n",
       "// Listen for the clearing of the current output cell\n",
       "var outputEl = gd.closest('.output');\n",
       "if (outputEl) {{\n",
       "    x.observe(outputEl, {childList: true});\n",
       "}}\n",
       "\n",
       "                        })                };                });            </script>        </div>"
      ]
     },
     "metadata": {},
     "output_type": "display_data"
    }
   ],
   "source": [
    "# Figura\n",
    "fig = px.line_3d(df, x = \"gdpPercap\", y = \"pop\", z = \"year\", color = 'country')\n",
    "\n",
    "# Layout\n",
    "fig.update_layout(title_text = 'População, PIB e Ano na Europa', title_x = 0.5)\n",
    "\n",
    "# Gráfico\n",
    "fig.show()"
   ]
  },
  {
   "cell_type": "markdown",
   "metadata": {},
   "source": [
    "# Fim"
   ]
  }
 ],
 "metadata": {
  "kernelspec": {
   "display_name": "Python 3",
   "language": "python",
   "name": "python3"
  },
  "language_info": {
   "codemirror_mode": {
    "name": "ipython",
    "version": 3
   },
   "file_extension": ".py",
   "mimetype": "text/x-python",
   "name": "python",
   "nbconvert_exporter": "python",
   "pygments_lexer": "ipython3",
   "version": "3.7.6"
  },
  "papermill": {
   "duration": 146.651939,
   "end_time": "2020-08-12T12:41:24.296019",
   "environment_variables": {},
   "exception": null,
   "input_path": "__notebook__.ipynb",
   "output_path": "__notebook__.ipynb",
   "parameters": {},
   "start_time": "2020-08-12T12:38:57.644080",
   "version": "2.1.0"
  }
 },
 "nbformat": 4,
 "nbformat_minor": 4
}
